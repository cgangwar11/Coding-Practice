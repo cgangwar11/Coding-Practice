{
  "nbformat": 4,
  "nbformat_minor": 0,
  "metadata": {
    "colab": {
      "name": "Copy of cv2.ipynb",
      "version": "0.3.2",
      "provenance": [],
      "collapsed_sections": [],
      "include_colab_link": true
    },
    "kernelspec": {
      "name": "python3",
      "display_name": "Python 3"
    },
    "accelerator": "GPU"
  },
  "cells": [
    {
      "cell_type": "markdown",
      "metadata": {
        "id": "view-in-github",
        "colab_type": "text"
      },
      "source": [
        "<a href=\"https://colab.research.google.com/github/cgangwar11/Coding-Practice/blob/master/practice_rnn.ipynb\" target=\"_parent\"><img src=\"https://colab.research.google.com/assets/colab-badge.svg\" alt=\"Open In Colab\"/></a>"
      ]
    },
    {
      "metadata": {
        "id": "fvKulXMK44V5",
        "colab_type": "code",
        "outputId": "66b3ba22-7e3a-4f11-fff4-e3832f64cb9f",
        "colab": {
          "base_uri": "https://localhost:8080/",
          "height": 210
        }
      },
      "cell_type": "code",
      "source": [
        "!wget https://download.pytorch.org/tutorial/data.zip"
      ],
      "execution_count": 1,
      "outputs": [
        {
          "output_type": "stream",
          "text": [
            "--2019-03-30 08:18:38--  https://download.pytorch.org/tutorial/data.zip\n",
            "Resolving download.pytorch.org (download.pytorch.org)... 54.230.75.71, 54.230.75.21, 54.230.75.45, ...\n",
            "Connecting to download.pytorch.org (download.pytorch.org)|54.230.75.71|:443... connected.\n",
            "HTTP request sent, awaiting response... 200 OK\n",
            "Length: 2882130 (2.7M) [application/zip]\n",
            "Saving to: ‘data.zip.2’\n",
            "\n",
            "\rdata.zip.2            0%[                    ]       0  --.-KB/s               \rdata.zip.2          100%[===================>]   2.75M  --.-KB/s    in 0.09s   \n",
            "\n",
            "2019-03-30 08:18:39 (31.9 MB/s) - ‘data.zip.2’ saved [2882130/2882130]\n",
            "\n"
          ],
          "name": "stdout"
        }
      ]
    },
    {
      "metadata": {
        "id": "H83MQHsrYzwo",
        "colab_type": "code",
        "outputId": "f4f28336-b925-4616-98ee-57a2ce5b0a5f",
        "colab": {
          "base_uri": "https://localhost:8080/",
          "height": 122
        }
      },
      "cell_type": "code",
      "source": [
        "!unzip data.zip"
      ],
      "execution_count": 2,
      "outputs": [
        {
          "output_type": "stream",
          "text": [
            "Archive:  data.zip\n",
            "replace data/eng-fra.txt? [y]es, [n]o, [A]ll, [N]one, [r]ename: n\n",
            "replace data/names/Arabic.txt? [y]es, [n]o, [A]ll, [N]one, [r]ename: n\n",
            "replace data/names/Chinese.txt? [y]es, [n]o, [A]ll, [N]one, [r]ename: n\n",
            "replace data/names/Czech.txt? [y]es, [n]o, [A]ll, [N]one, [r]ename: n\n",
            "replace data/names/Dutch.txt? [y]es, [n]o, [A]ll, [N]one, [r]ename: N\n"
          ],
          "name": "stdout"
        }
      ]
    },
    {
      "metadata": {
        "id": "xg0xcFPi47eE",
        "colab_type": "code",
        "outputId": "d5a85f3e-1f40-4e41-8e83-70f666ccf3c0",
        "colab": {
          "base_uri": "https://localhost:8080/",
          "height": 34
        }
      },
      "cell_type": "code",
      "source": [
        "!ls data/"
      ],
      "execution_count": 3,
      "outputs": [
        {
          "output_type": "stream",
          "text": [
            "eng-fra.txt  names\n"
          ],
          "name": "stdout"
        }
      ]
    },
    {
      "metadata": {
        "id": "VMLd0QIH5NBv",
        "colab_type": "text"
      },
      "cell_type": "markdown",
      "source": [
        "### Data Preprocessing\n"
      ]
    },
    {
      "metadata": {
        "id": "GVH0_8iqQsNh",
        "colab_type": "code",
        "colab": {}
      },
      "cell_type": "code",
      "source": [
        "import torch.nn as nn\n",
        "import torch.nn.functional as F\n",
        "import torch\n",
        "from torch.utils.data import *"
      ],
      "execution_count": 0,
      "outputs": []
    },
    {
      "metadata": {
        "id": "CJO9WV2QQcwr",
        "colab_type": "code",
        "colab": {}
      },
      "cell_type": "code",
      "source": [
        "import cv2\n",
        "import numpy as np\n",
        "import torch\n",
        "import matplotlib.pyplot as plt"
      ],
      "execution_count": 0,
      "outputs": []
    },
    {
      "metadata": {
        "id": "RyWa5j5H5KWq",
        "colab_type": "code",
        "colab": {}
      },
      "cell_type": "code",
      "source": [
        "import glob\n",
        "import unicodedata\n",
        "import string\n",
        "\n",
        "\n"
      ],
      "execution_count": 0,
      "outputs": []
    },
    {
      "metadata": {
        "id": "ukVkVbQk8MEq",
        "colab_type": "text"
      },
      "cell_type": "markdown",
      "source": [
        ""
      ]
    },
    {
      "metadata": {
        "id": "toXkv36m5cQA",
        "colab_type": "code",
        "colab": {}
      },
      "cell_type": "code",
      "source": [
        "file_list = glob.glob('data/names/*.txt')"
      ],
      "execution_count": 0,
      "outputs": []
    },
    {
      "metadata": {
        "id": "DpRWHpcG8Nvq",
        "colab_type": "code",
        "colab": {}
      },
      "cell_type": "code",
      "source": [
        "all_letters = string.ascii_letters + \" .,;'\"\n",
        "n_letters = len(all_letters)\n",
        "\n",
        "def unicode_to_ascii(s):\n",
        "    return ''.join(\n",
        "        c for c in unicodedata.normalize('NFD', s)\n",
        "        if unicodedata.category(c) != 'Mn'\n",
        "        and c in all_letters\n",
        "    )"
      ],
      "execution_count": 0,
      "outputs": []
    },
    {
      "metadata": {
        "id": "o9qf1TaJ5iYp",
        "colab_type": "code",
        "colab": {}
      },
      "cell_type": "code",
      "source": [
        "file = open(file_list[0],'r')"
      ],
      "execution_count": 0,
      "outputs": []
    },
    {
      "metadata": {
        "id": "oGQq-HBp5ynu",
        "colab_type": "code",
        "colab": {}
      },
      "cell_type": "code",
      "source": [
        "out = list(file.readlines())"
      ],
      "execution_count": 0,
      "outputs": []
    },
    {
      "metadata": {
        "id": "ywdCdusl6Cpo",
        "colab_type": "code",
        "colab": {}
      },
      "cell_type": "code",
      "source": [
        "def readlines(filename):\n",
        "    out = open(filename).read().strip().split('\\n')\n",
        "    return [unicode_to_ascii(i) for i in out]\n",
        "\n"
      ],
      "execution_count": 0,
      "outputs": []
    },
    {
      "metadata": {
        "id": "wxmmrDg27cJ3",
        "colab_type": "code",
        "colab": {}
      },
      "cell_type": "code",
      "source": [
        "all_categories = []\n",
        "names = {}\n",
        "category_to_int = {}\n",
        "for file in file_list:\n",
        "    category = file.split('/')[-1].split('.txt')[0]\n",
        "    category = category.strip().lower()\n",
        "    names[category] = readlines(file)\n",
        "    all_categories.append(category)"
      ],
      "execution_count": 0,
      "outputs": []
    },
    {
      "metadata": {
        "id": "BTZPximz9Jaw",
        "colab_type": "code",
        "colab": {}
      },
      "cell_type": "code",
      "source": [
        "category_to_int = {j:i for i,j in enumerate(all_categories)}\n",
        "all_letters_to_int = {j:i for i,j in enumerate(all_letters)}\n",
        "def category_to_tensor(i):\n",
        "    out=torch.zeros((1,len(all_categories)))\n",
        "    out[0,category_to_int[i]]=1\n",
        "    return out\n",
        "\n",
        "def word_to_tensor(word):\n",
        "    out = []\n",
        "    for i in range(15):\n",
        "        try:\n",
        "            pp =np.zeros((1,len(all_letters)))\n",
        "            index = all_letters_to_int[word[i]]\n",
        "            pp[0,index]=1\n",
        "           # print(pp)\n",
        "            out.append(pp)\n",
        "        except:\n",
        "            t=np.zeros((1,len(all_letters)))\n",
        "            t[0,52]=1\n",
        "            out.append(t)\n",
        "    out=np.array(out)\n",
        "    return torch.Tensor(out).view(15,len(all_letters))\n",
        "        \n",
        "        "
      ],
      "execution_count": 0,
      "outputs": []
    },
    {
      "metadata": {
        "id": "yzN13AQclVcJ",
        "colab_type": "code",
        "colab": {
          "base_uri": "https://localhost:8080/",
          "height": 54
        },
        "outputId": "33550e79-406b-4fc8-ce54-dc62d70f64c5"
      },
      "cell_type": "code",
      "source": [
        "print(all_letters_to_int)"
      ],
      "execution_count": 14,
      "outputs": [
        {
          "output_type": "stream",
          "text": [
            "{'a': 0, 'b': 1, 'c': 2, 'd': 3, 'e': 4, 'f': 5, 'g': 6, 'h': 7, 'i': 8, 'j': 9, 'k': 10, 'l': 11, 'm': 12, 'n': 13, 'o': 14, 'p': 15, 'q': 16, 'r': 17, 's': 18, 't': 19, 'u': 20, 'v': 21, 'w': 22, 'x': 23, 'y': 24, 'z': 25, 'A': 26, 'B': 27, 'C': 28, 'D': 29, 'E': 30, 'F': 31, 'G': 32, 'H': 33, 'I': 34, 'J': 35, 'K': 36, 'L': 37, 'M': 38, 'N': 39, 'O': 40, 'P': 41, 'Q': 42, 'R': 43, 'S': 44, 'T': 45, 'U': 46, 'V': 47, 'W': 48, 'X': 49, 'Y': 50, 'Z': 51, ' ': 52, '.': 53, ',': 54, ';': 55, \"'\": 56}\n"
          ],
          "name": "stdout"
        }
      ]
    },
    {
      "metadata": {
        "id": "dylb1ao7jMlz",
        "colab_type": "code",
        "colab": {
          "base_uri": "https://localhost:8080/",
          "height": 140
        },
        "outputId": "e5263e15-2f92-4f0a-f3ab-0ffe99cc6eb4"
      },
      "cell_type": "code",
      "source": [
        "np.zeros((1,100))"
      ],
      "execution_count": 15,
      "outputs": [
        {
          "output_type": "execute_result",
          "data": {
            "text/plain": [
              "array([[0., 0., 0., 0., 0., 0., 0., 0., 0., 0., 0., 0., 0., 0., 0., 0.,\n",
              "        0., 0., 0., 0., 0., 0., 0., 0., 0., 0., 0., 0., 0., 0., 0., 0.,\n",
              "        0., 0., 0., 0., 0., 0., 0., 0., 0., 0., 0., 0., 0., 0., 0., 0.,\n",
              "        0., 0., 0., 0., 0., 0., 0., 0., 0., 0., 0., 0., 0., 0., 0., 0.,\n",
              "        0., 0., 0., 0., 0., 0., 0., 0., 0., 0., 0., 0., 0., 0., 0., 0.,\n",
              "        0., 0., 0., 0., 0., 0., 0., 0., 0., 0., 0., 0., 0., 0., 0., 0.,\n",
              "        0., 0., 0., 0.]])"
            ]
          },
          "metadata": {
            "tags": []
          },
          "execution_count": 15
        }
      ]
    },
    {
      "metadata": {
        "id": "9Z0ona2fiE9g",
        "colab_type": "code",
        "colab": {
          "base_uri": "https://localhost:8080/",
          "height": 34
        },
        "outputId": "b6a88155-7bf8-40a7-dc4b-2ce799326386"
      },
      "cell_type": "code",
      "source": [
        "word_to_tensor('Chandan').shape"
      ],
      "execution_count": 16,
      "outputs": [
        {
          "output_type": "execute_result",
          "data": {
            "text/plain": [
              "torch.Size([15, 57])"
            ]
          },
          "metadata": {
            "tags": []
          },
          "execution_count": 16
        }
      ]
    },
    {
      "metadata": {
        "id": "vQGC7V0nxt-4",
        "colab_type": "code",
        "colab": {}
      },
      "cell_type": "code",
      "source": [
        "class RNN(nn.Module):\n",
        "    def __init__(self,num_embedding,embedding_dim,hidden_size):\n",
        "        super(RNN,self).__init__()\n",
        "#         self.embedding = nn.Embedding(num_embeddings=num_embedding,embedding_dim=embedding_dim)\n",
        "        self.rnn = nn.RNN(input_size = embedding_dim,hidden_size=hidden_size)\n",
        "        self.linear = nn.Linear(hidden_size*15,len(all_categories))\n",
        "        \n",
        "    def forward(self,input):\n",
        "#         out = self.embedding(input)\n",
        "#         out = out.view(len(input),-1,int(len(all_letters)/2))\n",
        "        out,_ = self.rnn(input)\n",
        "        sh = out.shape\n",
        "        print(sh)\n",
        "#         out = out[:,-1,:]\n",
        "        out = self.linear(out)\n",
        "        return F.softmax(out)\n",
        "        "
      ],
      "execution_count": 0,
      "outputs": []
    },
    {
      "metadata": {
        "id": "0Nq8TkRf_s3w",
        "colab_type": "code",
        "colab": {
          "base_uri": "https://localhost:8080/",
          "height": 87
        },
        "outputId": "002c8448-b3e2-44c9-c855-2b3b54e008c1"
      },
      "cell_type": "code",
      "source": [
        "model = RNN(len(all_letters),len(all_letters),128)\n",
        "model.to(torch.device('cuda'))"
      ],
      "execution_count": 43,
      "outputs": [
        {
          "output_type": "execute_result",
          "data": {
            "text/plain": [
              "RNN(\n",
              "  (rnn): RNN(57, 128)\n",
              "  (linear): Linear(in_features=1920, out_features=18, bias=True)\n",
              ")"
            ]
          },
          "metadata": {
            "tags": []
          },
          "execution_count": 43
        }
      ]
    },
    {
      "metadata": {
        "id": "E1RqUuYU-6Yd",
        "colab_type": "code",
        "outputId": "b3f57f17-9e29-46fa-c2b7-be6899c21097",
        "colab": {
          "base_uri": "https://localhost:8080/",
          "height": 800
        }
      },
      "cell_type": "code",
      "source": [
        "model(data[0][0].unsqueeze(1).to(device))"
      ],
      "execution_count": 50,
      "outputs": [
        {
          "output_type": "stream",
          "text": [
            "torch.Size([15, 1, 128])\n"
          ],
          "name": "stdout"
        },
        {
          "output_type": "error",
          "ename": "RuntimeError",
          "evalue": "ignored",
          "traceback": [
            "\u001b[0;31m---------------------------------------------------------------------------\u001b[0m",
            "\u001b[0;31mRuntimeError\u001b[0m                              Traceback (most recent call last)",
            "\u001b[0;32m<ipython-input-50-e244571e97f3>\u001b[0m in \u001b[0;36m<module>\u001b[0;34m()\u001b[0m\n\u001b[0;32m----> 1\u001b[0;31m \u001b[0mmodel\u001b[0m\u001b[0;34m(\u001b[0m\u001b[0mdata\u001b[0m\u001b[0;34m[\u001b[0m\u001b[0;36m0\u001b[0m\u001b[0;34m]\u001b[0m\u001b[0;34m[\u001b[0m\u001b[0;36m0\u001b[0m\u001b[0;34m]\u001b[0m\u001b[0;34m.\u001b[0m\u001b[0munsqueeze\u001b[0m\u001b[0;34m(\u001b[0m\u001b[0;36m1\u001b[0m\u001b[0;34m)\u001b[0m\u001b[0;34m.\u001b[0m\u001b[0mto\u001b[0m\u001b[0;34m(\u001b[0m\u001b[0mdevice\u001b[0m\u001b[0;34m)\u001b[0m\u001b[0;34m)\u001b[0m\u001b[0;34m\u001b[0m\u001b[0;34m\u001b[0m\u001b[0m\n\u001b[0m",
            "\u001b[0;32m/usr/local/lib/python3.6/dist-packages/torch/nn/modules/module.py\u001b[0m in \u001b[0;36m__call__\u001b[0;34m(self, *input, **kwargs)\u001b[0m\n\u001b[1;32m    487\u001b[0m             \u001b[0mresult\u001b[0m \u001b[0;34m=\u001b[0m \u001b[0mself\u001b[0m\u001b[0;34m.\u001b[0m\u001b[0m_slow_forward\u001b[0m\u001b[0;34m(\u001b[0m\u001b[0;34m*\u001b[0m\u001b[0minput\u001b[0m\u001b[0;34m,\u001b[0m \u001b[0;34m**\u001b[0m\u001b[0mkwargs\u001b[0m\u001b[0;34m)\u001b[0m\u001b[0;34m\u001b[0m\u001b[0;34m\u001b[0m\u001b[0m\n\u001b[1;32m    488\u001b[0m         \u001b[0;32melse\u001b[0m\u001b[0;34m:\u001b[0m\u001b[0;34m\u001b[0m\u001b[0;34m\u001b[0m\u001b[0m\n\u001b[0;32m--> 489\u001b[0;31m             \u001b[0mresult\u001b[0m \u001b[0;34m=\u001b[0m \u001b[0mself\u001b[0m\u001b[0;34m.\u001b[0m\u001b[0mforward\u001b[0m\u001b[0;34m(\u001b[0m\u001b[0;34m*\u001b[0m\u001b[0minput\u001b[0m\u001b[0;34m,\u001b[0m \u001b[0;34m**\u001b[0m\u001b[0mkwargs\u001b[0m\u001b[0;34m)\u001b[0m\u001b[0;34m\u001b[0m\u001b[0;34m\u001b[0m\u001b[0m\n\u001b[0m\u001b[1;32m    490\u001b[0m         \u001b[0;32mfor\u001b[0m \u001b[0mhook\u001b[0m \u001b[0;32min\u001b[0m \u001b[0mself\u001b[0m\u001b[0;34m.\u001b[0m\u001b[0m_forward_hooks\u001b[0m\u001b[0;34m.\u001b[0m\u001b[0mvalues\u001b[0m\u001b[0;34m(\u001b[0m\u001b[0;34m)\u001b[0m\u001b[0;34m:\u001b[0m\u001b[0;34m\u001b[0m\u001b[0;34m\u001b[0m\u001b[0m\n\u001b[1;32m    491\u001b[0m             \u001b[0mhook_result\u001b[0m \u001b[0;34m=\u001b[0m \u001b[0mhook\u001b[0m\u001b[0;34m(\u001b[0m\u001b[0mself\u001b[0m\u001b[0;34m,\u001b[0m \u001b[0minput\u001b[0m\u001b[0;34m,\u001b[0m \u001b[0mresult\u001b[0m\u001b[0;34m)\u001b[0m\u001b[0;34m\u001b[0m\u001b[0;34m\u001b[0m\u001b[0m\n",
            "\u001b[0;32m<ipython-input-42-7b55a9cb48e3>\u001b[0m in \u001b[0;36mforward\u001b[0;34m(self, input)\u001b[0m\n\u001b[1;32m     13\u001b[0m         \u001b[0mprint\u001b[0m\u001b[0;34m(\u001b[0m\u001b[0msh\u001b[0m\u001b[0;34m)\u001b[0m\u001b[0;34m\u001b[0m\u001b[0;34m\u001b[0m\u001b[0m\n\u001b[1;32m     14\u001b[0m \u001b[0;31m#         out = out[:,-1,:]\u001b[0m\u001b[0;34m\u001b[0m\u001b[0;34m\u001b[0m\u001b[0;34m\u001b[0m\u001b[0m\n\u001b[0;32m---> 15\u001b[0;31m         \u001b[0mout\u001b[0m \u001b[0;34m=\u001b[0m \u001b[0mself\u001b[0m\u001b[0;34m.\u001b[0m\u001b[0mlinear\u001b[0m\u001b[0;34m(\u001b[0m\u001b[0mout\u001b[0m\u001b[0;34m)\u001b[0m\u001b[0;34m\u001b[0m\u001b[0;34m\u001b[0m\u001b[0m\n\u001b[0m\u001b[1;32m     16\u001b[0m         \u001b[0;32mreturn\u001b[0m \u001b[0mF\u001b[0m\u001b[0;34m.\u001b[0m\u001b[0msoftmax\u001b[0m\u001b[0;34m(\u001b[0m\u001b[0mout\u001b[0m\u001b[0;34m)\u001b[0m\u001b[0;34m\u001b[0m\u001b[0;34m\u001b[0m\u001b[0m\n\u001b[1;32m     17\u001b[0m \u001b[0;34m\u001b[0m\u001b[0m\n",
            "\u001b[0;32m/usr/local/lib/python3.6/dist-packages/torch/nn/modules/module.py\u001b[0m in \u001b[0;36m__call__\u001b[0;34m(self, *input, **kwargs)\u001b[0m\n\u001b[1;32m    487\u001b[0m             \u001b[0mresult\u001b[0m \u001b[0;34m=\u001b[0m \u001b[0mself\u001b[0m\u001b[0;34m.\u001b[0m\u001b[0m_slow_forward\u001b[0m\u001b[0;34m(\u001b[0m\u001b[0;34m*\u001b[0m\u001b[0minput\u001b[0m\u001b[0;34m,\u001b[0m \u001b[0;34m**\u001b[0m\u001b[0mkwargs\u001b[0m\u001b[0;34m)\u001b[0m\u001b[0;34m\u001b[0m\u001b[0;34m\u001b[0m\u001b[0m\n\u001b[1;32m    488\u001b[0m         \u001b[0;32melse\u001b[0m\u001b[0;34m:\u001b[0m\u001b[0;34m\u001b[0m\u001b[0;34m\u001b[0m\u001b[0m\n\u001b[0;32m--> 489\u001b[0;31m             \u001b[0mresult\u001b[0m \u001b[0;34m=\u001b[0m \u001b[0mself\u001b[0m\u001b[0;34m.\u001b[0m\u001b[0mforward\u001b[0m\u001b[0;34m(\u001b[0m\u001b[0;34m*\u001b[0m\u001b[0minput\u001b[0m\u001b[0;34m,\u001b[0m \u001b[0;34m**\u001b[0m\u001b[0mkwargs\u001b[0m\u001b[0;34m)\u001b[0m\u001b[0;34m\u001b[0m\u001b[0;34m\u001b[0m\u001b[0m\n\u001b[0m\u001b[1;32m    490\u001b[0m         \u001b[0;32mfor\u001b[0m \u001b[0mhook\u001b[0m \u001b[0;32min\u001b[0m \u001b[0mself\u001b[0m\u001b[0;34m.\u001b[0m\u001b[0m_forward_hooks\u001b[0m\u001b[0;34m.\u001b[0m\u001b[0mvalues\u001b[0m\u001b[0;34m(\u001b[0m\u001b[0;34m)\u001b[0m\u001b[0;34m:\u001b[0m\u001b[0;34m\u001b[0m\u001b[0;34m\u001b[0m\u001b[0m\n\u001b[1;32m    491\u001b[0m             \u001b[0mhook_result\u001b[0m \u001b[0;34m=\u001b[0m \u001b[0mhook\u001b[0m\u001b[0;34m(\u001b[0m\u001b[0mself\u001b[0m\u001b[0;34m,\u001b[0m \u001b[0minput\u001b[0m\u001b[0;34m,\u001b[0m \u001b[0mresult\u001b[0m\u001b[0;34m)\u001b[0m\u001b[0;34m\u001b[0m\u001b[0;34m\u001b[0m\u001b[0m\n",
            "\u001b[0;32m/usr/local/lib/python3.6/dist-packages/torch/nn/modules/linear.py\u001b[0m in \u001b[0;36mforward\u001b[0;34m(self, input)\u001b[0m\n\u001b[1;32m     65\u001b[0m     \u001b[0;34m@\u001b[0m\u001b[0mweak_script_method\u001b[0m\u001b[0;34m\u001b[0m\u001b[0;34m\u001b[0m\u001b[0m\n\u001b[1;32m     66\u001b[0m     \u001b[0;32mdef\u001b[0m \u001b[0mforward\u001b[0m\u001b[0;34m(\u001b[0m\u001b[0mself\u001b[0m\u001b[0;34m,\u001b[0m \u001b[0minput\u001b[0m\u001b[0;34m)\u001b[0m\u001b[0;34m:\u001b[0m\u001b[0;34m\u001b[0m\u001b[0;34m\u001b[0m\u001b[0m\n\u001b[0;32m---> 67\u001b[0;31m         \u001b[0;32mreturn\u001b[0m \u001b[0mF\u001b[0m\u001b[0;34m.\u001b[0m\u001b[0mlinear\u001b[0m\u001b[0;34m(\u001b[0m\u001b[0minput\u001b[0m\u001b[0;34m,\u001b[0m \u001b[0mself\u001b[0m\u001b[0;34m.\u001b[0m\u001b[0mweight\u001b[0m\u001b[0;34m,\u001b[0m \u001b[0mself\u001b[0m\u001b[0;34m.\u001b[0m\u001b[0mbias\u001b[0m\u001b[0;34m)\u001b[0m\u001b[0;34m\u001b[0m\u001b[0;34m\u001b[0m\u001b[0m\n\u001b[0m\u001b[1;32m     68\u001b[0m \u001b[0;34m\u001b[0m\u001b[0m\n\u001b[1;32m     69\u001b[0m     \u001b[0;32mdef\u001b[0m \u001b[0mextra_repr\u001b[0m\u001b[0;34m(\u001b[0m\u001b[0mself\u001b[0m\u001b[0;34m)\u001b[0m\u001b[0;34m:\u001b[0m\u001b[0;34m\u001b[0m\u001b[0;34m\u001b[0m\u001b[0m\n",
            "\u001b[0;32m/usr/local/lib/python3.6/dist-packages/torch/nn/functional.py\u001b[0m in \u001b[0;36mlinear\u001b[0;34m(input, weight, bias)\u001b[0m\n\u001b[1;32m   1352\u001b[0m         \u001b[0mret\u001b[0m \u001b[0;34m=\u001b[0m \u001b[0mtorch\u001b[0m\u001b[0;34m.\u001b[0m\u001b[0maddmm\u001b[0m\u001b[0;34m(\u001b[0m\u001b[0mtorch\u001b[0m\u001b[0;34m.\u001b[0m\u001b[0mjit\u001b[0m\u001b[0;34m.\u001b[0m\u001b[0m_unwrap_optional\u001b[0m\u001b[0;34m(\u001b[0m\u001b[0mbias\u001b[0m\u001b[0;34m)\u001b[0m\u001b[0;34m,\u001b[0m \u001b[0minput\u001b[0m\u001b[0;34m,\u001b[0m \u001b[0mweight\u001b[0m\u001b[0;34m.\u001b[0m\u001b[0mt\u001b[0m\u001b[0;34m(\u001b[0m\u001b[0;34m)\u001b[0m\u001b[0;34m)\u001b[0m\u001b[0;34m\u001b[0m\u001b[0;34m\u001b[0m\u001b[0m\n\u001b[1;32m   1353\u001b[0m     \u001b[0;32melse\u001b[0m\u001b[0;34m:\u001b[0m\u001b[0;34m\u001b[0m\u001b[0;34m\u001b[0m\u001b[0m\n\u001b[0;32m-> 1354\u001b[0;31m         \u001b[0moutput\u001b[0m \u001b[0;34m=\u001b[0m \u001b[0minput\u001b[0m\u001b[0;34m.\u001b[0m\u001b[0mmatmul\u001b[0m\u001b[0;34m(\u001b[0m\u001b[0mweight\u001b[0m\u001b[0;34m.\u001b[0m\u001b[0mt\u001b[0m\u001b[0;34m(\u001b[0m\u001b[0;34m)\u001b[0m\u001b[0;34m)\u001b[0m\u001b[0;34m\u001b[0m\u001b[0;34m\u001b[0m\u001b[0m\n\u001b[0m\u001b[1;32m   1355\u001b[0m         \u001b[0;32mif\u001b[0m \u001b[0mbias\u001b[0m \u001b[0;32mis\u001b[0m \u001b[0;32mnot\u001b[0m \u001b[0;32mNone\u001b[0m\u001b[0;34m:\u001b[0m\u001b[0;34m\u001b[0m\u001b[0;34m\u001b[0m\u001b[0m\n\u001b[1;32m   1356\u001b[0m             \u001b[0moutput\u001b[0m \u001b[0;34m+=\u001b[0m \u001b[0mtorch\u001b[0m\u001b[0;34m.\u001b[0m\u001b[0mjit\u001b[0m\u001b[0;34m.\u001b[0m\u001b[0m_unwrap_optional\u001b[0m\u001b[0;34m(\u001b[0m\u001b[0mbias\u001b[0m\u001b[0;34m)\u001b[0m\u001b[0;34m\u001b[0m\u001b[0;34m\u001b[0m\u001b[0m\n",
            "\u001b[0;31mRuntimeError\u001b[0m: size mismatch, m1: [15 x 128], m2: [1920 x 18] at /pytorch/aten/src/THC/generic/THCTensorMathBlas.cu:266"
          ]
        }
      ]
    },
    {
      "metadata": {
        "id": "GaQkaRq1e3ne",
        "colab_type": "code",
        "colab": {}
      },
      "cell_type": "code",
      "source": [
        "pair = []\n",
        "for key,value in names.items():\n",
        "    for name in value:\n",
        "        pair.append((key,name))"
      ],
      "execution_count": 0,
      "outputs": []
    },
    {
      "metadata": {
        "id": "XBoq-7ytZu20",
        "colab_type": "code",
        "colab": {}
      },
      "cell_type": "code",
      "source": [
        "class NameLanguageDataset(Dataset):\n",
        "    \n",
        "    def __init__(self,pair):\n",
        "        self.source = pair\n",
        "        \n",
        "    def __len__(self):\n",
        "        return len(self.source)\n",
        "    \n",
        "    def __getitem__(self,idx):\n",
        "        language,name = self.source[idx]\n",
        "        return word_to_tensor(name),category_to_int[language],name"
      ],
      "execution_count": 0,
      "outputs": []
    },
    {
      "metadata": {
        "id": "gKUPAGzNZ5Zm",
        "colab_type": "code",
        "colab": {}
      },
      "cell_type": "code",
      "source": [
        "data = NameLanguageDataset(pair)\n",
        "params = {'batch_size': 64,\n",
        "          'shuffle': True,\n",
        "          'num_workers': 6}\n",
        "\n",
        "generator = DataLoader(data,**params)"
      ],
      "execution_count": 0,
      "outputs": []
    },
    {
      "metadata": {
        "id": "ZhOHXWYhnAG-",
        "colab_type": "code",
        "colab": {
          "base_uri": "https://localhost:8080/",
          "height": 34
        },
        "outputId": "d5ec1769-85e9-46c4-cad8-3f1345f55ff4"
      },
      "cell_type": "code",
      "source": [
        "data[0][0].shape"
      ],
      "execution_count": 23,
      "outputs": [
        {
          "output_type": "execute_result",
          "data": {
            "text/plain": [
              "torch.Size([15, 57])"
            ]
          },
          "metadata": {
            "tags": []
          },
          "execution_count": 23
        }
      ]
    },
    {
      "metadata": {
        "id": "O1UMulzdcpbf",
        "colab_type": "code",
        "colab": {}
      },
      "cell_type": "code",
      "source": [
        "loss = nn.NLLLoss()\n",
        "optimizer = torch.optim.Adam(model.parameters())"
      ],
      "execution_count": 0,
      "outputs": []
    },
    {
      "metadata": {
        "id": "IZlcXSkoqWxd",
        "colab_type": "code",
        "colab": {}
      },
      "cell_type": "code",
      "source": [
        "los=[]"
      ],
      "execution_count": 0,
      "outputs": []
    },
    {
      "metadata": {
        "id": "KSPAa8m8qfOP",
        "colab_type": "code",
        "outputId": "03e6e93e-215a-4473-97ca-e08f996c87b9",
        "colab": {
          "base_uri": "https://localhost:8080/",
          "height": 1832
        }
      },
      "cell_type": "code",
      "source": [
        "\n",
        "device = torch.device('cuda')\n",
        "#los = []\n",
        "for epoch in range(5):\n",
        "    for X,y,_ in generator:\n",
        "        X=X.view(-1,15,57)\n",
        "        \n",
        "        X,y = X.to(device),y.to(device)\n",
        "        optimizer.zero_grad()\n",
        "      #  print(y.shape)\n",
        "       # print(y,)\n",
        "        # print(X.shape,_)\n",
        "        out = model(X)\n",
        "        \n",
        "        #print(out.shape,y.view(64,18).shape)\n",
        "        lossi = loss(out,y)\n",
        "        los.append(lossi)\n",
        "        lossi.backward()\n",
        "        optimizer.step()\n",
        "    print('hey',epoch)\n",
        "        "
      ],
      "execution_count": 26,
      "outputs": [
        {
          "output_type": "stream",
          "text": [
            "/usr/local/lib/python3.6/dist-packages/ipykernel_launcher.py:15: UserWarning: Implicit dimension choice for softmax has been deprecated. Change the call to include dim=X as an argument.\n",
            "  from ipykernel import kernelapp as app\n"
          ],
          "name": "stderr"
        },
        {
          "output_type": "stream",
          "text": [
            "hey 0\n",
            "hey 1\n",
            "hey 2\n",
            "hey 3\n",
            "hey 4\n",
            "hey 5\n",
            "hey 6\n",
            "hey 7\n",
            "hey 8\n",
            "hey 9\n",
            "hey 10\n",
            "hey 11\n",
            "hey 12\n",
            "hey 13\n",
            "hey 14\n",
            "hey 15\n",
            "hey 16\n",
            "hey 17\n",
            "hey 18\n",
            "hey 19\n",
            "hey 20\n",
            "hey 21\n",
            "hey 22\n",
            "hey 23\n",
            "hey 24\n",
            "hey 25\n",
            "hey 26\n",
            "hey 27\n",
            "hey 28\n",
            "hey 29\n",
            "hey 30\n",
            "hey 31\n",
            "hey 32\n",
            "hey 33\n",
            "hey 34\n",
            "hey 35\n",
            "hey 36\n",
            "hey 37\n",
            "hey 38\n",
            "hey 39\n",
            "hey 40\n",
            "hey 41\n",
            "hey 42\n",
            "hey 43\n",
            "hey 44\n",
            "hey 45\n",
            "hey 46\n",
            "hey 47\n",
            "hey 48\n",
            "hey 49\n",
            "hey 50\n",
            "hey 51\n",
            "hey 52\n",
            "hey 53\n",
            "hey 54\n",
            "hey 55\n",
            "hey 56\n",
            "hey 57\n",
            "hey 58\n",
            "hey 59\n",
            "hey 60\n",
            "hey 61\n",
            "hey 62\n",
            "hey 63\n",
            "hey 64\n",
            "hey 65\n",
            "hey 66\n",
            "hey 67\n",
            "hey 68\n",
            "hey 69\n",
            "hey 70\n",
            "hey 71\n",
            "hey 72\n",
            "hey 73\n",
            "hey 74\n",
            "hey 75\n",
            "hey 76\n",
            "hey 77\n",
            "hey 78\n",
            "hey 79\n",
            "hey 80\n",
            "hey 81\n",
            "hey 82\n",
            "hey 83\n",
            "hey 84\n",
            "hey 85\n",
            "hey 86\n",
            "hey 87\n",
            "hey 88\n",
            "hey 89\n",
            "hey 90\n",
            "hey 91\n",
            "hey 92\n",
            "hey 93\n",
            "hey 94\n",
            "hey 95\n",
            "hey 96\n",
            "hey 97\n",
            "hey 98\n",
            "hey 99\n"
          ],
          "name": "stdout"
        }
      ]
    },
    {
      "metadata": {
        "id": "EjKWB0Jfr8gE",
        "colab_type": "code",
        "outputId": "d271582b-4a53-4e21-aaf0-a9a4982feb0b",
        "colab": {
          "base_uri": "https://localhost:8080/",
          "height": 17634
        }
      },
      "cell_type": "code",
      "source": [
        "los\n"
      ],
      "execution_count": 27,
      "outputs": [
        {
          "output_type": "execute_result",
          "data": {
            "text/plain": [
              "[tensor(-0.0553, device='cuda:0', grad_fn=<NllLossBackward>),\n",
              " tensor(-0.0567, device='cuda:0', grad_fn=<NllLossBackward>),\n",
              " tensor(-0.0583, device='cuda:0', grad_fn=<NllLossBackward>),\n",
              " tensor(-0.0586, device='cuda:0', grad_fn=<NllLossBackward>),\n",
              " tensor(-0.0617, device='cuda:0', grad_fn=<NllLossBackward>),\n",
              " tensor(-0.0634, device='cuda:0', grad_fn=<NllLossBackward>),\n",
              " tensor(-0.0673, device='cuda:0', grad_fn=<NllLossBackward>),\n",
              " tensor(-0.0698, device='cuda:0', grad_fn=<NllLossBackward>),\n",
              " tensor(-0.0787, device='cuda:0', grad_fn=<NllLossBackward>),\n",
              " tensor(-0.0869, device='cuda:0', grad_fn=<NllLossBackward>),\n",
              " tensor(-0.1073, device='cuda:0', grad_fn=<NllLossBackward>),\n",
              " tensor(-0.1263, device='cuda:0', grad_fn=<NllLossBackward>),\n",
              " tensor(-0.1416, device='cuda:0', grad_fn=<NllLossBackward>),\n",
              " tensor(-0.1527, device='cuda:0', grad_fn=<NllLossBackward>),\n",
              " tensor(-0.1480, device='cuda:0', grad_fn=<NllLossBackward>),\n",
              " tensor(-0.1819, device='cuda:0', grad_fn=<NllLossBackward>),\n",
              " tensor(-0.1792, device='cuda:0', grad_fn=<NllLossBackward>),\n",
              " tensor(-0.2271, device='cuda:0', grad_fn=<NllLossBackward>),\n",
              " tensor(-0.2175, device='cuda:0', grad_fn=<NllLossBackward>),\n",
              " tensor(-0.1996, device='cuda:0', grad_fn=<NllLossBackward>),\n",
              " tensor(-0.2738, device='cuda:0', grad_fn=<NllLossBackward>),\n",
              " tensor(-0.2988, device='cuda:0', grad_fn=<NllLossBackward>),\n",
              " tensor(-0.2665, device='cuda:0', grad_fn=<NllLossBackward>),\n",
              " tensor(-0.3410, device='cuda:0', grad_fn=<NllLossBackward>),\n",
              " tensor(-0.2650, device='cuda:0', grad_fn=<NllLossBackward>),\n",
              " tensor(-0.3452, device='cuda:0', grad_fn=<NllLossBackward>),\n",
              " tensor(-0.3145, device='cuda:0', grad_fn=<NllLossBackward>),\n",
              " tensor(-0.2475, device='cuda:0', grad_fn=<NllLossBackward>),\n",
              " tensor(-0.2872, device='cuda:0', grad_fn=<NllLossBackward>),\n",
              " tensor(-0.3608, device='cuda:0', grad_fn=<NllLossBackward>),\n",
              " tensor(-0.3013, device='cuda:0', grad_fn=<NllLossBackward>),\n",
              " tensor(-0.3863, device='cuda:0', grad_fn=<NllLossBackward>),\n",
              " tensor(-0.3599, device='cuda:0', grad_fn=<NllLossBackward>),\n",
              " tensor(-0.4233, device='cuda:0', grad_fn=<NllLossBackward>),\n",
              " tensor(-0.3946, device='cuda:0', grad_fn=<NllLossBackward>),\n",
              " tensor(-0.3469, device='cuda:0', grad_fn=<NllLossBackward>),\n",
              " tensor(-0.4179, device='cuda:0', grad_fn=<NllLossBackward>),\n",
              " tensor(-0.4524, device='cuda:0', grad_fn=<NllLossBackward>),\n",
              " tensor(-0.4995, device='cuda:0', grad_fn=<NllLossBackward>),\n",
              " tensor(-0.4211, device='cuda:0', grad_fn=<NllLossBackward>),\n",
              " tensor(-0.3383, device='cuda:0', grad_fn=<NllLossBackward>),\n",
              " tensor(-0.4074, device='cuda:0', grad_fn=<NllLossBackward>),\n",
              " tensor(-0.4523, device='cuda:0', grad_fn=<NllLossBackward>),\n",
              " tensor(-0.3783, device='cuda:0', grad_fn=<NllLossBackward>),\n",
              " tensor(-0.4653, device='cuda:0', grad_fn=<NllLossBackward>),\n",
              " tensor(-0.5252, device='cuda:0', grad_fn=<NllLossBackward>),\n",
              " tensor(-0.4122, device='cuda:0', grad_fn=<NllLossBackward>),\n",
              " tensor(-0.5072, device='cuda:0', grad_fn=<NllLossBackward>),\n",
              " tensor(-0.4228, device='cuda:0', grad_fn=<NllLossBackward>),\n",
              " tensor(-0.3414, device='cuda:0', grad_fn=<NllLossBackward>),\n",
              " tensor(-0.5134, device='cuda:0', grad_fn=<NllLossBackward>),\n",
              " tensor(-0.5387, device='cuda:0', grad_fn=<NllLossBackward>),\n",
              " tensor(-0.3899, device='cuda:0', grad_fn=<NllLossBackward>),\n",
              " tensor(-0.3762, device='cuda:0', grad_fn=<NllLossBackward>),\n",
              " tensor(-0.4429, device='cuda:0', grad_fn=<NllLossBackward>),\n",
              " tensor(-0.4238, device='cuda:0', grad_fn=<NllLossBackward>),\n",
              " tensor(-0.4282, device='cuda:0', grad_fn=<NllLossBackward>),\n",
              " tensor(-0.4286, device='cuda:0', grad_fn=<NllLossBackward>),\n",
              " tensor(-0.3526, device='cuda:0', grad_fn=<NllLossBackward>),\n",
              " tensor(-0.3387, device='cuda:0', grad_fn=<NllLossBackward>),\n",
              " tensor(-0.3499, device='cuda:0', grad_fn=<NllLossBackward>),\n",
              " tensor(-0.5329, device='cuda:0', grad_fn=<NllLossBackward>),\n",
              " tensor(-0.4725, device='cuda:0', grad_fn=<NllLossBackward>),\n",
              " tensor(-0.5841, device='cuda:0', grad_fn=<NllLossBackward>),\n",
              " tensor(-0.5079, device='cuda:0', grad_fn=<NllLossBackward>),\n",
              " tensor(-0.4631, device='cuda:0', grad_fn=<NllLossBackward>),\n",
              " tensor(-0.4332, device='cuda:0', grad_fn=<NllLossBackward>),\n",
              " tensor(-0.4151, device='cuda:0', grad_fn=<NllLossBackward>),\n",
              " tensor(-0.4767, device='cuda:0', grad_fn=<NllLossBackward>),\n",
              " tensor(-0.3880, device='cuda:0', grad_fn=<NllLossBackward>),\n",
              " tensor(-0.3884, device='cuda:0', grad_fn=<NllLossBackward>),\n",
              " tensor(-0.5108, device='cuda:0', grad_fn=<NllLossBackward>),\n",
              " tensor(-0.4938, device='cuda:0', grad_fn=<NllLossBackward>),\n",
              " tensor(-0.4804, device='cuda:0', grad_fn=<NllLossBackward>),\n",
              " tensor(-0.4922, device='cuda:0', grad_fn=<NllLossBackward>),\n",
              " tensor(-0.3870, device='cuda:0', grad_fn=<NllLossBackward>),\n",
              " tensor(-0.5710, device='cuda:0', grad_fn=<NllLossBackward>),\n",
              " tensor(-0.3577, device='cuda:0', grad_fn=<NllLossBackward>),\n",
              " tensor(-0.4638, device='cuda:0', grad_fn=<NllLossBackward>),\n",
              " tensor(-0.3698, device='cuda:0', grad_fn=<NllLossBackward>),\n",
              " tensor(-0.5088, device='cuda:0', grad_fn=<NllLossBackward>),\n",
              " tensor(-0.5259, device='cuda:0', grad_fn=<NllLossBackward>),\n",
              " tensor(-0.4167, device='cuda:0', grad_fn=<NllLossBackward>),\n",
              " tensor(-0.4973, device='cuda:0', grad_fn=<NllLossBackward>),\n",
              " tensor(-0.5727, device='cuda:0', grad_fn=<NllLossBackward>),\n",
              " tensor(-0.4802, device='cuda:0', grad_fn=<NllLossBackward>),\n",
              " tensor(-0.5263, device='cuda:0', grad_fn=<NllLossBackward>),\n",
              " tensor(-0.4500, device='cuda:0', grad_fn=<NllLossBackward>),\n",
              " tensor(-0.5111, device='cuda:0', grad_fn=<NllLossBackward>),\n",
              " tensor(-0.4672, device='cuda:0', grad_fn=<NllLossBackward>),\n",
              " tensor(-0.4174, device='cuda:0', grad_fn=<NllLossBackward>),\n",
              " tensor(-0.5290, device='cuda:0', grad_fn=<NllLossBackward>),\n",
              " tensor(-0.4985, device='cuda:0', grad_fn=<NllLossBackward>),\n",
              " tensor(-0.4490, device='cuda:0', grad_fn=<NllLossBackward>),\n",
              " tensor(-0.4501, device='cuda:0', grad_fn=<NllLossBackward>),\n",
              " tensor(-0.3598, device='cuda:0', grad_fn=<NllLossBackward>),\n",
              " tensor(-0.4509, device='cuda:0', grad_fn=<NllLossBackward>),\n",
              " tensor(-0.4351, device='cuda:0', grad_fn=<NllLossBackward>),\n",
              " tensor(-0.4490, device='cuda:0', grad_fn=<NllLossBackward>),\n",
              " tensor(-0.4508, device='cuda:0', grad_fn=<NllLossBackward>),\n",
              " tensor(-0.4217, device='cuda:0', grad_fn=<NllLossBackward>),\n",
              " tensor(-0.4670, device='cuda:0', grad_fn=<NllLossBackward>),\n",
              " tensor(-0.4496, device='cuda:0', grad_fn=<NllLossBackward>),\n",
              " tensor(-0.4198, device='cuda:0', grad_fn=<NllLossBackward>),\n",
              " tensor(-0.5743, device='cuda:0', grad_fn=<NllLossBackward>),\n",
              " tensor(-0.4674, device='cuda:0', grad_fn=<NllLossBackward>),\n",
              " tensor(-0.4376, device='cuda:0', grad_fn=<NllLossBackward>),\n",
              " tensor(-0.4653, device='cuda:0', grad_fn=<NllLossBackward>),\n",
              " tensor(-0.5275, device='cuda:0', grad_fn=<NllLossBackward>),\n",
              " tensor(-0.4067, device='cuda:0', grad_fn=<NllLossBackward>),\n",
              " tensor(-0.4973, device='cuda:0', grad_fn=<NllLossBackward>),\n",
              " tensor(-0.4996, device='cuda:0', grad_fn=<NllLossBackward>),\n",
              " tensor(-0.4380, device='cuda:0', grad_fn=<NllLossBackward>),\n",
              " tensor(-0.4348, device='cuda:0', grad_fn=<NllLossBackward>),\n",
              " tensor(-0.6827, device='cuda:0', grad_fn=<NllLossBackward>),\n",
              " tensor(-0.4381, device='cuda:0', grad_fn=<NllLossBackward>),\n",
              " tensor(-0.3429, device='cuda:0', grad_fn=<NllLossBackward>),\n",
              " tensor(-0.6827, device='cuda:0', grad_fn=<NllLossBackward>),\n",
              " tensor(-0.4220, device='cuda:0', grad_fn=<NllLossBackward>),\n",
              " tensor(-0.5282, device='cuda:0', grad_fn=<NllLossBackward>),\n",
              " tensor(-0.4812, device='cuda:0', grad_fn=<NllLossBackward>),\n",
              " tensor(-0.4968, device='cuda:0', grad_fn=<NllLossBackward>),\n",
              " tensor(-0.4376, device='cuda:0', grad_fn=<NllLossBackward>),\n",
              " tensor(-0.3765, device='cuda:0', grad_fn=<NllLossBackward>),\n",
              " tensor(-0.4977, device='cuda:0', grad_fn=<NllLossBackward>),\n",
              " tensor(-0.4690, device='cuda:0', grad_fn=<NllLossBackward>),\n",
              " tensor(-0.4690, device='cuda:0', grad_fn=<NllLossBackward>),\n",
              " tensor(-0.4846, device='cuda:0', grad_fn=<NllLossBackward>),\n",
              " tensor(-0.3583, device='cuda:0', grad_fn=<NllLossBackward>),\n",
              " tensor(-0.3915, device='cuda:0', grad_fn=<NllLossBackward>),\n",
              " tensor(-0.4673, device='cuda:0', grad_fn=<NllLossBackward>),\n",
              " tensor(-0.4355, device='cuda:0', grad_fn=<NllLossBackward>),\n",
              " tensor(-0.5130, device='cuda:0', grad_fn=<NllLossBackward>),\n",
              " tensor(-0.5471, device='cuda:0', grad_fn=<NllLossBackward>),\n",
              " tensor(-0.4357, device='cuda:0', grad_fn=<NllLossBackward>),\n",
              " tensor(-0.4702, device='cuda:0', grad_fn=<NllLossBackward>),\n",
              " tensor(-0.4667, device='cuda:0', grad_fn=<NllLossBackward>),\n",
              " tensor(-0.4517, device='cuda:0', grad_fn=<NllLossBackward>),\n",
              " tensor(-0.5635, device='cuda:0', grad_fn=<NllLossBackward>),\n",
              " tensor(-0.5013, device='cuda:0', grad_fn=<NllLossBackward>),\n",
              " tensor(-0.5170, device='cuda:0', grad_fn=<NllLossBackward>),\n",
              " tensor(-0.5447, device='cuda:0', grad_fn=<NllLossBackward>),\n",
              " tensor(-0.4861, device='cuda:0', grad_fn=<NllLossBackward>),\n",
              " tensor(-0.4361, device='cuda:0', grad_fn=<NllLossBackward>),\n",
              " tensor(-0.4396, device='cuda:0', grad_fn=<NllLossBackward>),\n",
              " tensor(-0.4858, device='cuda:0', grad_fn=<NllLossBackward>),\n",
              " tensor(-0.4673, device='cuda:0', grad_fn=<NllLossBackward>),\n",
              " tensor(-0.4205, device='cuda:0', grad_fn=<NllLossBackward>),\n",
              " tensor(-0.4514, device='cuda:0', grad_fn=<NllLossBackward>),\n",
              " tensor(-0.5019, device='cuda:0', grad_fn=<NllLossBackward>),\n",
              " tensor(-0.5306, device='cuda:0', grad_fn=<NllLossBackward>),\n",
              " tensor(-0.3589, device='cuda:0', grad_fn=<NllLossBackward>),\n",
              " tensor(-0.4522, device='cuda:0', grad_fn=<NllLossBackward>),\n",
              " tensor(-0.3745, device='cuda:0', grad_fn=<NllLossBackward>),\n",
              " tensor(-0.4204, device='cuda:0', grad_fn=<NllLossBackward>),\n",
              " tensor(-0.4397, device='cuda:0', grad_fn=<NllLossBackward>),\n",
              " tensor(-0.4864, device='cuda:0', grad_fn=<NllLossBackward>),\n",
              " tensor(-0.4402, device='cuda:0', grad_fn=<NllLossBackward>),\n",
              " tensor(-0.4053, device='cuda:0', grad_fn=<NllLossBackward>),\n",
              " tensor(-0.4208, device='cuda:0', grad_fn=<NllLossBackward>),\n",
              " tensor(-0.3627, device='cuda:0', grad_fn=<NllLossBackward>),\n",
              " tensor(-0.5763, device='cuda:0', grad_fn=<NllLossBackward>),\n",
              " tensor(-0.5611, device='cuda:0', grad_fn=<NllLossBackward>),\n",
              " tensor(-0.4095, device='cuda:0', grad_fn=<NllLossBackward>),\n",
              " tensor(-0.4869, device='cuda:0', grad_fn=<NllLossBackward>),\n",
              " tensor(-0.4368, device='cuda:0', grad_fn=<NllLossBackward>),\n",
              " tensor(-0.5026, device='cuda:0', grad_fn=<NllLossBackward>),\n",
              " tensor(-0.4365, device='cuda:0', grad_fn=<NllLossBackward>),\n",
              " tensor(-0.4051, device='cuda:0', grad_fn=<NllLossBackward>),\n",
              " tensor(-0.4988, device='cuda:0', grad_fn=<NllLossBackward>),\n",
              " tensor(-0.3476, device='cuda:0', grad_fn=<NllLossBackward>),\n",
              " tensor(-0.4993, device='cuda:0', grad_fn=<NllLossBackward>),\n",
              " tensor(-0.5498, device='cuda:0', grad_fn=<NllLossBackward>),\n",
              " tensor(-0.4565, device='cuda:0', grad_fn=<NllLossBackward>),\n",
              " tensor(-0.5030, device='cuda:0', grad_fn=<NllLossBackward>),\n",
              " tensor(-0.5148, device='cuda:0', grad_fn=<NllLossBackward>),\n",
              " tensor(-0.4097, device='cuda:0', grad_fn=<NllLossBackward>),\n",
              " tensor(-0.4255, device='cuda:0', grad_fn=<NllLossBackward>),\n",
              " tensor(-0.4991, device='cuda:0', grad_fn=<NllLossBackward>),\n",
              " tensor(-0.6235, device='cuda:0', grad_fn=<NllLossBackward>),\n",
              " tensor(-0.4411, device='cuda:0', grad_fn=<NllLossBackward>),\n",
              " tensor(-0.4412, device='cuda:0', grad_fn=<NllLossBackward>),\n",
              " tensor(-0.4675, device='cuda:0', grad_fn=<NllLossBackward>),\n",
              " tensor(-0.5035, device='cuda:0', grad_fn=<NllLossBackward>),\n",
              " tensor(-0.4369, device='cuda:0', grad_fn=<NllLossBackward>),\n",
              " tensor(-0.3793, device='cuda:0', grad_fn=<NllLossBackward>),\n",
              " tensor(-0.5348, device='cuda:0', grad_fn=<NllLossBackward>),\n",
              " tensor(-0.5194, device='cuda:0', grad_fn=<NllLossBackward>),\n",
              " tensor(-0.3905, device='cuda:0', grad_fn=<NllLossBackward>),\n",
              " tensor(-0.3905, device='cuda:0', grad_fn=<NllLossBackward>),\n",
              " tensor(-0.5924, device='cuda:0', grad_fn=<NllLossBackward>),\n",
              " tensor(-0.3905, device='cuda:0', grad_fn=<NllLossBackward>),\n",
              " tensor(-0.4420, device='cuda:0', grad_fn=<NllLossBackward>),\n",
              " tensor(-0.2972, device='cuda:0', grad_fn=<NllLossBackward>),\n",
              " tensor(-0.5044, device='cuda:0', grad_fn=<NllLossBackward>),\n",
              " tensor(-0.3799, device='cuda:0', grad_fn=<NllLossBackward>),\n",
              " tensor(-0.5460, device='cuda:0', grad_fn=<NllLossBackward>),\n",
              " tensor(-0.4266, device='cuda:0', grad_fn=<NllLossBackward>),\n",
              " tensor(-0.5300, device='cuda:0', grad_fn=<NllLossBackward>),\n",
              " tensor(-0.4677, device='cuda:0', grad_fn=<NllLossBackward>),\n",
              " tensor(-0.4114, device='cuda:0', grad_fn=<NllLossBackward>),\n",
              " tensor(-0.3803, device='cuda:0', grad_fn=<NllLossBackward>),\n",
              " tensor(-0.4216, device='cuda:0', grad_fn=<NllLossBackward>),\n",
              " tensor(-0.4991, device='cuda:0', grad_fn=<NllLossBackward>),\n",
              " tensor(-0.6138, device='cuda:0', grad_fn=<NllLossBackward>),\n",
              " tensor(-0.3593, device='cuda:0', grad_fn=<NllLossBackward>),\n",
              " tensor(-0.5205, device='cuda:0', grad_fn=<NllLossBackward>),\n",
              " tensor(-0.4273, device='cuda:0', grad_fn=<NllLossBackward>),\n",
              " tensor(-0.4116, device='cuda:0', grad_fn=<NllLossBackward>),\n",
              " tensor(-0.4834, device='cuda:0', grad_fn=<NllLossBackward>),\n",
              " tensor(-0.4212, device='cuda:0', grad_fn=<NllLossBackward>),\n",
              " tensor(-0.5151, device='cuda:0', grad_fn=<NllLossBackward>),\n",
              " tensor(-0.3808, device='cuda:0', grad_fn=<NllLossBackward>),\n",
              " tensor(-0.4057, device='cuda:0', grad_fn=<NllLossBackward>),\n",
              " tensor(-0.4589, device='cuda:0', grad_fn=<NllLossBackward>),\n",
              " tensor(-0.4745, device='cuda:0', grad_fn=<NllLossBackward>),\n",
              " tensor(-0.4213, device='cuda:0', grad_fn=<NllLossBackward>),\n",
              " tensor(-0.4902, device='cuda:0', grad_fn=<NllLossBackward>),\n",
              " tensor(-0.4215, device='cuda:0', grad_fn=<NllLossBackward>),\n",
              " tensor(-0.5151, device='cuda:0', grad_fn=<NllLossBackward>),\n",
              " tensor(-0.3589, device='cuda:0', grad_fn=<NllLossBackward>),\n",
              " tensor(-0.4528, device='cuda:0', grad_fn=<NllLossBackward>),\n",
              " tensor(-0.4681, device='cuda:0', grad_fn=<NllLossBackward>),\n",
              " tensor(-0.4685, device='cuda:0', grad_fn=<NllLossBackward>),\n",
              " tensor(-0.4906, device='cuda:0', grad_fn=<NllLossBackward>),\n",
              " tensor(-0.5305, device='cuda:0', grad_fn=<NllLossBackward>),\n",
              " tensor(-0.3749, device='cuda:0', grad_fn=<NllLossBackward>),\n",
              " tensor(-0.4750, device='cuda:0', grad_fn=<NllLossBackward>),\n",
              " tensor(-0.4682, device='cuda:0', grad_fn=<NllLossBackward>),\n",
              " tensor(-0.5150, device='cuda:0', grad_fn=<NllLossBackward>),\n",
              " tensor(-0.4752, device='cuda:0', grad_fn=<NllLossBackward>),\n",
              " tensor(-0.4525, device='cuda:0', grad_fn=<NllLossBackward>),\n",
              " tensor(-0.4841, device='cuda:0', grad_fn=<NllLossBackward>),\n",
              " tensor(-0.4992, device='cuda:0', grad_fn=<NllLossBackward>),\n",
              " tensor(-0.4755, device='cuda:0', grad_fn=<NllLossBackward>),\n",
              " tensor(-0.5621, device='cuda:0', grad_fn=<NllLossBackward>),\n",
              " tensor(-0.3907, device='cuda:0', grad_fn=<NllLossBackward>),\n",
              " tensor(-0.5066, device='cuda:0', grad_fn=<NllLossBackward>),\n",
              " tensor(-0.4757, device='cuda:0', grad_fn=<NllLossBackward>),\n",
              " tensor(-0.4525, device='cuda:0', grad_fn=<NllLossBackward>),\n",
              " tensor(-0.4058, device='cuda:0', grad_fn=<NllLossBackward>),\n",
              " tensor(-0.4601, device='cuda:0', grad_fn=<NllLossBackward>),\n",
              " tensor(-0.4446, device='cuda:0', grad_fn=<NllLossBackward>),\n",
              " tensor(-0.4998, device='cuda:0', grad_fn=<NllLossBackward>),\n",
              " tensor(-0.3824, device='cuda:0', grad_fn=<NllLossBackward>),\n",
              " tensor(-0.4685, device='cuda:0', grad_fn=<NllLossBackward>),\n",
              " tensor(-0.4062, device='cuda:0', grad_fn=<NllLossBackward>),\n",
              " tensor(-0.5149, device='cuda:0', grad_fn=<NllLossBackward>),\n",
              " tensor(-0.4762, device='cuda:0', grad_fn=<NllLossBackward>),\n",
              " tensor(-0.3438, device='cuda:0', grad_fn=<NllLossBackward>),\n",
              " tensor(-0.5075, device='cuda:0', grad_fn=<NllLossBackward>),\n",
              " tensor(-0.4838, device='cuda:0', grad_fn=<NllLossBackward>),\n",
              " tensor(-0.4296, device='cuda:0', grad_fn=<NllLossBackward>),\n",
              " tensor(-0.4682, device='cuda:0', grad_fn=<NllLossBackward>),\n",
              " tensor(-0.5232, device='cuda:0', grad_fn=<NllLossBackward>),\n",
              " tensor(-0.4610, device='cuda:0', grad_fn=<NllLossBackward>),\n",
              " tensor(-0.4370, device='cuda:0', grad_fn=<NllLossBackward>),\n",
              " tensor(-0.5234, device='cuda:0', grad_fn=<NllLossBackward>),\n",
              " tensor(-0.4530, device='cuda:0', grad_fn=<NllLossBackward>),\n",
              " tensor(-0.5236, device='cuda:0', grad_fn=<NllLossBackward>),\n",
              " tensor(-0.5236, device='cuda:0', grad_fn=<NllLossBackward>),\n",
              " tensor(-0.5777, device='cuda:0', grad_fn=<NllLossBackward>),\n",
              " tensor(-0.4302, device='cuda:0', grad_fn=<NllLossBackward>),\n",
              " tensor(-0.5083, device='cuda:0', grad_fn=<NllLossBackward>),\n",
              " tensor(-0.4927, device='cuda:0', grad_fn=<NllLossBackward>),\n",
              " tensor(-0.4685, device='cuda:0', grad_fn=<NllLossBackward>),\n",
              " tensor(-0.4461, device='cuda:0', grad_fn=<NllLossBackward>),\n",
              " tensor(-0.4463, device='cuda:0', grad_fn=<NllLossBackward>),\n",
              " tensor(-0.4619, device='cuda:0', grad_fn=<NllLossBackward>),\n",
              " tensor(-0.4219, device='cuda:0', grad_fn=<NllLossBackward>),\n",
              " tensor(-0.4375, device='cuda:0', grad_fn=<NllLossBackward>),\n",
              " tensor(-0.5306, device='cuda:0', grad_fn=<NllLossBackward>),\n",
              " tensor(-0.4219, device='cuda:0', grad_fn=<NllLossBackward>),\n",
              " tensor(-0.5558, device='cuda:0', grad_fn=<NllLossBackward>),\n",
              " tensor(-0.4375, device='cuda:0', grad_fn=<NllLossBackward>),\n",
              " tensor(-0.4935, device='cuda:0', grad_fn=<NllLossBackward>),\n",
              " tensor(-0.5872, device='cuda:0', grad_fn=<NllLossBackward>),\n",
              " tensor(-0.4625, device='cuda:0', grad_fn=<NllLossBackward>),\n",
              " tensor(-0.4061, device='cuda:0', grad_fn=<NllLossBackward>),\n",
              " tensor(-0.5406, device='cuda:0', grad_fn=<NllLossBackward>),\n",
              " tensor(-0.3594, device='cuda:0', grad_fn=<NllLossBackward>),\n",
              " tensor(-0.4371, device='cuda:0', grad_fn=<NllLossBackward>),\n",
              " tensor(-0.5622, device='cuda:0', grad_fn=<NllLossBackward>),\n",
              " tensor(-0.4785, device='cuda:0', grad_fn=<NllLossBackward>),\n",
              " tensor(-0.4372, device='cuda:0', grad_fn=<NllLossBackward>),\n",
              " tensor(-0.3283, device='cuda:0', grad_fn=<NllLossBackward>),\n",
              " tensor(-0.4007, device='cuda:0', grad_fn=<NllLossBackward>),\n",
              " tensor(-0.4061, device='cuda:0', grad_fn=<NllLossBackward>),\n",
              " tensor(-0.5099, device='cuda:0', grad_fn=<NllLossBackward>),\n",
              " tensor(-0.4839, device='cuda:0', grad_fn=<NllLossBackward>),\n",
              " tensor(-0.4843, device='cuda:0', grad_fn=<NllLossBackward>),\n",
              " tensor(-0.4683, device='cuda:0', grad_fn=<NllLossBackward>),\n",
              " tensor(-0.5310, device='cuda:0', grad_fn=<NllLossBackward>),\n",
              " tensor(-0.4995, device='cuda:0', grad_fn=<NllLossBackward>),\n",
              " tensor(-0.2971, device='cuda:0', grad_fn=<NllLossBackward>),\n",
              " tensor(-0.4059, device='cuda:0', grad_fn=<NllLossBackward>),\n",
              " tensor(-0.4527, device='cuda:0', grad_fn=<NllLossBackward>),\n",
              " tensor(-0.4999, device='cuda:0', grad_fn=<NllLossBackward>),\n",
              " tensor(-0.4062, device='cuda:0', grad_fn=<NllLossBackward>),\n",
              " tensor(-0.3903, device='cuda:0', grad_fn=<NllLossBackward>),\n",
              " tensor(-0.4999, device='cuda:0', grad_fn=<NllLossBackward>),\n",
              " tensor(-0.4999, device='cuda:0', grad_fn=<NllLossBackward>),\n",
              " tensor(-0.4168, device='cuda:0', grad_fn=<NllLossBackward>),\n",
              " tensor(-0.4636, device='cuda:0', grad_fn=<NllLossBackward>),\n",
              " tensor(-0.5103, device='cuda:0', grad_fn=<NllLossBackward>),\n",
              " tensor(-0.4997, device='cuda:0', grad_fn=<NllLossBackward>),\n",
              " tensor(-0.5105, device='cuda:0', grad_fn=<NllLossBackward>),\n",
              " tensor(-0.4371, device='cuda:0', grad_fn=<NllLossBackward>),\n",
              " tensor(-0.4637, device='cuda:0', grad_fn=<NllLossBackward>),\n",
              " tensor(-0.5262, device='cuda:0', grad_fn=<NllLossBackward>),\n",
              " tensor(-0.5466, device='cuda:0', grad_fn=<NllLossBackward>),\n",
              " tensor(-0.4639, device='cuda:0', grad_fn=<NllLossBackward>),\n",
              " tensor(-0.4372, device='cuda:0', grad_fn=<NllLossBackward>),\n",
              " tensor(-0.4454, device='cuda:0', grad_fn=<NllLossBackward>),\n",
              " tensor(-0.6089, device='cuda:0', grad_fn=<NllLossBackward>),\n",
              " tensor(-0.6087, device='cuda:0', grad_fn=<NllLossBackward>),\n",
              " tensor(-0.4531, device='cuda:0', grad_fn=<NllLossBackward>),\n",
              " tensor(-0.5620, device='cuda:0', grad_fn=<NllLossBackward>),\n",
              " tensor(-0.4371, device='cuda:0', grad_fn=<NllLossBackward>),\n",
              " tensor(-0.3748, device='cuda:0', grad_fn=<NllLossBackward>),\n",
              " tensor(-0.5890, device='cuda:0', grad_fn=<NllLossBackward>),\n",
              " tensor(-0.4954, device='cuda:0', grad_fn=<NllLossBackward>),\n",
              " tensor(-0.4684, device='cuda:0', grad_fn=<NllLossBackward>),\n",
              " tensor(-0.5153, device='cuda:0', grad_fn=<NllLossBackward>),\n",
              " tensor(-0.5932, device='cuda:0', grad_fn=<NllLossBackward>),\n",
              " tensor(-0.3907, device='cuda:0', grad_fn=<NllLossBackward>),\n",
              " tensor(-0.4332, device='cuda:0', grad_fn=<NllLossBackward>),\n",
              " tensor(-0.5112, device='cuda:0', grad_fn=<NllLossBackward>),\n",
              " tensor(-0.3241, device='cuda:0', grad_fn=<NllLossBackward>),\n",
              " tensor(-0.5269, device='cuda:0', grad_fn=<NllLossBackward>),\n",
              " tensor(-0.3866, device='cuda:0', grad_fn=<NllLossBackward>),\n",
              " tensor(-0.5467, device='cuda:0', grad_fn=<NllLossBackward>),\n",
              " tensor(-0.5152, device='cuda:0', grad_fn=<NllLossBackward>),\n",
              " tensor(-0.4375, device='cuda:0', grad_fn=<NllLossBackward>),\n",
              " tensor(-0.4491, device='cuda:0', grad_fn=<NllLossBackward>),\n",
              " tensor(-0.3438, device='cuda:0', grad_fn=<NllLossBackward>),\n",
              " tensor(-0.5116, device='cuda:0', grad_fn=<NllLossBackward>),\n",
              " tensor(-0.4060, device='cuda:0', grad_fn=<NllLossBackward>),\n",
              " tensor(-0.4375, device='cuda:0', grad_fn=<NllLossBackward>),\n",
              " tensor(-0.4996, device='cuda:0', grad_fn=<NllLossBackward>),\n",
              " tensor(-0.4531, device='cuda:0', grad_fn=<NllLossBackward>),\n",
              " tensor(-0.4219, device='cuda:0', grad_fn=<NllLossBackward>),\n",
              " tensor(-0.5623, device='cuda:0', grad_fn=<NllLossBackward>),\n",
              " tensor(-0.4650, device='cuda:0', grad_fn=<NllLossBackward>),\n",
              " tensor(-0.4372, device='cuda:0', grad_fn=<NllLossBackward>),\n",
              " tensor(-0.4806, device='cuda:0', grad_fn=<NllLossBackward>),\n",
              " tensor(-0.5155, device='cuda:0', grad_fn=<NllLossBackward>),\n",
              " tensor(-0.4807, device='cuda:0', grad_fn=<NllLossBackward>),\n",
              " tensor(-0.4375, device='cuda:0', grad_fn=<NllLossBackward>),\n",
              " tensor(-0.4807, device='cuda:0', grad_fn=<NllLossBackward>),\n",
              " tensor(-0.4687, device='cuda:0', grad_fn=<NllLossBackward>),\n",
              " tensor(-0.4964, device='cuda:0', grad_fn=<NllLossBackward>),\n",
              " tensor(-0.5276, device='cuda:0', grad_fn=<NllLossBackward>),\n",
              " tensor(-0.5155, device='cuda:0', grad_fn=<NllLossBackward>),\n",
              " tensor(-0.3904, device='cuda:0', grad_fn=<NllLossBackward>),\n",
              " tensor(-0.3750, device='cuda:0', grad_fn=<NllLossBackward>),\n",
              " tensor(-0.4653, device='cuda:0', grad_fn=<NllLossBackward>),\n",
              " tensor(-0.4216, device='cuda:0', grad_fn=<NllLossBackward>),\n",
              " tensor(-0.3751, device='cuda:0', grad_fn=<NllLossBackward>),\n",
              " tensor(-0.4996, device='cuda:0', grad_fn=<NllLossBackward>),\n",
              " tensor(-0.6059, device='cuda:0', grad_fn=<NllLossBackward>),\n",
              " tensor(-0.4841, device='cuda:0', grad_fn=<NllLossBackward>),\n",
              " tensor(-0.4811, device='cuda:0', grad_fn=<NllLossBackward>),\n",
              " tensor(-0.5279, device='cuda:0', grad_fn=<NllLossBackward>),\n",
              " tensor(-0.3751, device='cuda:0', grad_fn=<NllLossBackward>),\n",
              " tensor(-0.4375, device='cuda:0', grad_fn=<NllLossBackward>),\n",
              " tensor(-0.5592, device='cuda:0', grad_fn=<NllLossBackward>),\n",
              " tensor(-0.4840, device='cuda:0', grad_fn=<NllLossBackward>),\n",
              " tensor(-0.4684, device='cuda:0', grad_fn=<NllLossBackward>),\n",
              " tensor(-0.5281, device='cuda:0', grad_fn=<NllLossBackward>),\n",
              " tensor(-0.4969, device='cuda:0', grad_fn=<NllLossBackward>),\n",
              " tensor(-0.4216, device='cuda:0', grad_fn=<NllLossBackward>),\n",
              " tensor(-0.4813, device='cuda:0', grad_fn=<NllLossBackward>),\n",
              " tensor(-0.4996, device='cuda:0', grad_fn=<NllLossBackward>),\n",
              " tensor(-0.4687, device='cuda:0', grad_fn=<NllLossBackward>),\n",
              " tensor(-0.4372, device='cuda:0', grad_fn=<NllLossBackward>),\n",
              " tensor(-0.4346, device='cuda:0', grad_fn=<NllLossBackward>),\n",
              " tensor(-0.3748, device='cuda:0', grad_fn=<NllLossBackward>),\n",
              " tensor(-0.4843, device='cuda:0', grad_fn=<NllLossBackward>),\n",
              " tensor(-0.4216, device='cuda:0', grad_fn=<NllLossBackward>),\n",
              " tensor(-0.5595, device='cuda:0', grad_fn=<NllLossBackward>),\n",
              " tensor(-0.5467, device='cuda:0', grad_fn=<NllLossBackward>),\n",
              " tensor(-0.4217, device='cuda:0', grad_fn=<NllLossBackward>),\n",
              " tensor(-0.4060, device='cuda:0', grad_fn=<NllLossBackward>),\n",
              " tensor(-0.4816, device='cuda:0', grad_fn=<NllLossBackward>),\n",
              " tensor(-0.4660, device='cuda:0', grad_fn=<NllLossBackward>),\n",
              " tensor(-0.4972, device='cuda:0', grad_fn=<NllLossBackward>),\n",
              " tensor(-0.3906, device='cuda:0', grad_fn=<NllLossBackward>),\n",
              " tensor(-0.4660, device='cuda:0', grad_fn=<NllLossBackward>),\n",
              " tensor(-0.4349, device='cuda:0', grad_fn=<NllLossBackward>),\n",
              " tensor(-0.3750, device='cuda:0', grad_fn=<NllLossBackward>),\n",
              " tensor(-0.4661, device='cuda:0', grad_fn=<NllLossBackward>),\n",
              " tensor(-0.5465, device='cuda:0', grad_fn=<NllLossBackward>),\n",
              " tensor(-0.4998, device='cuda:0', grad_fn=<NllLossBackward>),\n",
              " tensor(-0.4350, device='cuda:0', grad_fn=<NllLossBackward>),\n",
              " tensor(-0.4685, device='cuda:0', grad_fn=<NllLossBackward>),\n",
              " tensor(-0.3726, device='cuda:0', grad_fn=<NllLossBackward>),\n",
              " tensor(-0.4840, device='cuda:0', grad_fn=<NllLossBackward>),\n",
              " tensor(-0.4350, device='cuda:0', grad_fn=<NllLossBackward>),\n",
              " tensor(-0.5131, device='cuda:0', grad_fn=<NllLossBackward>),\n",
              " tensor(-0.6380, device='cuda:0', grad_fn=<NllLossBackward>),\n",
              " tensor(-0.4195, device='cuda:0', grad_fn=<NllLossBackward>),\n",
              " tensor(-0.4373, device='cuda:0', grad_fn=<NllLossBackward>),\n",
              " tensor(-0.4061, device='cuda:0', grad_fn=<NllLossBackward>),\n",
              " tensor(-0.6381, device='cuda:0', grad_fn=<NllLossBackward>),\n",
              " tensor(-0.5155, device='cuda:0', grad_fn=<NllLossBackward>),\n",
              " tensor(-0.4196, device='cuda:0', grad_fn=<NllLossBackward>),\n",
              " tensor(-0.5289, device='cuda:0', grad_fn=<NllLossBackward>),\n",
              " tensor(-0.4529, device='cuda:0', grad_fn=<NllLossBackward>),\n",
              " tensor(-0.4061, device='cuda:0', grad_fn=<NllLossBackward>),\n",
              " tensor(-0.3748, device='cuda:0', grad_fn=<NllLossBackward>),\n",
              " tensor(-0.4978, device='cuda:0', grad_fn=<NllLossBackward>),\n",
              " tensor(-0.4531, device='cuda:0', grad_fn=<NllLossBackward>),\n",
              " tensor(-0.4841, device='cuda:0', grad_fn=<NllLossBackward>),\n",
              " tensor(-0.5309, device='cuda:0', grad_fn=<NllLossBackward>),\n",
              " tensor(-0.4822, device='cuda:0', grad_fn=<NllLossBackward>),\n",
              " tensor(-0.4685, device='cuda:0', grad_fn=<NllLossBackward>),\n",
              " tensor(-0.4666, device='cuda:0', grad_fn=<NllLossBackward>),\n",
              " tensor(-0.4372, device='cuda:0', grad_fn=<NllLossBackward>),\n",
              " tensor(-0.4979, device='cuda:0', grad_fn=<NllLossBackward>),\n",
              " tensor(-0.4198, device='cuda:0', grad_fn=<NllLossBackward>),\n",
              " tensor(-0.5466, device='cuda:0', grad_fn=<NllLossBackward>),\n",
              " tensor(-0.5153, device='cuda:0', grad_fn=<NllLossBackward>),\n",
              " tensor(-0.3436, device='cuda:0', grad_fn=<NllLossBackward>),\n",
              " tensor(-0.4841, device='cuda:0', grad_fn=<NllLossBackward>),\n",
              " tensor(-0.4199, device='cuda:0', grad_fn=<NllLossBackward>),\n",
              " tensor(-0.5292, device='cuda:0', grad_fn=<NllLossBackward>),\n",
              " tensor(-0.4373, device='cuda:0', grad_fn=<NllLossBackward>),\n",
              " tensor(-0.4374, device='cuda:0', grad_fn=<NllLossBackward>),\n",
              " tensor(-0.5778, device='cuda:0', grad_fn=<NllLossBackward>),\n",
              " tensor(-0.4824, device='cuda:0', grad_fn=<NllLossBackward>),\n",
              " tensor(-0.4843, device='cuda:0', grad_fn=<NllLossBackward>),\n",
              " tensor(-0.3750, device='cuda:0', grad_fn=<NllLossBackward>),\n",
              " tensor(-0.4217, device='cuda:0', grad_fn=<NllLossBackward>),\n",
              " tensor(-0.4356, device='cuda:0', grad_fn=<NllLossBackward>),\n",
              " tensor(-0.4842, device='cuda:0', grad_fn=<NllLossBackward>),\n",
              " tensor(-0.5761, device='cuda:0', grad_fn=<NllLossBackward>),\n",
              " tensor(-0.4513, device='cuda:0', grad_fn=<NllLossBackward>),\n",
              " tensor(-0.5293, device='cuda:0', grad_fn=<NllLossBackward>),\n",
              " tensor(-0.4531, device='cuda:0', grad_fn=<NllLossBackward>),\n",
              " tensor(-0.6090, device='cuda:0', grad_fn=<NllLossBackward>),\n",
              " tensor(-0.4513, device='cuda:0', grad_fn=<NllLossBackward>),\n",
              " tensor(-0.4062, device='cuda:0', grad_fn=<NllLossBackward>),\n",
              " tensor(-0.3750, device='cuda:0', grad_fn=<NllLossBackward>),\n",
              " tensor(-0.4843, device='cuda:0', grad_fn=<NllLossBackward>),\n",
              " tensor(-0.5606, device='cuda:0', grad_fn=<NllLossBackward>),\n",
              " tensor(-0.4373, device='cuda:0', grad_fn=<NllLossBackward>),\n",
              " tensor(-0.4826, device='cuda:0', grad_fn=<NllLossBackward>),\n",
              " tensor(-0.5294, device='cuda:0', grad_fn=<NllLossBackward>),\n",
              " tensor(-0.4062, device='cuda:0', grad_fn=<NllLossBackward>),\n",
              " tensor(-0.5295, device='cuda:0', grad_fn=<NllLossBackward>),\n",
              " tensor(-0.4514, device='cuda:0', grad_fn=<NllLossBackward>),\n",
              " tensor(-0.3749, device='cuda:0', grad_fn=<NllLossBackward>),\n",
              " tensor(-0.3109, device='cuda:0', grad_fn=<NllLossBackward>),\n",
              " tensor(-0.4841, device='cuda:0', grad_fn=<NllLossBackward>),\n",
              " tensor(-0.5451, device='cuda:0', grad_fn=<NllLossBackward>),\n",
              " tensor(-0.5154, device='cuda:0', grad_fn=<NllLossBackward>),\n",
              " tensor(-0.3890, device='cuda:0', grad_fn=<NllLossBackward>),\n",
              " tensor(-0.5154, device='cuda:0', grad_fn=<NllLossBackward>),\n",
              " tensor(-0.4047, device='cuda:0', grad_fn=<NllLossBackward>),\n",
              " tensor(-0.5608, device='cuda:0', grad_fn=<NllLossBackward>),\n",
              " tensor(-0.4061, device='cuda:0', grad_fn=<NllLossBackward>),\n",
              " tensor(-0.4217, device='cuda:0', grad_fn=<NllLossBackward>),\n",
              " tensor(-0.4685, device='cuda:0', grad_fn=<NllLossBackward>),\n",
              " tensor(-0.4685, device='cuda:0', grad_fn=<NllLossBackward>),\n",
              " tensor(-0.4047, device='cuda:0', grad_fn=<NllLossBackward>),\n",
              " tensor(-0.5153, device='cuda:0', grad_fn=<NllLossBackward>),\n",
              " tensor(-0.4374, device='cuda:0', grad_fn=<NllLossBackward>),\n",
              " tensor(-0.4984, device='cuda:0', grad_fn=<NllLossBackward>),\n",
              " tensor(-0.4685, device='cuda:0', grad_fn=<NllLossBackward>),\n",
              " tensor(-0.4672, device='cuda:0', grad_fn=<NllLossBackward>),\n",
              " tensor(-0.4516, device='cuda:0', grad_fn=<NllLossBackward>),\n",
              " tensor(-0.4998, device='cuda:0', grad_fn=<NllLossBackward>),\n",
              " tensor(-0.4673, device='cuda:0', grad_fn=<NllLossBackward>),\n",
              " tensor(-0.3267, device='cuda:0', grad_fn=<NllLossBackward>),\n",
              " tensor(-0.4374, device='cuda:0', grad_fn=<NllLossBackward>),\n",
              " tensor(-0.4048, device='cuda:0', grad_fn=<NllLossBackward>),\n",
              " tensor(-0.4829, device='cuda:0', grad_fn=<NllLossBackward>),\n",
              " tensor(-0.5467, device='cuda:0', grad_fn=<NllLossBackward>),\n",
              " tensor(-0.5610, device='cuda:0', grad_fn=<NllLossBackward>),\n",
              " tensor(-0.5610, device='cuda:0', grad_fn=<NllLossBackward>),\n",
              " tensor(-0.4986, device='cuda:0', grad_fn=<NllLossBackward>),\n",
              " tensor(-0.4830, device='cuda:0', grad_fn=<NllLossBackward>),\n",
              " tensor(-0.4373, device='cuda:0', grad_fn=<NllLossBackward>),\n",
              " tensor(-0.3124, device='cuda:0', grad_fn=<NllLossBackward>),\n",
              " tensor(-0.3437, device='cuda:0', grad_fn=<NllLossBackward>),\n",
              " tensor(-0.4529, device='cuda:0', grad_fn=<NllLossBackward>),\n",
              " tensor(-0.3893, device='cuda:0', grad_fn=<NllLossBackward>),\n",
              " tensor(-0.5154, device='cuda:0', grad_fn=<NllLossBackward>),\n",
              " tensor(-0.4986, device='cuda:0', grad_fn=<NllLossBackward>),\n",
              " tensor(-0.4362, device='cuda:0', grad_fn=<NllLossBackward>),\n",
              " tensor(-0.4529, device='cuda:0', grad_fn=<NllLossBackward>),\n",
              " tensor(-0.5155, device='cuda:0', grad_fn=<NllLossBackward>),\n",
              " tensor(-0.4831, device='cuda:0', grad_fn=<NllLossBackward>),\n",
              " tensor(-0.4675, device='cuda:0', grad_fn=<NllLossBackward>),\n",
              " tensor(-0.3749, device='cuda:0', grad_fn=<NllLossBackward>),\n",
              " tensor(-0.4529, device='cuda:0', grad_fn=<NllLossBackward>),\n",
              " tensor(-0.5612, device='cuda:0', grad_fn=<NllLossBackward>),\n",
              " tensor(-0.5299, device='cuda:0', grad_fn=<NllLossBackward>),\n",
              " tensor(-0.4363, device='cuda:0', grad_fn=<NllLossBackward>),\n",
              " tensor(-0.4373, device='cuda:0', grad_fn=<NllLossBackward>),\n",
              " tensor(-0.4207, device='cuda:0', grad_fn=<NllLossBackward>),\n",
              " tensor(-0.4062, device='cuda:0', grad_fn=<NllLossBackward>),\n",
              " tensor(-0.4217, device='cuda:0', grad_fn=<NllLossBackward>),\n",
              " tensor(-0.4831, device='cuda:0', grad_fn=<NllLossBackward>),\n",
              " tensor(-0.5612, device='cuda:0', grad_fn=<NllLossBackward>),\n",
              " tensor(-0.3593, device='cuda:0', grad_fn=<NllLossBackward>),\n",
              " tensor(-0.4363, device='cuda:0', grad_fn=<NllLossBackward>),\n",
              " tensor(-0.4832, device='cuda:0', grad_fn=<NllLossBackward>),\n",
              " tensor(-0.4374, device='cuda:0', grad_fn=<NllLossBackward>),\n",
              " tensor(-0.5310, device='cuda:0', grad_fn=<NllLossBackward>),\n",
              " tensor(-0.4841, device='cuda:0', grad_fn=<NllLossBackward>),\n",
              " tensor(-0.3593, device='cuda:0', grad_fn=<NllLossBackward>),\n",
              " tensor(-0.4061, device='cuda:0', grad_fn=<NllLossBackward>),\n",
              " tensor(-0.4218, device='cuda:0', grad_fn=<NllLossBackward>),\n",
              " tensor(-0.5613, device='cuda:0', grad_fn=<NllLossBackward>),\n",
              " tensor(-0.3583, device='cuda:0', grad_fn=<NllLossBackward>),\n",
              " tensor(-0.5301, device='cuda:0', grad_fn=<NllLossBackward>),\n",
              " tensor(-0.5457, device='cuda:0', grad_fn=<NllLossBackward>),\n",
              " tensor(-0.4062, device='cuda:0', grad_fn=<NllLossBackward>),\n",
              " tensor(-0.4208, device='cuda:0', grad_fn=<NllLossBackward>),\n",
              " tensor(-0.5310, device='cuda:0', grad_fn=<NllLossBackward>),\n",
              " tensor(-0.4374, device='cuda:0', grad_fn=<NllLossBackward>),\n",
              " tensor(-0.4364, device='cuda:0', grad_fn=<NllLossBackward>),\n",
              " tensor(-0.4989, device='cuda:0', grad_fn=<NllLossBackward>),\n",
              " tensor(-0.4989, device='cuda:0', grad_fn=<NllLossBackward>),\n",
              " tensor(-0.5779, device='cuda:0', grad_fn=<NllLossBackward>),\n",
              " tensor(-0.4521, device='cuda:0', grad_fn=<NllLossBackward>),\n",
              " tensor(-0.4686, device='cuda:0', grad_fn=<NllLossBackward>),\n",
              " tensor(-0.4833, device='cuda:0', grad_fn=<NllLossBackward>),\n",
              " tensor(-0.4061, device='cuda:0', grad_fn=<NllLossBackward>),\n",
              " tensor(-0.4052, device='cuda:0', grad_fn=<NllLossBackward>),\n",
              " tensor(-0.3750, device='cuda:0', grad_fn=<NllLossBackward>),\n",
              " tensor(-0.4052, device='cuda:0', grad_fn=<NllLossBackward>),\n",
              " tensor(-0.4998, device='cuda:0', grad_fn=<NllLossBackward>),\n",
              " tensor(-0.4842, device='cuda:0', grad_fn=<NllLossBackward>),\n",
              " tensor(-0.4209, device='cuda:0', grad_fn=<NllLossBackward>),\n",
              " tensor(-0.4365, device='cuda:0', grad_fn=<NllLossBackward>),\n",
              " tensor(-0.4365, device='cuda:0', grad_fn=<NllLossBackward>),\n",
              " tensor(-0.4209, device='cuda:0', grad_fn=<NllLossBackward>),\n",
              " tensor(-0.4218, device='cuda:0', grad_fn=<NllLossBackward>),\n",
              " tensor(-0.4521, device='cuda:0', grad_fn=<NllLossBackward>),\n",
              " tensor(-0.4530, device='cuda:0', grad_fn=<NllLossBackward>),\n",
              " tensor(-0.3749, device='cuda:0', grad_fn=<NllLossBackward>),\n",
              " tensor(-0.3594, device='cuda:0', grad_fn=<NllLossBackward>),\n",
              " tensor(-0.4061, device='cuda:0', grad_fn=<NllLossBackward>),\n",
              " tensor(-0.4842, device='cuda:0', grad_fn=<NllLossBackward>),\n",
              " tensor(-0.3741, device='cuda:0', grad_fn=<NllLossBackward>),\n",
              " tensor(-0.5146, device='cuda:0', grad_fn=<NllLossBackward>),\n",
              " tensor(-0.4530, device='cuda:0', grad_fn=<NllLossBackward>),\n",
              " tensor(-0.5622, device='cuda:0', grad_fn=<NllLossBackward>),\n",
              " tensor(-0.4990, device='cuda:0', grad_fn=<NllLossBackward>),\n",
              " tensor(-0.4687, device='cuda:0', grad_fn=<NllLossBackward>),\n",
              " tensor(-0.4834, device='cuda:0', grad_fn=<NllLossBackward>),\n",
              " tensor(-0.3897, device='cuda:0', grad_fn=<NllLossBackward>),\n",
              " tensor(-0.4530, device='cuda:0', grad_fn=<NllLossBackward>),\n",
              " tensor(-0.3741, device='cuda:0', grad_fn=<NllLossBackward>),\n",
              " tensor(-0.4522, device='cuda:0', grad_fn=<NllLossBackward>),\n",
              " tensor(-0.5771, device='cuda:0', grad_fn=<NllLossBackward>),\n",
              " tensor(-0.5311, device='cuda:0', grad_fn=<NllLossBackward>),\n",
              " tensor(-0.5154, device='cuda:0', grad_fn=<NllLossBackward>),\n",
              " tensor(-0.5615, device='cuda:0', grad_fn=<NllLossBackward>),\n",
              " tensor(-0.5154, device='cuda:0', grad_fn=<NllLossBackward>),\n",
              " tensor(-0.3585, device='cuda:0', grad_fn=<NllLossBackward>),\n",
              " tensor(-0.4374, device='cuda:0', grad_fn=<NllLossBackward>),\n",
              " tensor(-0.4998, device='cuda:0', grad_fn=<NllLossBackward>),\n",
              " tensor(-0.4991, device='cuda:0', grad_fn=<NllLossBackward>),\n",
              " tensor(-0.4373, device='cuda:0', grad_fn=<NllLossBackward>),\n",
              " tensor(-0.5154, device='cuda:0', grad_fn=<NllLossBackward>),\n",
              " tensor(-0.5935, device='cuda:0', grad_fn=<NllLossBackward>),\n",
              " tensor(-0.4217, device='cuda:0', grad_fn=<NllLossBackward>),\n",
              " tensor(-0.4530, device='cuda:0', grad_fn=<NllLossBackward>),\n",
              " tensor(-0.4373, device='cuda:0', grad_fn=<NllLossBackward>),\n",
              " tensor(-0.4999, device='cuda:0', grad_fn=<NllLossBackward>),\n",
              " tensor(-0.5147, device='cuda:0', grad_fn=<NllLossBackward>),\n",
              " tensor(-0.4218, device='cuda:0', grad_fn=<NllLossBackward>),\n",
              " tensor(-0.5311, device='cuda:0', grad_fn=<NllLossBackward>),\n",
              " tensor(-0.4374, device='cuda:0', grad_fn=<NllLossBackward>),\n",
              " tensor(-0.5310, device='cuda:0', grad_fn=<NllLossBackward>),\n",
              " tensor(-0.4061, device='cuda:0', grad_fn=<NllLossBackward>),\n",
              " tensor(-0.4991, device='cuda:0', grad_fn=<NllLossBackward>),\n",
              " tensor(-0.5304, device='cuda:0', grad_fn=<NllLossBackward>),\n",
              " tensor(-0.4842, device='cuda:0', grad_fn=<NllLossBackward>),\n",
              " tensor(-0.4530, device='cuda:0', grad_fn=<NllLossBackward>),\n",
              " tensor(-0.4686, device='cuda:0', grad_fn=<NllLossBackward>),\n",
              " tensor(-0.5304, device='cuda:0', grad_fn=<NllLossBackward>),\n",
              " tensor(-0.4843, device='cuda:0', grad_fn=<NllLossBackward>),\n",
              " tensor(-0.5155, device='cuda:0', grad_fn=<NllLossBackward>),\n",
              " tensor(-0.4374, device='cuda:0', grad_fn=<NllLossBackward>),\n",
              " tensor(-0.4842, device='cuda:0', grad_fn=<NllLossBackward>),\n",
              " tensor(-0.3749, device='cuda:0', grad_fn=<NllLossBackward>),\n",
              " tensor(-0.4835, device='cuda:0', grad_fn=<NllLossBackward>),\n",
              " tensor(-0.4679, device='cuda:0', grad_fn=<NllLossBackward>),\n",
              " tensor(-0.4523, device='cuda:0', grad_fn=<NllLossBackward>),\n",
              " tensor(-0.4686, device='cuda:0', grad_fn=<NllLossBackward>),\n",
              " tensor(-0.4211, device='cuda:0', grad_fn=<NllLossBackward>),\n",
              " tensor(-0.4999, device='cuda:0', grad_fn=<NllLossBackward>),\n",
              " tensor(-0.5467, device='cuda:0', grad_fn=<NllLossBackward>),\n",
              " tensor(-0.5935, device='cuda:0', grad_fn=<NllLossBackward>),\n",
              " tensor(-0.6872, device='cuda:0', grad_fn=<NllLossBackward>),\n",
              " tensor(-0.4843, device='cuda:0', grad_fn=<NllLossBackward>),\n",
              " tensor(-0.5468, device='cuda:0', grad_fn=<NllLossBackward>),\n",
              " tensor(-0.4998, device='cuda:0', grad_fn=<NllLossBackward>),\n",
              " tensor(-0.5311, device='cuda:0', grad_fn=<NllLossBackward>),\n",
              " tensor(-0.5304, device='cuda:0', grad_fn=<NllLossBackward>),\n",
              " tensor(-0.5460, device='cuda:0', grad_fn=<NllLossBackward>),\n",
              " tensor(-0.4686, device='cuda:0', grad_fn=<NllLossBackward>),\n",
              " tensor(-0.4217, device='cuda:0', grad_fn=<NllLossBackward>),\n",
              " tensor(-0.4218, device='cuda:0', grad_fn=<NllLossBackward>),\n",
              " tensor(-0.4686, device='cuda:0', grad_fn=<NllLossBackward>),\n",
              " tensor(-0.4211, device='cuda:0', grad_fn=<NllLossBackward>),\n",
              " tensor(-0.4523, device='cuda:0', grad_fn=<NllLossBackward>),\n",
              " tensor(-0.3905, device='cuda:0', grad_fn=<NllLossBackward>),\n",
              " tensor(-0.4374, device='cuda:0', grad_fn=<NllLossBackward>),\n",
              " tensor(-0.4523, device='cuda:0', grad_fn=<NllLossBackward>),\n",
              " tensor(-0.5148, device='cuda:0', grad_fn=<NllLossBackward>),\n",
              " tensor(-0.4367, device='cuda:0', grad_fn=<NllLossBackward>),\n",
              " tensor(-0.4686, device='cuda:0', grad_fn=<NllLossBackward>),\n",
              " tensor(-0.3274, device='cuda:0', grad_fn=<NllLossBackward>),\n",
              " tensor(-0.4680, device='cuda:0', grad_fn=<NllLossBackward>),\n",
              " tensor(-0.4055, device='cuda:0', grad_fn=<NllLossBackward>),\n",
              " tensor(-0.4842, device='cuda:0', grad_fn=<NllLossBackward>),\n",
              " tensor(-0.4374, device='cuda:0', grad_fn=<NllLossBackward>),\n",
              " tensor(-0.4530, device='cuda:0', grad_fn=<NllLossBackward>),\n",
              " tensor(-0.4218, device='cuda:0', grad_fn=<NllLossBackward>),\n",
              " tensor(-0.5461, device='cuda:0', grad_fn=<NllLossBackward>),\n",
              " tensor(-0.4531, device='cuda:0', grad_fn=<NllLossBackward>),\n",
              " tensor(-0.5712, device='cuda:0', grad_fn=<NllLossBackward>),\n",
              " tensor(-0.5461, device='cuda:0', grad_fn=<NllLossBackward>),\n",
              " tensor(-0.5149, device='cuda:0', grad_fn=<NllLossBackward>),\n",
              " tensor(-0.4993, device='cuda:0', grad_fn=<NllLossBackward>),\n",
              " tensor(-0.4530, device='cuda:0', grad_fn=<NllLossBackward>),\n",
              " tensor(-0.5311, device='cuda:0', grad_fn=<NllLossBackward>),\n",
              " tensor(-0.4993, device='cuda:0', grad_fn=<NllLossBackward>),\n",
              " tensor(-0.5155, device='cuda:0', grad_fn=<NllLossBackward>),\n",
              " tensor(-0.3906, device='cuda:0', grad_fn=<NllLossBackward>),\n",
              " tensor(-0.4686, device='cuda:0', grad_fn=<NllLossBackward>),\n",
              " tensor(-0.4842, device='cuda:0', grad_fn=<NllLossBackward>),\n",
              " tensor(-0.5774, device='cuda:0', grad_fn=<NllLossBackward>),\n",
              " tensor(-0.5311, device='cuda:0', grad_fn=<NllLossBackward>),\n",
              " tensor(-0.5149, device='cuda:0', grad_fn=<NllLossBackward>),\n",
              " tensor(-0.5155, device='cuda:0', grad_fn=<NllLossBackward>),\n",
              " tensor(-0.4686, device='cuda:0', grad_fn=<NllLossBackward>),\n",
              " tensor(-0.4837, device='cuda:0', grad_fn=<NllLossBackward>),\n",
              " tensor(-0.5311, device='cuda:0', grad_fn=<NllLossBackward>),\n",
              " tensor(-0.4524, device='cuda:0', grad_fn=<NllLossBackward>),\n",
              " tensor(-0.4212, device='cuda:0', grad_fn=<NllLossBackward>),\n",
              " tensor(-0.6092, device='cuda:0', grad_fn=<NllLossBackward>),\n",
              " tensor(-0.5624, device='cuda:0', grad_fn=<NllLossBackward>),\n",
              " tensor(-0.4687, device='cuda:0', grad_fn=<NllLossBackward>),\n",
              " tensor(-0.3749, device='cuda:0', grad_fn=<NllLossBackward>),\n",
              " tensor(-0.4218, device='cuda:0', grad_fn=<NllLossBackward>),\n",
              " tensor(-0.4212, device='cuda:0', grad_fn=<NllLossBackward>),\n",
              " tensor(-0.4374, device='cuda:0', grad_fn=<NllLossBackward>),\n",
              " tensor(-0.4837, device='cuda:0', grad_fn=<NllLossBackward>),\n",
              " tensor(-0.5305, device='cuda:0', grad_fn=<NllLossBackward>),\n",
              " tensor(-0.4218, device='cuda:0', grad_fn=<NllLossBackward>),\n",
              " tensor(-0.5155, device='cuda:0', grad_fn=<NllLossBackward>),\n",
              " tensor(-0.4525, device='cuda:0', grad_fn=<NllLossBackward>),\n",
              " tensor(-0.4056, device='cuda:0', grad_fn=<NllLossBackward>),\n",
              " tensor(-0.4681, device='cuda:0', grad_fn=<NllLossBackward>),\n",
              " tensor(-0.4999, device='cuda:0', grad_fn=<NllLossBackward>),\n",
              " tensor(-0.4993, device='cuda:0', grad_fn=<NllLossBackward>),\n",
              " tensor(-0.4212, device='cuda:0', grad_fn=<NllLossBackward>),\n",
              " tensor(-0.5468, device='cuda:0', grad_fn=<NllLossBackward>),\n",
              " tensor(-0.2963, device='cuda:0', grad_fn=<NllLossBackward>),\n",
              " tensor(-0.5623, device='cuda:0', grad_fn=<NllLossBackward>),\n",
              " tensor(-0.4369, device='cuda:0', grad_fn=<NllLossBackward>),\n",
              " tensor(-0.4842, device='cuda:0', grad_fn=<NllLossBackward>),\n",
              " tensor(-0.4842, device='cuda:0', grad_fn=<NllLossBackward>),\n",
              " tensor(-0.5306, device='cuda:0', grad_fn=<NllLossBackward>),\n",
              " tensor(-0.4218, device='cuda:0', grad_fn=<NllLossBackward>),\n",
              " tensor(-0.4056, device='cuda:0', grad_fn=<NllLossBackward>),\n",
              " tensor(-0.5311, device='cuda:0', grad_fn=<NllLossBackward>),\n",
              " tensor(-0.4057, device='cuda:0', grad_fn=<NllLossBackward>),\n",
              " tensor(-0.3900, device='cuda:0', grad_fn=<NllLossBackward>),\n",
              " tensor(-0.4369, device='cuda:0', grad_fn=<NllLossBackward>),\n",
              " tensor(-0.4999, device='cuda:0', grad_fn=<NllLossBackward>),\n",
              " tensor(-0.5306, device='cuda:0', grad_fn=<NllLossBackward>),\n",
              " tensor(-0.4374, device='cuda:0', grad_fn=<NllLossBackward>),\n",
              " tensor(-0.5468, device='cuda:0', grad_fn=<NllLossBackward>),\n",
              " tensor(-0.5150, device='cuda:0', grad_fn=<NllLossBackward>),\n",
              " tensor(-0.5312, device='cuda:0', grad_fn=<NllLossBackward>),\n",
              " tensor(-0.4994, device='cuda:0', grad_fn=<NllLossBackward>),\n",
              " tensor(-0.4686, device='cuda:0', grad_fn=<NllLossBackward>),\n",
              " tensor(-0.4838, device='cuda:0', grad_fn=<NllLossBackward>),\n",
              " tensor(-0.4994, device='cuda:0', grad_fn=<NllLossBackward>),\n",
              " tensor(-0.5780, device='cuda:0', grad_fn=<NllLossBackward>),\n",
              " tensor(-0.3749, device='cuda:0', grad_fn=<NllLossBackward>),\n",
              " tensor(-0.5306, device='cuda:0', grad_fn=<NllLossBackward>),\n",
              " tensor(-0.3588, device='cuda:0', grad_fn=<NllLossBackward>),\n",
              " tensor(-0.4530, device='cuda:0', grad_fn=<NllLossBackward>),\n",
              " tensor(-0.4218, device='cuda:0', grad_fn=<NllLossBackward>),\n",
              " tensor(-0.5150, device='cuda:0', grad_fn=<NllLossBackward>),\n",
              " tensor(-0.3276, device='cuda:0', grad_fn=<NllLossBackward>),\n",
              " tensor(-0.4682, device='cuda:0', grad_fn=<NllLossBackward>),\n",
              " tensor(-0.4374, device='cuda:0', grad_fn=<NllLossBackward>),\n",
              " tensor(-0.5306, device='cuda:0', grad_fn=<NllLossBackward>),\n",
              " tensor(-0.4369, device='cuda:0', grad_fn=<NllLossBackward>),\n",
              " tensor(-0.5463, device='cuda:0', grad_fn=<NllLossBackward>),\n",
              " tensor(-0.3593, device='cuda:0', grad_fn=<NllLossBackward>),\n",
              " tensor(-0.4843, device='cuda:0', grad_fn=<NllLossBackward>),\n",
              " tensor(-0.4374, device='cuda:0', grad_fn=<NllLossBackward>),\n",
              " tensor(-0.3437, device='cuda:0', grad_fn=<NllLossBackward>),\n",
              " tensor(-0.4218, device='cuda:0', grad_fn=<NllLossBackward>),\n",
              " tensor(-0.4530, device='cuda:0', grad_fn=<NllLossBackward>),\n",
              " tensor(-0.4213, device='cuda:0', grad_fn=<NllLossBackward>),\n",
              " tensor(-0.4838, device='cuda:0', grad_fn=<NllLossBackward>),\n",
              " tensor(-0.4994, device='cuda:0', grad_fn=<NllLossBackward>),\n",
              " tensor(-0.4843, device='cuda:0', grad_fn=<NllLossBackward>),\n",
              " tensor(-0.4838, device='cuda:0', grad_fn=<NllLossBackward>),\n",
              " tensor(-0.4374, device='cuda:0', grad_fn=<NllLossBackward>),\n",
              " tensor(-0.4374, device='cuda:0', grad_fn=<NllLossBackward>),\n",
              " tensor(-0.4062, device='cuda:0', grad_fn=<NllLossBackward>),\n",
              " tensor(-0.4062, device='cuda:0', grad_fn=<NllLossBackward>),\n",
              " tensor(-0.4526, device='cuda:0', grad_fn=<NllLossBackward>),\n",
              " tensor(-0.4218, device='cuda:0', grad_fn=<NllLossBackward>),\n",
              " tensor(-0.4218, device='cuda:0', grad_fn=<NllLossBackward>),\n",
              " tensor(-0.5151, device='cuda:0', grad_fn=<NllLossBackward>),\n",
              " tensor(-0.4843, device='cuda:0', grad_fn=<NllLossBackward>),\n",
              " tensor(-0.4838, device='cuda:0', grad_fn=<NllLossBackward>),\n",
              " tensor(-0.5311, device='cuda:0', grad_fn=<NllLossBackward>),\n",
              " tensor(-0.4999, device='cuda:0', grad_fn=<NllLossBackward>),\n",
              " tensor(-0.4531, device='cuda:0', grad_fn=<NllLossBackward>),\n",
              " tensor(-0.4838, device='cuda:0', grad_fn=<NllLossBackward>),\n",
              " tensor(-0.4682, device='cuda:0', grad_fn=<NllLossBackward>),\n",
              " tensor(-0.5776, device='cuda:0', grad_fn=<NllLossBackward>),\n",
              " tensor(-0.4530, device='cuda:0', grad_fn=<NllLossBackward>),\n",
              " tensor(-0.5468, device='cuda:0', grad_fn=<NllLossBackward>),\n",
              " tensor(-0.4687, device='cuda:0', grad_fn=<NllLossBackward>),\n",
              " tensor(-0.4995, device='cuda:0', grad_fn=<NllLossBackward>),\n",
              " tensor(-0.4526, device='cuda:0', grad_fn=<NllLossBackward>),\n",
              " tensor(-0.4526, device='cuda:0', grad_fn=<NllLossBackward>),\n",
              " tensor(-0.5467, device='cuda:0', grad_fn=<NllLossBackward>),\n",
              " tensor(-0.5463, device='cuda:0', grad_fn=<NllLossBackward>),\n",
              " tensor(-0.4682, device='cuda:0', grad_fn=<NllLossBackward>),\n",
              " tensor(-0.5463, device='cuda:0', grad_fn=<NllLossBackward>),\n",
              " tensor(-0.5307, device='cuda:0', grad_fn=<NllLossBackward>),\n",
              " tensor(-0.5155, device='cuda:0', grad_fn=<NllLossBackward>),\n",
              " tensor(-0.4531, device='cuda:0', grad_fn=<NllLossBackward>),\n",
              " tensor(-0.4058, device='cuda:0', grad_fn=<NllLossBackward>),\n",
              " tensor(-0.4374, device='cuda:0', grad_fn=<NllLossBackward>),\n",
              " tensor(-0.4526, device='cuda:0', grad_fn=<NllLossBackward>),\n",
              " tensor(-0.4062, device='cuda:0', grad_fn=<NllLossBackward>),\n",
              " tensor(-0.5780, device='cuda:0', grad_fn=<NllLossBackward>),\n",
              " tensor(-0.4218, device='cuda:0', grad_fn=<NllLossBackward>),\n",
              " tensor(-0.4683, device='cuda:0', grad_fn=<NllLossBackward>),\n",
              " tensor(-0.5463, device='cuda:0', grad_fn=<NllLossBackward>),\n",
              " tensor(-0.4531, device='cuda:0', grad_fn=<NllLossBackward>),\n",
              " tensor(-0.3745, device='cuda:0', grad_fn=<NllLossBackward>),\n",
              " tensor(-0.4062, device='cuda:0', grad_fn=<NllLossBackward>),\n",
              " tensor(-0.5463, device='cuda:0', grad_fn=<NllLossBackward>),\n",
              " tensor(-0.4374, device='cuda:0', grad_fn=<NllLossBackward>),\n",
              " tensor(-0.4526, device='cuda:0', grad_fn=<NllLossBackward>),\n",
              " tensor(-0.4058, device='cuda:0', grad_fn=<NllLossBackward>),\n",
              " tensor(-0.3906, device='cuda:0', grad_fn=<NllLossBackward>),\n",
              " tensor(-0.5151, device='cuda:0', grad_fn=<NllLossBackward>),\n",
              " tensor(-0.4999, device='cuda:0', grad_fn=<NllLossBackward>),\n",
              " tensor(-0.4058, device='cuda:0', grad_fn=<NllLossBackward>),\n",
              " tensor(-0.5155, device='cuda:0', grad_fn=<NllLossBackward>),\n",
              " tensor(-0.5467, device='cuda:0', grad_fn=<NllLossBackward>),\n",
              " tensor(-0.4214, device='cuda:0', grad_fn=<NllLossBackward>),\n",
              " tensor(-0.5308, device='cuda:0', grad_fn=<NllLossBackward>),\n",
              " tensor(-0.4214, device='cuda:0', grad_fn=<NllLossBackward>),\n",
              " tensor(-0.5624, device='cuda:0', grad_fn=<NllLossBackward>),\n",
              " tensor(-0.3749, device='cuda:0', grad_fn=<NllLossBackward>),\n",
              " tensor(-0.4530, device='cuda:0', grad_fn=<NllLossBackward>),\n",
              " tensor(-0.4839, device='cuda:0', grad_fn=<NllLossBackward>),\n",
              " tensor(-0.4527, device='cuda:0', grad_fn=<NllLossBackward>),\n",
              " tensor(-0.5620, device='cuda:0', grad_fn=<NllLossBackward>),\n",
              " tensor(-0.4371, device='cuda:0', grad_fn=<NllLossBackward>),\n",
              " tensor(-0.3281, device='cuda:0', grad_fn=<NllLossBackward>),\n",
              " tensor(-0.4839, device='cuda:0', grad_fn=<NllLossBackward>),\n",
              " tensor(-0.4371, device='cuda:0', grad_fn=<NllLossBackward>),\n",
              " tensor(-0.4843, device='cuda:0', grad_fn=<NllLossBackward>),\n",
              " tensor(-0.5311, device='cuda:0', grad_fn=<NllLossBackward>),\n",
              " tensor(-0.5467, device='cuda:0', grad_fn=<NllLossBackward>),\n",
              " tensor(-0.4999, device='cuda:0', grad_fn=<NllLossBackward>),\n",
              " tensor(-0.4999, device='cuda:0', grad_fn=<NllLossBackward>),\n",
              " tensor(-0.4999, device='cuda:0', grad_fn=<NllLossBackward>),\n",
              " tensor(-0.3746, device='cuda:0', grad_fn=<NllLossBackward>),\n",
              " tensor(-0.4995, device='cuda:0', grad_fn=<NllLossBackward>),\n",
              " tensor(-0.3437, device='cuda:0', grad_fn=<NllLossBackward>),\n",
              " tensor(-0.4683, device='cuda:0', grad_fn=<NllLossBackward>),\n",
              " tensor(-0.4371, device='cuda:0', grad_fn=<NllLossBackward>),\n",
              " tensor(-0.4527, device='cuda:0', grad_fn=<NllLossBackward>),\n",
              " tensor(-0.4687, device='cuda:0', grad_fn=<NllLossBackward>),\n",
              " tensor(-0.4058, device='cuda:0', grad_fn=<NllLossBackward>),\n",
              " tensor(-0.5464, device='cuda:0', grad_fn=<NllLossBackward>),\n",
              " tensor(-0.4683, device='cuda:0', grad_fn=<NllLossBackward>),\n",
              " tensor(-0.4687, device='cuda:0', grad_fn=<NllLossBackward>),\n",
              " tensor(-0.4843, device='cuda:0', grad_fn=<NllLossBackward>),\n",
              " tensor(-0.4999, device='cuda:0', grad_fn=<NllLossBackward>),\n",
              " tensor(-0.5467, device='cuda:0', grad_fn=<NllLossBackward>),\n",
              " tensor(-0.4687, device='cuda:0', grad_fn=<NllLossBackward>),\n",
              " tensor(-0.3594, device='cuda:0', grad_fn=<NllLossBackward>),\n",
              " tensor(-0.4843, device='cuda:0', grad_fn=<NllLossBackward>),\n",
              " tensor(-0.4374, device='cuda:0', grad_fn=<NllLossBackward>),\n",
              " tensor(-0.5152, device='cuda:0', grad_fn=<NllLossBackward>),\n",
              " tensor(-0.4374, device='cuda:0', grad_fn=<NllLossBackward>),\n",
              " tensor(-0.4839, device='cuda:0', grad_fn=<NllLossBackward>),\n",
              " tensor(-0.5464, device='cuda:0', grad_fn=<NllLossBackward>),\n",
              " tensor(-0.4996, device='cuda:0', grad_fn=<NllLossBackward>),\n",
              " tensor(-0.3593, device='cuda:0', grad_fn=<NllLossBackward>),\n",
              " tensor(-0.4371, device='cuda:0', grad_fn=<NllLossBackward>),\n",
              " tensor(-0.4215, device='cuda:0', grad_fn=<NllLossBackward>),\n",
              " tensor(-0.4062, device='cuda:0', grad_fn=<NllLossBackward>),\n",
              " tensor(-0.4840, device='cuda:0', grad_fn=<NllLossBackward>),\n",
              " tensor(-0.5152, device='cuda:0', grad_fn=<NllLossBackward>),\n",
              " tensor(-0.3125, device='cuda:0', grad_fn=<NllLossBackward>),\n",
              " tensor(-0.4218, device='cuda:0', grad_fn=<NllLossBackward>),\n",
              " tensor(-0.4683, device='cuda:0', grad_fn=<NllLossBackward>),\n",
              " tensor(-0.4062, device='cuda:0', grad_fn=<NllLossBackward>),\n",
              " tensor(-0.4218, device='cuda:0', grad_fn=<NllLossBackward>),\n",
              " tensor(-0.5468, device='cuda:0', grad_fn=<NllLossBackward>),\n",
              " tensor(-0.4683, device='cuda:0', grad_fn=<NllLossBackward>),\n",
              " tensor(-0.4215, device='cuda:0', grad_fn=<NllLossBackward>),\n",
              " tensor(-0.5308, device='cuda:0', grad_fn=<NllLossBackward>),\n",
              " tensor(-0.4687, device='cuda:0', grad_fn=<NllLossBackward>),\n",
              " tensor(-0.4531, device='cuda:0', grad_fn=<NllLossBackward>),\n",
              " tensor(-0.4840, device='cuda:0', grad_fn=<NllLossBackward>),\n",
              " tensor(-0.3749, device='cuda:0', grad_fn=<NllLossBackward>),\n",
              " tensor(-0.4686, device='cuda:0', grad_fn=<NllLossBackward>),\n",
              " tensor(-0.4684, device='cuda:0', grad_fn=<NllLossBackward>),\n",
              " tensor(-0.4687, device='cuda:0', grad_fn=<NllLossBackward>),\n",
              " tensor(-0.4999, device='cuda:0', grad_fn=<NllLossBackward>),\n",
              " tensor(-0.4063, device='cuda:0', grad_fn=<NllLossBackward>),\n",
              " tensor(-0.6246, device='cuda:0', grad_fn=<NllLossBackward>),\n",
              " tensor(-0.4684, device='cuda:0', grad_fn=<NllLossBackward>),\n",
              " tensor(-0.5155, device='cuda:0', grad_fn=<NllLossBackward>),\n",
              " tensor(-0.4531, device='cuda:0', grad_fn=<NllLossBackward>),\n",
              " tensor(-0.4218, device='cuda:0', grad_fn=<NllLossBackward>),\n",
              " tensor(-0.4840, device='cuda:0', grad_fn=<NllLossBackward>),\n",
              " tensor(-0.4996, device='cuda:0', grad_fn=<NllLossBackward>),\n",
              " tensor(-0.4062, device='cuda:0', grad_fn=<NllLossBackward>),\n",
              " tensor(-0.5152, device='cuda:0', grad_fn=<NllLossBackward>),\n",
              " tensor(-0.4062, device='cuda:0', grad_fn=<NllLossBackward>),\n",
              " tensor(-0.5465, device='cuda:0', grad_fn=<NllLossBackward>),\n",
              " tensor(-0.3903, device='cuda:0', grad_fn=<NllLossBackward>),\n",
              " tensor(-0.5465, device='cuda:0', grad_fn=<NllLossBackward>),\n",
              " tensor(-0.4371, device='cuda:0', grad_fn=<NllLossBackward>),\n",
              " tensor(-0.4531, device='cuda:0', grad_fn=<NllLossBackward>),\n",
              " tensor(-0.4843, device='cuda:0', grad_fn=<NllLossBackward>),\n",
              " tensor(-0.5465, device='cuda:0', grad_fn=<NllLossBackward>),\n",
              " tensor(-0.5309, device='cuda:0', grad_fn=<NllLossBackward>),\n",
              " tensor(-0.4686, device='cuda:0', grad_fn=<NllLossBackward>),\n",
              " tensor(-0.4062, device='cuda:0', grad_fn=<NllLossBackward>),\n",
              " tensor(-0.5624, device='cuda:0', grad_fn=<NllLossBackward>),\n",
              " tensor(-0.4530, device='cuda:0', grad_fn=<NllLossBackward>),\n",
              " tensor(-0.5621, device='cuda:0', grad_fn=<NllLossBackward>),\n",
              " tensor(-0.4528, device='cuda:0', grad_fn=<NllLossBackward>),\n",
              " tensor(-0.4374, device='cuda:0', grad_fn=<NllLossBackward>),\n",
              " tensor(-0.3906, device='cuda:0', grad_fn=<NllLossBackward>),\n",
              " tensor(-0.4371, device='cuda:0', grad_fn=<NllLossBackward>),\n",
              " tensor(-0.5152, device='cuda:0', grad_fn=<NllLossBackward>),\n",
              " tensor(-0.4371, device='cuda:0', grad_fn=<NllLossBackward>),\n",
              " tensor(-0.4374, device='cuda:0', grad_fn=<NllLossBackward>),\n",
              " tensor(-0.4371, device='cuda:0', grad_fn=<NllLossBackward>),\n",
              " tensor(-0.4059, device='cuda:0', grad_fn=<NllLossBackward>),\n",
              " tensor(-0.4062, device='cuda:0', grad_fn=<NllLossBackward>),\n",
              " tensor(-0.5155, device='cuda:0', grad_fn=<NllLossBackward>),\n",
              " tensor(-0.3591, device='cuda:0', grad_fn=<NllLossBackward>),\n",
              " tensor(-0.4528, device='cuda:0', grad_fn=<NllLossBackward>),\n",
              " tensor(-0.4687, device='cuda:0', grad_fn=<NllLossBackward>),\n",
              " tensor(-0.3437, device='cuda:0', grad_fn=<NllLossBackward>),\n",
              " tensor(-0.5309, device='cuda:0', grad_fn=<NllLossBackward>),\n",
              " tensor(-0.4528, device='cuda:0', grad_fn=<NllLossBackward>),\n",
              " tensor(-0.4062, device='cuda:0', grad_fn=<NllLossBackward>),\n",
              " tensor(-0.4059, device='cuda:0', grad_fn=<NllLossBackward>),\n",
              " tensor(-0.4686, device='cuda:0', grad_fn=<NllLossBackward>),\n",
              " tensor(-0.4531, device='cuda:0', grad_fn=<NllLossBackward>),\n",
              " tensor(-0.4843, device='cuda:0', grad_fn=<NllLossBackward>),\n",
              " tensor(-0.4062, device='cuda:0', grad_fn=<NllLossBackward>),\n",
              " tensor(-0.4999, device='cuda:0', grad_fn=<NllLossBackward>),\n",
              " tensor(-0.4840, device='cuda:0', grad_fn=<NllLossBackward>),\n",
              " tensor(-0.4996, device='cuda:0', grad_fn=<NllLossBackward>),\n",
              " tensor(-0.4374, device='cuda:0', grad_fn=<NllLossBackward>),\n",
              " tensor(-0.4374, device='cuda:0', grad_fn=<NllLossBackward>),\n",
              " tensor(-0.5934, device='cuda:0', grad_fn=<NllLossBackward>),\n",
              " tensor(-0.4840, device='cuda:0', grad_fn=<NllLossBackward>),\n",
              " tensor(-0.4531, device='cuda:0', grad_fn=<NllLossBackward>),\n",
              " tensor(-0.5621, device='cuda:0', grad_fn=<NllLossBackward>),\n",
              " tensor(-0.3434, device='cuda:0', grad_fn=<NllLossBackward>),\n",
              " tensor(-0.4684, device='cuda:0', grad_fn=<NllLossBackward>),\n",
              " tensor(-0.4996, device='cuda:0', grad_fn=<NllLossBackward>),\n",
              " tensor(-0.5780, device='cuda:0', grad_fn=<NllLossBackward>),\n",
              " tensor(-0.4684, device='cuda:0', grad_fn=<NllLossBackward>),\n",
              " tensor(-0.4843, device='cuda:0', grad_fn=<NllLossBackward>),\n",
              " tensor(-0.4997, device='cuda:0', grad_fn=<NllLossBackward>),\n",
              " tensor(-0.6090, device='cuda:0', grad_fn=<NllLossBackward>),\n",
              " tensor(-0.5934, device='cuda:0', grad_fn=<NllLossBackward>),\n",
              " tensor(-0.4218, device='cuda:0', grad_fn=<NllLossBackward>),\n",
              " tensor(-0.4062, device='cuda:0', grad_fn=<NllLossBackward>),\n",
              " tensor(-0.4218, device='cuda:0', grad_fn=<NllLossBackward>),\n",
              " tensor(-0.5468, device='cuda:0', grad_fn=<NllLossBackward>),\n",
              " tensor(-0.5153, device='cuda:0', grad_fn=<NllLossBackward>),\n",
              " tensor(-0.4059, device='cuda:0', grad_fn=<NllLossBackward>),\n",
              " tensor(-0.4999, device='cuda:0', grad_fn=<NllLossBackward>),\n",
              " tensor(-0.4997, device='cuda:0', grad_fn=<NllLossBackward>),\n",
              " tensor(-0.4687, device='cuda:0', grad_fn=<NllLossBackward>),\n",
              " tensor(-0.5311, device='cuda:0', grad_fn=<NllLossBackward>),\n",
              " tensor(-0.5153, device='cuda:0', grad_fn=<NllLossBackward>),\n",
              " tensor(-0.4218, device='cuda:0', grad_fn=<NllLossBackward>),\n",
              " tensor(-0.5309, device='cuda:0', grad_fn=<NllLossBackward>),\n",
              " tensor(-0.4530, device='cuda:0', grad_fn=<NllLossBackward>),\n",
              " tensor(-0.5622, device='cuda:0', grad_fn=<NllLossBackward>),\n",
              " tensor(-0.4684, device='cuda:0', grad_fn=<NllLossBackward>),\n",
              " tensor(-0.5778, device='cuda:0', grad_fn=<NllLossBackward>),\n",
              " tensor(-0.4841, device='cuda:0', grad_fn=<NllLossBackward>),\n",
              " tensor(-0.4687, device='cuda:0', grad_fn=<NllLossBackward>),\n",
              " tensor(-0.4841, device='cuda:0', grad_fn=<NllLossBackward>),\n",
              " tensor(-0.4218, device='cuda:0', grad_fn=<NllLossBackward>),\n",
              " tensor(-0.3903, device='cuda:0', grad_fn=<NllLossBackward>),\n",
              " tensor(-0.4528, device='cuda:0', grad_fn=<NllLossBackward>),\n",
              " tensor(-0.4531, device='cuda:0', grad_fn=<NllLossBackward>),\n",
              " tensor(-0.4528, device='cuda:0', grad_fn=<NllLossBackward>),\n",
              " tensor(-0.4684, device='cuda:0', grad_fn=<NllLossBackward>),\n",
              " tensor(-0.4218, device='cuda:0', grad_fn=<NllLossBackward>),\n",
              " tensor(-0.4372, device='cuda:0', grad_fn=<NllLossBackward>),\n",
              " tensor(-0.4843, device='cuda:0', grad_fn=<NllLossBackward>),\n",
              " tensor(-0.5155, device='cuda:0', grad_fn=<NllLossBackward>),\n",
              " tensor(-0.3906, device='cuda:0', grad_fn=<NllLossBackward>),\n",
              " tensor(-0.4687, device='cuda:0', grad_fn=<NllLossBackward>),\n",
              " tensor(-0.4530, device='cuda:0', grad_fn=<NllLossBackward>),\n",
              " tensor(-0.4216, device='cuda:0', grad_fn=<NllLossBackward>),\n",
              " tensor(-0.4528, device='cuda:0', grad_fn=<NllLossBackward>),\n",
              " tensor(-0.3747, device='cuda:0', grad_fn=<NllLossBackward>),\n",
              " tensor(-0.4530, device='cuda:0', grad_fn=<NllLossBackward>),\n",
              " tensor(-0.4841, device='cuda:0', grad_fn=<NllLossBackward>),\n",
              " tensor(-0.3125, device='cuda:0', grad_fn=<NllLossBackward>),\n",
              " tensor(-0.3906, device='cuda:0', grad_fn=<NllLossBackward>),\n",
              " tensor(-0.4216, device='cuda:0', grad_fn=<NllLossBackward>),\n",
              " tensor(-0.5622, device='cuda:0', grad_fn=<NllLossBackward>),\n",
              " tensor(-0.4687, device='cuda:0', grad_fn=<NllLossBackward>),\n",
              " tensor(-0.5153, device='cuda:0', grad_fn=<NllLossBackward>),\n",
              " tensor(-0.4372, device='cuda:0', grad_fn=<NllLossBackward>),\n",
              " tensor(-0.3906, device='cuda:0', grad_fn=<NllLossBackward>),\n",
              " tensor(-0.4687, device='cuda:0', grad_fn=<NllLossBackward>),\n",
              " tensor(-0.5153, device='cuda:0', grad_fn=<NllLossBackward>),\n",
              " tensor(-0.5778, device='cuda:0', grad_fn=<NllLossBackward>),\n",
              " tensor(-0.4218, device='cuda:0', grad_fn=<NllLossBackward>),\n",
              " tensor(-0.3568, device='cuda:0', grad_fn=<NllLossBackward>),\n",
              " tensor(-0.4372, device='cuda:0', grad_fn=<NllLossBackward>),\n",
              " tensor(-0.4999, device='cuda:0', grad_fn=<NllLossBackward>),\n",
              " tensor(-0.4841, device='cuda:0', grad_fn=<NllLossBackward>),\n",
              " tensor(-0.5153, device='cuda:0', grad_fn=<NllLossBackward>),\n",
              " tensor(-0.5155, device='cuda:0', grad_fn=<NllLossBackward>),\n",
              " tensor(-0.5155, device='cuda:0', grad_fn=<NllLossBackward>),\n",
              " tensor(-0.4374, device='cuda:0', grad_fn=<NllLossBackward>),\n",
              " tensor(-0.4997, device='cuda:0', grad_fn=<NllLossBackward>),\n",
              " tensor(-0.5468, device='cuda:0', grad_fn=<NllLossBackward>),\n",
              " tensor(-0.4375, device='cuda:0', grad_fn=<NllLossBackward>),\n",
              " tensor(-0.4531, device='cuda:0', grad_fn=<NllLossBackward>),\n",
              " tensor(-0.3904, device='cuda:0', grad_fn=<NllLossBackward>),\n",
              " tensor(-0.4530, device='cuda:0', grad_fn=<NllLossBackward>),\n",
              " tensor(-0.4841, device='cuda:0', grad_fn=<NllLossBackward>),\n",
              " tensor(-0.4841, device='cuda:0', grad_fn=<NllLossBackward>),\n",
              " tensor(-0.4375, device='cuda:0', grad_fn=<NllLossBackward>),\n",
              " tensor(-0.4216, device='cuda:0', grad_fn=<NllLossBackward>),\n",
              " tensor(-0.4530, device='cuda:0', grad_fn=<NllLossBackward>),\n",
              " tensor(-0.4216, device='cuda:0', grad_fn=<NllLossBackward>),\n",
              " tensor(-0.4687, device='cuda:0', grad_fn=<NllLossBackward>),\n",
              " tensor(-0.4528, device='cuda:0', grad_fn=<NllLossBackward>),\n",
              " tensor(-0.4843, device='cuda:0', grad_fn=<NllLossBackward>),\n",
              " tensor(-0.4375, device='cuda:0', grad_fn=<NllLossBackward>),\n",
              " tensor(-0.4529, device='cuda:0', grad_fn=<NllLossBackward>),\n",
              " tensor(-0.4216, device='cuda:0', grad_fn=<NllLossBackward>),\n",
              " tensor(-0.4997, device='cuda:0', grad_fn=<NllLossBackward>),\n",
              " tensor(-0.3747, device='cuda:0', grad_fn=<NllLossBackward>),\n",
              " tensor(-0.3749, device='cuda:0', grad_fn=<NllLossBackward>),\n",
              " tensor(-0.5312, device='cuda:0', grad_fn=<NllLossBackward>),\n",
              " tensor(-0.4216, device='cuda:0', grad_fn=<NllLossBackward>),\n",
              " tensor(-0.4687, device='cuda:0', grad_fn=<NllLossBackward>),\n",
              " tensor(-0.4687, device='cuda:0', grad_fn=<NllLossBackward>),\n",
              " tensor(-0.5778, device='cuda:0', grad_fn=<NllLossBackward>),\n",
              " tensor(-0.5155, device='cuda:0', grad_fn=<NllLossBackward>),\n",
              " tensor(-0.4687, device='cuda:0', grad_fn=<NllLossBackward>),\n",
              " tensor(-0.3906, device='cuda:0', grad_fn=<NllLossBackward>),\n",
              " tensor(-0.5312, device='cuda:0', grad_fn=<NllLossBackward>),\n",
              " tensor(-0.4218, device='cuda:0', grad_fn=<NllLossBackward>),\n",
              " tensor(-0.5936, device='cuda:0', grad_fn=<NllLossBackward>),\n",
              " tensor(-0.4687, device='cuda:0', grad_fn=<NllLossBackward>),\n",
              " tensor(-0.4685, device='cuda:0', grad_fn=<NllLossBackward>),\n",
              " tensor(-0.4218, device='cuda:0', grad_fn=<NllLossBackward>),\n",
              " tensor(-0.4841, device='cuda:0', grad_fn=<NllLossBackward>),\n",
              " tensor(-0.4374, device='cuda:0', grad_fn=<NllLossBackward>),\n",
              " tensor(-0.5156, device='cuda:0', grad_fn=<NllLossBackward>),\n",
              " tensor(-0.5155, device='cuda:0', grad_fn=<NllLossBackward>),\n",
              " tensor(-0.4999, device='cuda:0', grad_fn=<NllLossBackward>),\n",
              " tensor(-0.5936, device='cuda:0', grad_fn=<NllLossBackward>),\n",
              " tensor(-0.5466, device='cuda:0', grad_fn=<NllLossBackward>),\n",
              " tensor(-0.4999, device='cuda:0', grad_fn=<NllLossBackward>),\n",
              " tensor(-0.5153, device='cuda:0', grad_fn=<NllLossBackward>),\n",
              " tensor(-0.5466, device='cuda:0', grad_fn=<NllLossBackward>),\n",
              " tensor(-0.4529, device='cuda:0', grad_fn=<NllLossBackward>),\n",
              " tensor(-0.5156, device='cuda:0', grad_fn=<NllLossBackward>),\n",
              " tensor(-0.4843, device='cuda:0', grad_fn=<NllLossBackward>),\n",
              " tensor(-0.5312, device='cuda:0', grad_fn=<NllLossBackward>),\n",
              " tensor(-0.4530, device='cuda:0', grad_fn=<NllLossBackward>),\n",
              " tensor(-0.4841, device='cuda:0', grad_fn=<NllLossBackward>),\n",
              " ...]"
            ]
          },
          "metadata": {
            "tags": []
          },
          "execution_count": 27
        }
      ]
    },
    {
      "metadata": {
        "id": "6hK4H8_XtjHd",
        "colab_type": "code",
        "colab": {
          "base_uri": "https://localhost:8080/",
          "height": 365
        },
        "outputId": "4934a0a5-656c-49c7-8d9a-7c819b5bf163"
      },
      "cell_type": "code",
      "source": [
        "plt.plot(los)"
      ],
      "execution_count": 32,
      "outputs": [
        {
          "output_type": "execute_result",
          "data": {
            "text/plain": [
              "[<matplotlib.lines.Line2D at 0x7f43f79560b8>]"
            ]
          },
          "metadata": {
            "tags": []
          },
          "execution_count": 32
        },
        {
          "output_type": "display_data",
          "data": {
            "image/png": "[encoded data removed]",
            "text/plain": [
              "<Figure size 576x396 with 1 Axes>"
            ]
          },
          "metadata": {
            "tags": []
          }
        }
      ]
    },
    {
      "metadata": {
        "id": "DEoK68J_BoVP",
        "colab_type": "code",
        "outputId": "522887d1-3dc3-4af7-efe9-2f0578b273ca",
        "colab": {
          "base_uri": "https://localhost:8080/",
          "height": 87
        }
      },
      "cell_type": "code",
      "source": [
        "model.to(torch.device('cuda'))"
      ],
      "execution_count": 28,
      "outputs": [
        {
          "output_type": "execute_result",
          "data": {
            "text/plain": [
              "RNN(\n",
              "  (rnn): RNN(57, 128)\n",
              "  (linear): Linear(in_features=128, out_features=18, bias=True)\n",
              ")"
            ]
          },
          "metadata": {
            "tags": []
          },
          "execution_count": 28
        }
      ]
    },
    {
      "metadata": {
        "id": "MGIrlQKYpqke",
        "colab_type": "code",
        "outputId": "a73b5c72-308d-4258-fa8a-407942e8f8f3",
        "colab": {
          "base_uri": "https://localhost:8080/",
          "height": 34
        }
      },
      "cell_type": "code",
      "source": [
        "torch.zeros(5).long()"
      ],
      "execution_count": 29,
      "outputs": [
        {
          "output_type": "execute_result",
          "data": {
            "text/plain": [
              "tensor([0, 0, 0, 0, 0])"
            ]
          },
          "metadata": {
            "tags": []
          },
          "execution_count": 29
        }
      ]
    },
    {
      "metadata": {
        "id": "liPcwRVno7VS",
        "colab_type": "code",
        "outputId": "b584a360-0242-4e57-d904-0d339382b09b",
        "colab": {
          "base_uri": "https://localhost:8080/",
          "height": 193
        }
      },
      "cell_type": "code",
      "source": [
        "torch.randint(10,(10,10))"
      ],
      "execution_count": 30,
      "outputs": [
        {
          "output_type": "execute_result",
          "data": {
            "text/plain": [
              "tensor([[2, 2, 9, 0, 5, 5, 0, 0, 2, 4],\n",
              "        [8, 7, 4, 1, 9, 3, 1, 4, 9, 1],\n",
              "        [2, 1, 5, 0, 0, 5, 3, 9, 4, 6],\n",
              "        [3, 7, 2, 5, 4, 7, 0, 5, 0, 9],\n",
              "        [5, 8, 2, 8, 3, 9, 2, 5, 0, 4],\n",
              "        [2, 4, 6, 6, 6, 0, 3, 2, 4, 7],\n",
              "        [5, 2, 3, 3, 5, 3, 1, 3, 2, 1],\n",
              "        [8, 7, 6, 1, 7, 9, 8, 8, 4, 3],\n",
              "        [6, 3, 8, 8, 6, 9, 7, 5, 1, 9],\n",
              "        [4, 6, 9, 9, 2, 6, 5, 1, 9, 8]])"
            ]
          },
          "metadata": {
            "tags": []
          },
          "execution_count": 30
        }
      ]
    },
    {
      "metadata": {
        "id": "e2sNraT8_9mi",
        "colab_type": "code",
        "outputId": "577d15d4-9146-4686-9abd-85a4c50c0fe7",
        "colab": {
          "base_uri": "https://localhost:8080/",
          "height": 782
        }
      },
      "cell_type": "code",
      "source": [
        "model(data[0][0]),data[0][1]"
      ],
      "execution_count": 31,
      "outputs": [
        {
          "output_type": "error",
          "ename": "RuntimeError",
          "evalue": "ignored",
          "traceback": [
            "\u001b[0;31m---------------------------------------------------------------------------\u001b[0m",
            "\u001b[0;31mRuntimeError\u001b[0m                              Traceback (most recent call last)",
            "\u001b[0;32m<ipython-input-31-508d380728b8>\u001b[0m in \u001b[0;36m<module>\u001b[0;34m()\u001b[0m\n\u001b[0;32m----> 1\u001b[0;31m \u001b[0mmodel\u001b[0m\u001b[0;34m(\u001b[0m\u001b[0mdata\u001b[0m\u001b[0;34m[\u001b[0m\u001b[0;36m0\u001b[0m\u001b[0;34m]\u001b[0m\u001b[0;34m[\u001b[0m\u001b[0;36m0\u001b[0m\u001b[0;34m]\u001b[0m\u001b[0;34m)\u001b[0m\u001b[0;34m,\u001b[0m\u001b[0mdata\u001b[0m\u001b[0;34m[\u001b[0m\u001b[0;36m0\u001b[0m\u001b[0;34m]\u001b[0m\u001b[0;34m[\u001b[0m\u001b[0;36m1\u001b[0m\u001b[0;34m]\u001b[0m\u001b[0;34m\u001b[0m\u001b[0;34m\u001b[0m\u001b[0m\n\u001b[0m",
            "\u001b[0;32m/usr/local/lib/python3.6/dist-packages/torch/nn/modules/module.py\u001b[0m in \u001b[0;36m__call__\u001b[0;34m(self, *input, **kwargs)\u001b[0m\n\u001b[1;32m    487\u001b[0m             \u001b[0mresult\u001b[0m \u001b[0;34m=\u001b[0m \u001b[0mself\u001b[0m\u001b[0;34m.\u001b[0m\u001b[0m_slow_forward\u001b[0m\u001b[0;34m(\u001b[0m\u001b[0;34m*\u001b[0m\u001b[0minput\u001b[0m\u001b[0;34m,\u001b[0m \u001b[0;34m**\u001b[0m\u001b[0mkwargs\u001b[0m\u001b[0;34m)\u001b[0m\u001b[0;34m\u001b[0m\u001b[0;34m\u001b[0m\u001b[0m\n\u001b[1;32m    488\u001b[0m         \u001b[0;32melse\u001b[0m\u001b[0;34m:\u001b[0m\u001b[0;34m\u001b[0m\u001b[0;34m\u001b[0m\u001b[0m\n\u001b[0;32m--> 489\u001b[0;31m             \u001b[0mresult\u001b[0m \u001b[0;34m=\u001b[0m \u001b[0mself\u001b[0m\u001b[0;34m.\u001b[0m\u001b[0mforward\u001b[0m\u001b[0;34m(\u001b[0m\u001b[0;34m*\u001b[0m\u001b[0minput\u001b[0m\u001b[0;34m,\u001b[0m \u001b[0;34m**\u001b[0m\u001b[0mkwargs\u001b[0m\u001b[0;34m)\u001b[0m\u001b[0;34m\u001b[0m\u001b[0;34m\u001b[0m\u001b[0m\n\u001b[0m\u001b[1;32m    490\u001b[0m         \u001b[0;32mfor\u001b[0m \u001b[0mhook\u001b[0m \u001b[0;32min\u001b[0m \u001b[0mself\u001b[0m\u001b[0;34m.\u001b[0m\u001b[0m_forward_hooks\u001b[0m\u001b[0;34m.\u001b[0m\u001b[0mvalues\u001b[0m\u001b[0;34m(\u001b[0m\u001b[0;34m)\u001b[0m\u001b[0;34m:\u001b[0m\u001b[0;34m\u001b[0m\u001b[0;34m\u001b[0m\u001b[0m\n\u001b[1;32m    491\u001b[0m             \u001b[0mhook_result\u001b[0m \u001b[0;34m=\u001b[0m \u001b[0mhook\u001b[0m\u001b[0;34m(\u001b[0m\u001b[0mself\u001b[0m\u001b[0;34m,\u001b[0m \u001b[0minput\u001b[0m\u001b[0;34m,\u001b[0m \u001b[0mresult\u001b[0m\u001b[0;34m)\u001b[0m\u001b[0;34m\u001b[0m\u001b[0;34m\u001b[0m\u001b[0m\n",
            "\u001b[0;32m<ipython-input-17-876b98d342ed>\u001b[0m in \u001b[0;36mforward\u001b[0;34m(self, input)\u001b[0m\n\u001b[1;32m      9\u001b[0m \u001b[0;31m#         out = self.embedding(input)\u001b[0m\u001b[0;34m\u001b[0m\u001b[0;34m\u001b[0m\u001b[0;34m\u001b[0m\u001b[0m\n\u001b[1;32m     10\u001b[0m \u001b[0;31m#         out = out.view(len(input),-1,int(len(all_letters)/2))\u001b[0m\u001b[0;34m\u001b[0m\u001b[0;34m\u001b[0m\u001b[0;34m\u001b[0m\u001b[0m\n\u001b[0;32m---> 11\u001b[0;31m         \u001b[0mout\u001b[0m\u001b[0;34m,\u001b[0m\u001b[0m_\u001b[0m \u001b[0;34m=\u001b[0m \u001b[0mself\u001b[0m\u001b[0;34m.\u001b[0m\u001b[0mrnn\u001b[0m\u001b[0;34m(\u001b[0m\u001b[0minput\u001b[0m\u001b[0;34m)\u001b[0m\u001b[0;34m\u001b[0m\u001b[0;34m\u001b[0m\u001b[0m\n\u001b[0m\u001b[1;32m     12\u001b[0m \u001b[0;34m\u001b[0m\u001b[0m\n\u001b[1;32m     13\u001b[0m         \u001b[0mout\u001b[0m \u001b[0;34m=\u001b[0m \u001b[0mout\u001b[0m\u001b[0;34m[\u001b[0m\u001b[0;34m:\u001b[0m\u001b[0;34m,\u001b[0m\u001b[0;34m-\u001b[0m\u001b[0;36m1\u001b[0m\u001b[0;34m,\u001b[0m\u001b[0;34m:\u001b[0m\u001b[0;34m]\u001b[0m\u001b[0;34m\u001b[0m\u001b[0;34m\u001b[0m\u001b[0m\n",
            "\u001b[0;32m/usr/local/lib/python3.6/dist-packages/torch/nn/modules/module.py\u001b[0m in \u001b[0;36m__call__\u001b[0;34m(self, *input, **kwargs)\u001b[0m\n\u001b[1;32m    487\u001b[0m             \u001b[0mresult\u001b[0m \u001b[0;34m=\u001b[0m \u001b[0mself\u001b[0m\u001b[0;34m.\u001b[0m\u001b[0m_slow_forward\u001b[0m\u001b[0;34m(\u001b[0m\u001b[0;34m*\u001b[0m\u001b[0minput\u001b[0m\u001b[0;34m,\u001b[0m \u001b[0;34m**\u001b[0m\u001b[0mkwargs\u001b[0m\u001b[0;34m)\u001b[0m\u001b[0;34m\u001b[0m\u001b[0;34m\u001b[0m\u001b[0m\n\u001b[1;32m    488\u001b[0m         \u001b[0;32melse\u001b[0m\u001b[0;34m:\u001b[0m\u001b[0;34m\u001b[0m\u001b[0;34m\u001b[0m\u001b[0m\n\u001b[0;32m--> 489\u001b[0;31m             \u001b[0mresult\u001b[0m \u001b[0;34m=\u001b[0m \u001b[0mself\u001b[0m\u001b[0;34m.\u001b[0m\u001b[0mforward\u001b[0m\u001b[0;34m(\u001b[0m\u001b[0;34m*\u001b[0m\u001b[0minput\u001b[0m\u001b[0;34m,\u001b[0m \u001b[0;34m**\u001b[0m\u001b[0mkwargs\u001b[0m\u001b[0;34m)\u001b[0m\u001b[0;34m\u001b[0m\u001b[0;34m\u001b[0m\u001b[0m\n\u001b[0m\u001b[1;32m    490\u001b[0m         \u001b[0;32mfor\u001b[0m \u001b[0mhook\u001b[0m \u001b[0;32min\u001b[0m \u001b[0mself\u001b[0m\u001b[0;34m.\u001b[0m\u001b[0m_forward_hooks\u001b[0m\u001b[0;34m.\u001b[0m\u001b[0mvalues\u001b[0m\u001b[0;34m(\u001b[0m\u001b[0;34m)\u001b[0m\u001b[0;34m:\u001b[0m\u001b[0;34m\u001b[0m\u001b[0;34m\u001b[0m\u001b[0m\n\u001b[1;32m    491\u001b[0m             \u001b[0mhook_result\u001b[0m \u001b[0;34m=\u001b[0m \u001b[0mhook\u001b[0m\u001b[0;34m(\u001b[0m\u001b[0mself\u001b[0m\u001b[0;34m,\u001b[0m \u001b[0minput\u001b[0m\u001b[0;34m,\u001b[0m \u001b[0mresult\u001b[0m\u001b[0;34m)\u001b[0m\u001b[0;34m\u001b[0m\u001b[0;34m\u001b[0m\u001b[0m\n",
            "\u001b[0;32m/usr/local/lib/python3.6/dist-packages/torch/nn/modules/rnn.py\u001b[0m in \u001b[0;36mforward\u001b[0;34m(self, input, hx)\u001b[0m\n\u001b[1;32m    173\u001b[0m                 \u001b[0mhx\u001b[0m \u001b[0;34m=\u001b[0m \u001b[0;34m(\u001b[0m\u001b[0mhx\u001b[0m\u001b[0;34m,\u001b[0m \u001b[0mhx\u001b[0m\u001b[0;34m)\u001b[0m\u001b[0;34m\u001b[0m\u001b[0;34m\u001b[0m\u001b[0m\n\u001b[1;32m    174\u001b[0m \u001b[0;34m\u001b[0m\u001b[0m\n\u001b[0;32m--> 175\u001b[0;31m         \u001b[0mself\u001b[0m\u001b[0;34m.\u001b[0m\u001b[0mcheck_forward_args\u001b[0m\u001b[0;34m(\u001b[0m\u001b[0minput\u001b[0m\u001b[0;34m,\u001b[0m \u001b[0mhx\u001b[0m\u001b[0;34m,\u001b[0m \u001b[0mbatch_sizes\u001b[0m\u001b[0;34m)\u001b[0m\u001b[0;34m\u001b[0m\u001b[0;34m\u001b[0m\u001b[0m\n\u001b[0m\u001b[1;32m    176\u001b[0m         \u001b[0m_impl\u001b[0m \u001b[0;34m=\u001b[0m \u001b[0m_rnn_impls\u001b[0m\u001b[0;34m[\u001b[0m\u001b[0mself\u001b[0m\u001b[0;34m.\u001b[0m\u001b[0mmode\u001b[0m\u001b[0;34m]\u001b[0m\u001b[0;34m\u001b[0m\u001b[0;34m\u001b[0m\u001b[0m\n\u001b[1;32m    177\u001b[0m         \u001b[0;32mif\u001b[0m \u001b[0mbatch_sizes\u001b[0m \u001b[0;32mis\u001b[0m \u001b[0;32mNone\u001b[0m\u001b[0;34m:\u001b[0m\u001b[0;34m\u001b[0m\u001b[0;34m\u001b[0m\u001b[0m\n",
            "\u001b[0;32m/usr/local/lib/python3.6/dist-packages/torch/nn/modules/rnn.py\u001b[0m in \u001b[0;36mcheck_forward_args\u001b[0;34m(self, input, hidden, batch_sizes)\u001b[0m\n\u001b[1;32m    129\u001b[0m             raise RuntimeError(\n\u001b[1;32m    130\u001b[0m                 'input must have {} dimensions, got {}'.format(\n\u001b[0;32m--> 131\u001b[0;31m                     expected_input_dim, input.dim()))\n\u001b[0m\u001b[1;32m    132\u001b[0m         \u001b[0;32mif\u001b[0m \u001b[0mself\u001b[0m\u001b[0;34m.\u001b[0m\u001b[0minput_size\u001b[0m \u001b[0;34m!=\u001b[0m \u001b[0minput\u001b[0m\u001b[0;34m.\u001b[0m\u001b[0msize\u001b[0m\u001b[0;34m(\u001b[0m\u001b[0;34m-\u001b[0m\u001b[0;36m1\u001b[0m\u001b[0;34m)\u001b[0m\u001b[0;34m:\u001b[0m\u001b[0;34m\u001b[0m\u001b[0;34m\u001b[0m\u001b[0m\n\u001b[1;32m    133\u001b[0m             raise RuntimeError(\n",
            "\u001b[0;31mRuntimeError\u001b[0m: input must have 3 dimensions, got 2"
          ]
        }
      ]
    },
    {
      "metadata": {
        "id": "0sWLEaRE_Xg1",
        "colab_type": "code",
        "colab": {}
      },
      "cell_type": "code",
      "source": [
        "print(all_letters)"
      ],
      "execution_count": 0,
      "outputs": []
    },
    {
      "metadata": {
        "id": "Ftzx-OuCzpLY",
        "colab_type": "code",
        "colab": {}
      },
      "cell_type": "code",
      "source": [
        "model = RNN(27,5,5)"
      ],
      "execution_count": 0,
      "outputs": []
    },
    {
      "metadata": {
        "id": "3Kfilq5F0NrO",
        "colab_type": "code",
        "colab": {}
      },
      "cell_type": "code",
      "source": [
        "model(torch.LongTensor([[5,6,7,8],[10,1,2,4]])).shape"
      ],
      "execution_count": 0,
      "outputs": []
    }
  ]
}