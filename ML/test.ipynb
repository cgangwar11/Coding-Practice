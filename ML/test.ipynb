{
 "cells": [
  {
   "cell_type": "code",
   "execution_count": 103,
   "metadata": {
    "collapsed": false
   },
   "outputs": [],
   "source": [
    "%matplotlib inline\n",
    "from gensim.test.utils import datapath, get_tmpfile\n",
    "from gensim.models import KeyedVectors\n",
    "import warnings\n",
    "import seaborn as sns\n",
    "warnings.filterwarnings('ignore')\n",
    "MODEL_PATH = \"C:\\\\Users\\\\gangcha\\\\Downloads\\\\New folder\\\\ml\\\\model\\\\\""
   ]
  },
  {
   "cell_type": "code",
   "execution_count": 46,
   "metadata": {
    "collapsed": false
   },
   "outputs": [],
   "source": [
    "import nltk\n",
    "from nltk.corpus import stopwords \n",
    "from nltk.tokenize import word_tokenize \n",
    "stop_words = set(stopwords.words('english'))"
   ]
  },
  {
   "cell_type": "code",
   "execution_count": 33,
   "metadata": {
    "collapsed": true
   },
   "outputs": [],
   "source": [
    "model = KeyedVectors.load_word2vec_format(\"C:\\\\Users\\\\gangcha\\\\Downloads\\\\PythonWork\\\\ml\\\\pretrained\\\\word2vec.6B.300d.txt\")"
   ]
  },
  {
   "cell_type": "code",
   "execution_count": 81,
   "metadata": {
    "collapsed": false
   },
   "outputs": [],
   "source": [
    "def analogies(query):\n",
    "    global model\n",
    "    a,b = query.split('=')\n",
    "    a1,a2 = a.split('-')\n",
    "    b1,b2 = b.split('-')\n",
    "    out,_ = model.similar_by_vector(vector = model[b2]+model[a1]-model[a2])[1]\n",
    "    ans = 'The relation between {} and {} is same as {} and {}'.format(a1,a2,out,b2)\n",
    "    print(ans)\n",
    "def preprocessing_sentence(sentence):\n",
    "    res=[]\n",
    "    global stop_words\n",
    "    for i in sentence.split(' '):\n",
    "        if not i.lower() in stop_words:\n",
    "            res.append(i.lower())\n",
    "    return res\n",
    "def distance(v1,v2):\n",
    "    return sum([(i-j)**2 for i,j in zip(v1,v2)])**0.5"
   ]
  },
  {
   "cell_type": "code",
   "execution_count": 35,
   "metadata": {
    "collapsed": false
   },
   "outputs": [
    {
     "name": "stdout",
     "output_type": "stream",
     "text": [
      "[('iraqi', 0.7455282807350159), ('iraq', 0.7278226613998413), ('mosul', 0.7166557312011719), ('fallujah', 0.6875258088111877), ('basra', 0.6821593046188354), ('iraqis', 0.6439340710639954), ('najaf', 0.626160740852356), ('saddam', 0.6256827116012573), ('hussein', 0.6077781915664673), ('tikrit', 0.6056607961654663)]\n"
     ]
    },
    {
     "data": {
      "text/plain": [
       "[('india', 0.6846907138824463),\n",
       " ('islamabad', 0.673266589641571),\n",
       " ('mumbai', 0.6564980745315552),\n",
       " ('lahore', 0.6211020946502686),\n",
       " ('kolkata', 0.598203182220459),\n",
       " ('indian', 0.590014636516571),\n",
       " ('hyderabad', 0.5881937742233276),\n",
       " ('bangalore', 0.5874884128570557),\n",
       " ('dhaka', 0.5801740884780884),\n",
       " ('lucknow', 0.5714719295501709)]"
      ]
     },
     "execution_count": 35,
     "metadata": {},
     "output_type": "execute_result"
    }
   ],
   "source": [
    "model.most_similar('mother')\n",
    "print(model.most_similar('baghdad'))\n",
    "model.most_similar('delhi')"
   ]
  },
  {
   "cell_type": "markdown",
   "metadata": {},
   "source": [
    "# Analogies Demonstartion"
   ]
  },
  {
   "cell_type": "markdown",
   "metadata": {},
   "source": [
    "##### Here we will use word2vec embedding to check the semantic relationship in representation of words\n",
    "##### Input is a query in format  A - B= ____ - D.Here model needs to predict best possible word to complete this analogy\n",
    "\n",
    "* Three types of context have been used for demo\n",
    "   * ** Gender **  (Relation b/w * **men and women** * is same as * **king and queen** *) \n",
    "   * ** Logic **  (Capturing grammatical logic like **anonyms ,synonyms** )\n",
    "   * ** Location ** (Capturing ** Capital and State** relationship)"
   ]
  },
  {
   "cell_type": "code",
   "execution_count": 36,
   "metadata": {
    "collapsed": false
   },
   "outputs": [
    {
     "name": "stdout",
     "output_type": "stream",
     "text": [
      "The relation between men and women is same as king and queen\n",
      "The relation between men and women is same as grandson and granddaughter\n",
      "The relation between men and women is same as housekeeper and nanny\n"
     ]
    }
   ],
   "source": [
    "########################################## Gender  #########################################\n",
    "queries = [\"men-women=?-queen\",\"men-women=?-granddaughter\",\"men-women=?-nanny\"]\n",
    "out = [analogies(i) for i in queries]"
   ]
  },
  {
   "cell_type": "code",
   "execution_count": 37,
   "metadata": {
    "collapsed": false
   },
   "outputs": [
    {
     "name": "stdout",
     "output_type": "stream",
     "text": [
      "The relation between coward and brave is same as slowest and fastest\n",
      "The relation between coward and brave is same as sculptor and painter\n",
      "The relation between mosul and baghdad is same as soldiers and army\n"
     ]
    }
   ],
   "source": [
    "######################################### Logic  ##########################################\n",
    "queries = [\"coward-brave=?-fastest\",\"coward-brave=?-painter\",\"mosul-baghdad=?-army\"]\n",
    "out = [analogies(i) for i in queries]"
   ]
  },
  {
   "cell_type": "code",
   "execution_count": 38,
   "metadata": {
    "collapsed": false
   },
   "outputs": [
    {
     "name": "stdout",
     "output_type": "stream",
     "text": [
      "The relation between germany and frankfurt is same as states and washington\n"
     ]
    }
   ],
   "source": [
    "########################################## Place  ###############################################\n",
    "queries = [\"germany-frankfurt=?-washington\"]\n",
    "out = [analogies(i) for i in queries]"
   ]
  },
  {
   "cell_type": "code",
   "execution_count": 32,
   "metadata": {
    "collapsed": true
   },
   "outputs": [],
   "source": [
    "del model"
   ]
  },
  {
   "cell_type": "markdown",
   "metadata": {},
   "source": [
    "### We will now use the embeddings to capture the similarity b/w sentences \n"
   ]
  },
  {
   "cell_type": "markdown",
   "metadata": {},
   "source": [
    "** Sentence list is a list of sentences **"
   ]
  },
  {
   "cell_type": "code",
   "execution_count": 91,
   "metadata": {
    "collapsed": true
   },
   "outputs": [],
   "source": [
    "sentence_list = [\"Obama speaks to the media in Illinois\",\n",
    "                 \"The President greets the press in Chicago\",\n",
    "                 \"Lion is a evil creature\",\n",
    "                 \"Harry potter is an awesome movie\",\n",
    "                 \"Return i got on my mutual funds was much greater than fixed deposit\",\n",
    "                 \"Fixed terms deposit are low in performance in comparison to mutual funds\"\n",
    "                ]"
   ]
  },
  {
   "cell_type": "markdown",
   "metadata": {},
   "source": [
    "** To create data to feed our model we will remove words like *(the, a ,an etc)* which doesn't provide any useful information to model **"
   ]
  },
  {
   "cell_type": "code",
   "execution_count": 92,
   "metadata": {
    "collapsed": true
   },
   "outputs": [],
   "source": [
    "sentence_list_separate = [preprocessing_sentence(i) for i in sentence_list]"
   ]
  },
  {
   "cell_type": "markdown",
   "metadata": {},
   "source": [
    "### List of words from each sentence"
   ]
  },
  {
   "cell_type": "code",
   "execution_count": 93,
   "metadata": {
    "collapsed": false
   },
   "outputs": [
    {
     "data": {
      "text/plain": [
       "[['obama', 'speaks', 'media', 'illinois'],\n",
       " ['president', 'greets', 'press', 'chicago'],\n",
       " ['lion', 'evil', 'creature'],\n",
       " ['harry', 'potter', 'awesome', 'movie'],\n",
       " ['return', 'got', 'mutual', 'funds', 'much', 'greater', 'fixed', 'deposit'],\n",
       " ['fixed',\n",
       "  'terms',\n",
       "  'deposit',\n",
       "  'low',\n",
       "  'performance',\n",
       "  'comparison',\n",
       "  'mutual',\n",
       "  'funds']]"
      ]
     },
     "execution_count": 93,
     "metadata": {},
     "output_type": "execute_result"
    }
   ],
   "source": [
    "sentence_list_separate"
   ]
  },
  {
   "cell_type": "markdown",
   "metadata": {},
   "source": [
    "### Convert list of words into list of numbers to feed our model"
   ]
  },
  {
   "cell_type": "code",
   "execution_count": 94,
   "metadata": {
    "collapsed": true
   },
   "outputs": [],
   "source": [
    "embedding_vector_list=[]\n",
    "for sen in sentence_list_separate:\n",
    "    ans=[]\n",
    "    for i in sen:\n",
    "        ans.append(model[i])\n",
    "    embedding_vector_list.append(ans)"
   ]
  },
  {
   "cell_type": "markdown",
   "metadata": {},
   "source": [
    "### We will create mathematical representation of sentences by averaging the embeddings of words"
   ]
  },
  {
   "cell_type": "markdown",
   "metadata": {},
   "source": [
    "<img src='diag1.jpg'/>"
   ]
  },
  {
   "cell_type": "markdown",
   "metadata": {},
   "source": [
    "### We will do this for all the sentences and store the result in sen_2_vec"
   ]
  },
  {
   "cell_type": "code",
   "execution_count": 97,
   "metadata": {
    "collapsed": true
   },
   "outputs": [],
   "source": [
    "sen_2_vec = [sum(i)/len(i) for i in embedding_vector_list]"
   ]
  },
  {
   "cell_type": "markdown",
   "metadata": {},
   "source": [
    "### We have converted every sentence into list of numbers"
   ]
  },
  {
   "cell_type": "code",
   "execution_count": 129,
   "metadata": {
    "collapsed": false
   },
   "outputs": [
    {
     "data": {
      "text/plain": [
       "[('Obama speaks to the media in Illinois',\n",
       "  [-0.24391201, 0.156996, -0.10875125]),\n",
       " ('The President greets the press in Chicago',\n",
       "  [0.150305, 0.0742895, -0.078365006]),\n",
       " ('Lion is a evil creature', [-0.12688333, -0.16390999, -0.042286668]),\n",
       " ('Harry potter is an awesome movie', [-0.20578098, -0.085875, -0.16519266]),\n",
       " ('Return i got on my mutual funds was much greater than fixed deposit',\n",
       "  [-0.33279693, -0.17225698, -0.06359725]),\n",
       " ('Fixed terms deposit are low in performance in comparison to mutual funds',\n",
       "  [-0.33559373, 0.004683502, 0.09671287])]"
      ]
     },
     "execution_count": 129,
     "metadata": {},
     "output_type": "execute_result"
    }
   ],
   "source": [
    "[(sentence_list[i],list(sen_2_vec[i][:3])) for i in range(len(sen_2_vec))]"
   ]
  },
  {
   "cell_type": "markdown",
   "metadata": {},
   "source": [
    "### For each combination of sentence we will calculate their distance to each other \n",
    "* The smaller the distance more similar they are"
   ]
  },
  {
   "cell_type": "code",
   "execution_count": 123,
   "metadata": {
    "collapsed": false
   },
   "outputs": [],
   "source": [
    "ans=[]\n",
    "for i in range(len(sen_2_vec)):\n",
    "    temp=[]\n",
    "    for j in range(len(sen_2_vec)):\n",
    "        temp.append(distance(sen_2_vec[i],sen_2_vec[j]))\n",
    "    ans.append(temp)"
   ]
  },
  {
   "cell_type": "markdown",
   "metadata": {},
   "source": [
    "#### This is a similarity heatmap the darker the shape more similar are the sentences \n",
    "* Since every sentence is 100% similar to itself or distance b/w them is 0 represented by black color\n",
    "* We can find similar sentences using distance for e.g\n",
    "    * Distance between __Obama speaks to media in Illinois__ and __ The president greets the press in Chicago __ is **3.5**\n",
    "    * Distance between __Obama speaks to media in Illinois__ and __ Lion is a evil creature __ is **5.9**\n",
    "  \n",
    "    * Hence first group of sentences are more similar than later ones"
   ]
  },
  {
   "cell_type": "code",
   "execution_count": 124,
   "metadata": {
    "collapsed": false
   },
   "outputs": [
    {
     "data": {
      "text/plain": [
       "[<matplotlib.text.Text at 0x329be978>,\n",
       " <matplotlib.text.Text at 0x329c3b00>,\n",
       " <matplotlib.text.Text at 0x32c4a940>,\n",
       " <matplotlib.text.Text at 0x32c00a20>,\n",
       " <matplotlib.text.Text at 0x329ca5c0>,\n",
       " <matplotlib.text.Text at 0x329c3240>]"
      ]
     },
     "execution_count": 124,
     "metadata": {},
     "output_type": "execute_result"
    },
    {
     "data": {
      "image/png": "[encoded data removed]",
      "text/plain": [
       "<matplotlib.figure.Figure at 0x3247c748>"
      ]
     },
     "metadata": {},
     "output_type": "display_data"
    }
   ],
   "source": [
    "plot = sns.heatmap(ans,annot=True,xticklabels=sentence_list,yticklabels=sentence_list)\n",
    "plot.set_xticklabels(rotation=90,labels=sentence_list,size='medium',weight='bold')\n",
    "plot.set_yticklabels(rotation=0,labels=sentence_list,size='medium',weight='bold')\n"
   ]
  },
  {
   "cell_type": "markdown",
   "metadata": {},
   "source": [
    "Similar Group of sentences"
   ]
  },
  {
   "cell_type": "code",
   "execution_count": 135,
   "metadata": {
    "collapsed": false
   },
   "outputs": [
    {
     "name": "stdout",
     "output_type": "stream",
     "text": [
      "Obama speaks to the media in Illinois <-------> The President greets the press in Chicago\n",
      "Return i got on my mutual funds was much greater than fixed deposit <-------> Fixed terms deposit are low in performance in comparison to mutual funds\n"
     ]
    }
   ],
   "source": [
    "res = []\n",
    "for i in range(len(sen_2_vec)):\n",
    "    for j in range(i+1,len(sen_2_vec)):\n",
    "        if not i==j:\n",
    "            if ans[i][j]<3.7:\n",
    "                res.append((i,j))\n",
    "for i,j in res:\n",
    "    print(sentence_list[i],\"<------->\",sentence_list[j])"
   ]
  },
  {
   "cell_type": "markdown",
   "metadata": {},
   "source": [
    "### These kind of model can be used to segregate documents into several categories.\n",
    "### The documents could be ** emails,pdfs,html,web pages etc **"
   ]
  },
  {
   "cell_type": "code",
   "execution_count": null,
   "metadata": {
    "collapsed": true
   },
   "outputs": [],
   "source": []
  }
 ],
 "metadata": {
  "kernelspec": {
   "display_name": "Python 3",
   "language": "python",
   "name": "python3"
  },
  "language_info": {
   "codemirror_mode": {
    "name": "ipython",
    "version": 3
   },
   "file_extension": ".py",
   "mimetype": "text/x-python",
   "name": "python",
   "nbconvert_exporter": "python",
   "pygments_lexer": "ipython3",
   "version": "3.5.1"
  }
 },
 "nbformat": 4,
 "nbformat_minor": 0
}
