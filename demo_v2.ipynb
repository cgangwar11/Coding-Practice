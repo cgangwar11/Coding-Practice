{
  "nbformat": 4,
  "nbformat_minor": 0,
  "metadata": {
    "colab": {
      "name": "demo.ipynb",
      "version": "0.3.2",
      "provenance": [],
      "collapsed_sections": [],
      "include_colab_link": true
    },
    "kernelspec": {
      "name": "python3",
      "display_name": "Python 3"
    }
  },
  "cells": [
    {
      "cell_type": "markdown",
      "metadata": {
        "id": "view-in-github",
        "colab_type": "text"
      },
      "source": [
        "<a href=\"https://colab.research.google.com/github/cgangwar11/Coding-Practice/blob/master/demo_v2.ipynb\" target=\"_parent\"><img src=\"https://colab.research.google.com/assets/colab-badge.svg\" alt=\"Open In Colab\"/></a>"
      ]
    },
    {
      "metadata": {
        "id": "cRrDx6vOdeqV",
        "colab_type": "code",
        "colab": {}
      },
      "cell_type": "code",
      "source": [
        "import torch\n",
        "import spacy\n",
        "nlp = spacy.load('en')\n",
        "from pprint import  pprint"
      ],
      "execution_count": 0,
      "outputs": []
    },
    {
      "metadata": {
        "id": "O6KYCqAWbUPq",
        "colab_type": "code",
        "outputId": "d8029bda-a86a-4f21-847f-8c8c4be44c3d",
        "colab": {
          "base_uri": "https://localhost:8080/",
          "height": 122
        }
      },
      "cell_type": "code",
      "source": [
        "from google.colab import drive\n",
        "drive.mount('/gdrive')"
      ],
      "execution_count": 3,
      "outputs": [
        {
          "output_type": "stream",
          "text": [
            "Go to this URL in a browser: https://accounts.google.com/o/oauth2/auth?client_id=947318989803-6bn6qk8qdgf4n4g3pfee6491hc0brc4i.apps.googleusercontent.com&redirect_uri=urn%3Aietf%3Awg%3Aoauth%3A2.0%3Aoob&scope=email%20https%3A%2F%2Fwww.googleapis.com%2Fauth%2Fdocs.test%20https%3A%2F%2Fwww.googleapis.com%2Fauth%2Fdrive%20https%3A%2F%2Fwww.googleapis.com%2Fauth%2Fdrive.photos.readonly%20https%3A%2F%2Fwww.googleapis.com%2Fauth%2Fpeopleapi.readonly&response_type=code\n",
            "\n",
            "Enter your authorization code:\n",
            "··········\n",
            "Mounted at /gdrive\n"
          ],
          "name": "stdout"
        }
      ]
    },
    {
      "metadata": {
        "id": "UNqLblkra4zx",
        "colab_type": "code",
        "colab": {}
      },
      "cell_type": "code",
      "source": [
        "import pickle\n",
        "def load_vocab():\n",
        "\n",
        "  with open('/gdrive/My Drive/stoi.pkl','rb') as f:\n",
        "    stoi,itos = pickle.load(f)\n",
        "  return stoi,itos"
      ],
      "execution_count": 0,
      "outputs": []
    },
    {
      "metadata": {
        "id": "rliUhuiUKWeg",
        "colab_type": "code",
        "colab": {}
      },
      "cell_type": "code",
      "source": [
        "import torch.nn as nn\n",
        "import torch.nn.functional as F\n",
        "class CNN(nn.Module):\n",
        "    def __init__(self, vocab_size, embedding_dim, n_filters, filter_sizes, output_dim, dropout):\n",
        "        super().__init__()\n",
        "        \n",
        "        self.embedding = nn.Embedding(vocab_size, embedding_dim)\n",
        "        self.convs = nn.ModuleList([nn.Conv2d(in_channels=1, out_channels=n_filters, kernel_size=(fs,embedding_dim)) for fs in filter_sizes])\n",
        "        self.fc = nn.Linear(len(filter_sizes)*n_filters, output_dim)\n",
        "        self.dropout = nn.Dropout(dropout)\n",
        "        \n",
        "    def forward(self, x):\n",
        "        \n",
        "        #x = [sent len, batch size]\n",
        "        \n",
        "        x = x.permute(1, 0)\n",
        "                \n",
        "        #x = [batch size, sent len]\n",
        "        \n",
        "        embedded = self.embedding(x)\n",
        "                \n",
        "        #embedded = [batch size, sent len, emb dim]\n",
        "        \n",
        "        embedded = embedded.unsqueeze(1)\n",
        "        \n",
        "        #embedded = [batch size, 1, sent len, emb dim]\n",
        "        \n",
        "        conved = [F.relu(conv(embedded)).squeeze(3) for conv in self.convs]\n",
        "            \n",
        "        #conv_n = [batch size, n_filters, sent len - filter_sizes[n]]\n",
        "        \n",
        "        pooled = [F.max_pool1d(conv, conv.shape[2]).squeeze(2) for conv in conved]\n",
        "        \n",
        "        #pooled_n = [batch size, n_filters]\n",
        "        \n",
        "        cat = self.dropout(torch.cat(pooled, dim=1))\n",
        "\n",
        "        #cat = [batch size, n_filters * len(filter_sizes)]\n",
        "            \n",
        "        return self.fc(cat)\n",
        "\n"
      ],
      "execution_count": 0,
      "outputs": []
    },
    {
      "metadata": {
        "id": "d7G0Xen2bUPJ",
        "colab_type": "code",
        "colab": {}
      },
      "cell_type": "code",
      "source": [
        "stoi,itos = load_vocab()\n",
        "INPUT_DIM = len(itos)\n",
        "EMBEDDING_DIM = 100\n",
        "N_FILTERS = 100\n",
        "FILTER_SIZES = [3,4,5]\n",
        "OUTPUT_DIM = 1\n",
        "DROPOUT = 0.5\n"
      ],
      "execution_count": 0,
      "outputs": []
    },
    {
      "metadata": {
        "id": "1Dd0zvJgdRXC",
        "colab_type": "code",
        "colab": {}
      },
      "cell_type": "code",
      "source": [
        "\n",
        "model = CNN(INPUT_DIM, EMBEDDING_DIM, N_FILTERS, FILTER_SIZES, OUTPUT_DIM, DROPOUT)"
      ],
      "execution_count": 0,
      "outputs": []
    },
    {
      "metadata": {
        "id": "QslTDVIWcgaH",
        "colab_type": "code",
        "colab": {}
      },
      "cell_type": "code",
      "source": [
        "model.load_state_dict(torch.load('/gdrive/My Drive/basic_9_epochs_87_128_batch.pth'))"
      ],
      "execution_count": 0,
      "outputs": []
    },
    {
      "metadata": {
        "id": "VBW7p9Qka4Jk",
        "colab_type": "code",
        "outputId": "0d1090a5-c175-49a7-e8e1-26537bf0fad5",
        "colab": {
          "base_uri": "https://localhost:8080/",
          "height": 187
        }
      },
      "cell_type": "code",
      "source": [
        "model"
      ],
      "execution_count": 9,
      "outputs": [
        {
          "output_type": "execute_result",
          "data": {
            "text/plain": [
              "CNN(\n",
              "  (embedding): Embedding(25002, 100)\n",
              "  (convs): ModuleList(\n",
              "    (0): Conv2d(1, 100, kernel_size=(3, 100), stride=(1, 1))\n",
              "    (1): Conv2d(1, 100, kernel_size=(4, 100), stride=(1, 1))\n",
              "    (2): Conv2d(1, 100, kernel_size=(5, 100), stride=(1, 1))\n",
              "  )\n",
              "  (fc): Linear(in_features=300, out_features=1, bias=True)\n",
              "  (dropout): Dropout(p=0.5)\n",
              ")"
            ]
          },
          "metadata": {
            "tags": []
          },
          "execution_count": 9
        }
      ]
    },
    {
      "metadata": {
        "id": "TNv3BTHcd_OM",
        "colab_type": "code",
        "colab": {}
      },
      "cell_type": "code",
      "source": [
        "\n",
        "\n",
        "def predict_sentiment(sentence, min_len=5):\n",
        "    tokenized = [tok.text for tok in nlp.tokenizer(sentence)]\n",
        "    if len(tokenized) < min_len:\n",
        "        tokenized += ['<pad>'] * (min_len - len(tokenized))\n",
        "    print(tokenized)\n",
        "    indexed = []\n",
        "    for t in tokenized:\n",
        "      if t in stoi.keys():\n",
        "        indexed.append(stoi[t])\n",
        "      else:\n",
        "        indexed.append(0)\n",
        "    print(' '.join([itos[i] for i in indexed]))\n",
        "    tensor = torch.LongTensor(indexed)\n",
        "    tensor = tensor.unsqueeze(1)\n",
        "    \n",
        "    prediction = torch.sigmoid(model(tensor))\n",
        "    return prediction.item()"
      ],
      "execution_count": 0,
      "outputs": []
    },
    {
      "metadata": {
        "id": "FpGUEfVGnGUP",
        "colab_type": "code",
        "outputId": "a1095355-07fe-4552-8562-7550a763f14d",
        "colab": {
          "base_uri": "https://localhost:8080/",
          "height": 187
        }
      },
      "cell_type": "code",
      "source": [
        "model.eval()"
      ],
      "execution_count": 11,
      "outputs": [
        {
          "output_type": "execute_result",
          "data": {
            "text/plain": [
              "CNN(\n",
              "  (embedding): Embedding(25002, 100)\n",
              "  (convs): ModuleList(\n",
              "    (0): Conv2d(1, 100, kernel_size=(3, 100), stride=(1, 1))\n",
              "    (1): Conv2d(1, 100, kernel_size=(4, 100), stride=(1, 1))\n",
              "    (2): Conv2d(1, 100, kernel_size=(5, 100), stride=(1, 1))\n",
              "  )\n",
              "  (fc): Linear(in_features=300, out_features=1, bias=True)\n",
              "  (dropout): Dropout(p=0.5)\n",
              ")"
            ]
          },
          "metadata": {
            "tags": []
          },
          "execution_count": 11
        }
      ]
    },
    {
      "metadata": {
        "id": "3JuBqUJmeKeG",
        "colab_type": "code",
        "colab": {}
      },
      "cell_type": "code",
      "source": [
        "from fastai.text import *\n",
        "path = untar_data(URLs.IMDB_SAMPLE)\n",
        "df = pd.read_csv(path/'texts.csv')"
      ],
      "execution_count": 0,
      "outputs": []
    },
    {
      "metadata": {
        "id": "N9-TlBFtsdK-",
        "colab_type": "code",
        "outputId": "33967447-ad0b-430b-f348-240fde119c68",
        "colab": {
          "base_uri": "https://localhost:8080/",
          "height": 88
        }
      },
      "cell_type": "code",
      "source": [
        "predict_sentiment(df.text[6])"
      ],
      "execution_count": 38,
      "outputs": [
        {
          "output_type": "stream",
          "text": [
            "['There', 'were', 'a', 'lot', 'of', 'truly', 'great', 'horror', 'movies', 'produced', 'in', 'the', 'seventies', '-', 'but', 'this', 'film', 'certainly', 'is', \"n't\", 'one', 'of', 'them', '!', 'It', \"'s\", 'a', 'shame', 'The', 'Child', 'is', \"n't\", 'better', 'as', 'it', 'works', 'from', 'a', 'decent', 'idea', 'that', 'takes', 'in', 'a', 'couple', 'of', 'sometimes', 'successful', 'horror', 'themes', '.', 'We', 'have', 'the', 'idea', 'of', 'a', 'vengeful', 'child', ',', 'which', 'worked', 'so', 'well', 'in', 'classic', 'films', 'such', 'as', 'The', 'Bad', 'Seed', 'and', 'then', 'we', 'have', 'the', 'central', 'zombie', 'theme', ',', 'which', 'of', 'course', 'has', 'been', 'the', 'backbone', 'of', 'many', 'a', 'successful', 'horror', 'movie', '.', 'The', 'plot', 'is', 'basically', 'this', ':', 'young', 'girl', 'blames', 'a', 'load', 'of', 'people', 'for', 'the', 'death', 'of', 'her', 'mother', ',', 'so', 'she', 'goes', 'to', 'the', 'graveyard', 'and', 'raises', 'the', 'dead', 'to', 'get', 'revenge', '(', 'as', 'you', 'do', ')', '.', 'This', 'is', 'all', 'well', 'and', 'good', ',', 'except', 'for', 'the', 'fact', 'that', 'it', \"'s\", 'boring', '!', 'Nothing', 'happens', 'for', 'most', 'of', 'the', 'film', ',', 'and', 'although', 'it', 'does', 'pick', 'up', 'at', 'the', 'end', 'with', 'some', 'nice', 'gore', ';', 'it', \"'s\", 'not', 'enough', 'of', 'a', 'finale', 'to', 'justify', 'sitting', 'through', 'the', 'rest', 'of', 'it', '.', 'The', 'film', 'was', 'obviously', 'shot', 'on', 'a', 'budget', 'as', 'the', 'locations', 'look', 'cheap', 'and', 'all', 'the', 'actors', 'are', 'rubbish', '.', 'There', \"'s\", 'really', 'not', 'much', 'I', 'can', 'say', 'about', 'the', 'film', 'overall', 'as', 'there', 'is', \"n't\", 'much', 'to', 'it', '.', 'The', 'Child', 'is', 'a', 'dismal', 'seventies', 'horror', 'flick', 'and', 'I', 'certainly', 'do', \"n't\", 'recommend', 'it', '.']\n",
            "There were a lot of truly great horror movies produced in the seventies - but this film certainly is n't one of them ! It 's a shame The Child is n't better as it works from a decent idea that takes in a couple of sometimes successful horror themes . We have the idea of a vengeful child , which worked so well in classic films such as The Bad Seed and then we have the central zombie theme , which of course has been the backbone of many a successful horror movie . The plot is basically this : young girl blames a load of people for the death of her mother , so she goes to the graveyard and raises the dead to get revenge ( as you do ) . This is all well and good , except for the fact that it 's boring ! Nothing happens for most of the film , and although it does pick up at the end with some nice gore ; it 's not enough of a finale to justify sitting through the rest of it . The film was obviously shot on a budget as the locations look cheap and all the actors are rubbish . There 's really not much I can say about the film overall as there is n't much to it . The Child is a dismal seventies horror flick and I certainly do n't recommend it .\n"
          ],
          "name": "stdout"
        },
        {
          "output_type": "execute_result",
          "data": {
            "text/plain": [
              "0.14498916268348694"
            ]
          },
          "metadata": {
            "tags": []
          },
          "execution_count": 38
        }
      ]
    },
    {
      "metadata": {
        "id": "O-t1vxjroPk9",
        "colab_type": "code",
        "colab": {}
      },
      "cell_type": "code",
      "source": [
        "corpus = \"\"\"The start of 2019 has been an intense time for all of us. And I am proud of all the effort that so many of you have put in. We have started the new year with good momentum in a lot of areas. It is now vital that we work hard to keep that momentum going across our entire company. And I know that I can count on you to put your hearts and souls into our joint success. \n",
        " \n",
        "To further strengthen our client focus and enhance shareholder value, we have to become a more effective organization. We have been stressing the importance of being efficient and agile over the last couple of months. After initial changes to the Executive Board and our regional leadership structure in November and December, the Executive Board has now mutually agreed, following a vigorous process and intense discussions over the last weeks, to make several organizational changes, determining the home of best fit for various units, introducing leaner structures with clear responsibilities, and ending parallel work streams.\n",
        "\n",
        "The following changes will go into effect globally on 1 March:\n",
        "\n",
        "•\tGlobal Trading is part of our investment process and will move from Operations to the Global Investment Group.\n",
        "\n",
        "•\tThe Investment Specialists will be transferred to the Global Coverage Group as they are closely linked to our sales efforts. Product Strategy & Analytics will remain in the Global Investment Group.\n",
        "\n",
        "•\tThe Business Development/RfP Team will split from the Client Implementation Group within COO and transfer to the Global Coverage Group.\n",
        "\n",
        "•\tThe Illiquid Operations team will move from COO to the Alternatives arm of the Global Investment Group.\n",
        "\n",
        "•\tTo strengthen our first line of defense, we are re-establishing the DCO (Divisional Control Office) function under the leadership of the COO.\n",
        "\n",
        "•\tFinally, we are forming a Global Operating Committee, chaired by Mark Cullen, which will ensure we are aligned across DWS in managing all operational topics, including the execution of cost optimization measures.\n",
        "\n",
        "In executing the above, further changes will be triggered within some areas. The respective Board members will inform you about any changes within their units.\n",
        "\n",
        "I cannot emphasize enough how important a phase we are currently in. It is vital that we all pull in the same direction and keep our positive momentum going. Whatever changes might be necessary and whatever obstacles we might face, we can never lose sight of what counts most: our fiduciary duty to our clients and through that the delivery of value to our shareholders.\n",
        "\n",
        "We as DWS are capable of extraordinary things. So let us continue to work closely together in doing what we do best, and I am confident that we will be successful in 2019 and beyond.\n",
        "\n",
        "Be Inspiring. Be Hard Working. Be Proud. Be One DWS.\n",
        "\"\"\""
      ],
      "execution_count": 0,
      "outputs": []
    },
    {
      "metadata": {
        "id": "XHr_NXcbo9V-",
        "colab_type": "code",
        "colab": {}
      },
      "cell_type": "code",
      "source": [
        "corpus2 = \"\"\"We have passed the biggest tax cuts and reforms in American history. We’ve started the construction of a major border wall, and we have greatly strengthened border security.\n",
        "\n",
        "We have secured record funding for our military -- $700 billion this year, and $716 billion next year. Our military will soon be more powerful than it has ever been before.\n",
        "\n",
        "In other words, the United States is stronger, safer, and a richer country than it was when I assumed office less than two years ago.\n",
        "\n",
        "We are standing up for America and for the American people. And we are also standing up for the world.\n",
        "\n",
        "This is great news for our citizens and for peace-loving people everywhere. We believe that when nations respect the rights of their neighbors, and defend the interests of their people, they can better work together to secure the blessings of safety, prosperity, and peace.\n",
        "\n",
        "Each of us here today is the emissary of a distinct culture, a rich history, and a people bound together by ties of memory, tradition, and the values that make our homelands like nowhere else on Earth.\n",
        "\n",
        "That is why America will always choose independence and cooperation over global governance, control, and domination.\n",
        "\n",
        "I honor the right of every nation in this room to pursue its own customs, beliefs, and traditions. The United States will not tell you how to live or work or worship. We only ask that you honor our sovereignty in return.\n",
        "\n",
        "From Warsaw to Brussels, to Tokyo to Singapore, it has been my highest honor to represent the United States abroad. I have forged close relationships and friendships and strong partnerships with the leaders of many nations in this room, and our approach has already yielded incredible change.\n",
        "\n",
        "With support from many countries here today, we have engaged with North Korea to replace the specter of conflict with a bold and new push for peace.\n",
        "\n",
        "In June, I traveled to Singapore to meet face to face with North Korea’s leader, Chairman Kim Jong Un. We had highly productive conversations and meetings, and we agreed that it was in both countries’ interest to pursue the denuclearization of the Korean Peninsula. Since that meeting, we have already seen a number of encouraging measures that few could have imagined only a short time ago.\n",
        "\n",
        "The missiles and rockets are no longer flying in every direction. Nuclear testing has stopped. Some military facilities are already being dismantled. Our hostages have been released. And as promised, the remains of our fallen heroes are being returned home to lay at rest in American soil.\n",
        "\n",
        "I would like to thank Chairman Kim for his courage and for the steps he has taken, though much work remains to be done. The sanctions will stay in place until denuclearization occurs.\n",
        "\n",
        "I also want to thank the many member states who helped us reach this moment -- a moment that is actually far greater than people would understand; far greater -- but for also their support and the critical support that we will all need going forward.\n",
        "\n",
        "A special thanks to President Moon of South Korea, Prime Minister Abe of Japan, and President Xi of China.\"\"\""
      ],
      "execution_count": 0,
      "outputs": []
    },
    {
      "metadata": {
        "id": "nHMYETz-liqz",
        "colab_type": "code",
        "colab": {}
      },
      "cell_type": "code",
      "source": [
        "corpus = corpus2.lower()"
      ],
      "execution_count": 0,
      "outputs": []
    },
    {
      "metadata": {
        "id": "3foS-dpIohAf",
        "colab_type": "code",
        "colab": {}
      },
      "cell_type": "code",
      "source": [
        "doc = nlp(corpus)"
      ],
      "execution_count": 0,
      "outputs": []
    },
    {
      "metadata": {
        "id": "KKd1UgvYflFf",
        "colab_type": "code",
        "outputId": "7495a6bd-59ed-4f99-eb6c-b2f8a0e2ad07",
        "colab": {
          "base_uri": "https://localhost:8080/",
          "height": 989
        }
      },
      "cell_type": "code",
      "source": [
        "k=[]\n",
        "for i in doc.sents:\n",
        "    k.append((predict_sentiment(i.text),i.text))"
      ],
      "execution_count": 76,
      "outputs": [
        {
          "output_type": "stream",
          "text": [
            "['we', 'have', 'passed', 'the', 'biggest', 'tax', 'cuts', 'and', 'reforms', 'in', 'american', 'history', '.']\n",
            "we have passed the biggest tax cuts and <unk> in american history .\n",
            "['we', '’ve', 'started', 'the', 'construction', 'of', 'a', 'major', 'border', 'wall', ',', 'and', 'we', 'have', 'greatly', 'strengthened', 'border', 'security', '.', '\\n\\n']\n",
            "we <unk> started the construction of a major border wall , and we have greatly <unk> border security . <unk>\n",
            "['we', 'have', 'secured', 'record', 'funding', 'for', 'our', 'military', '--', '$', '700', 'billion', 'this', 'year', ',', 'and', '$', '716', 'billion', 'next', 'year', '.']\n",
            "we have <unk> record funding for our military -- $ 700 billion this year , and $ <unk> billion next year .\n",
            "['our', 'military', 'will', 'soon', 'be', 'more', 'powerful', 'than', 'it', 'has', 'ever', 'been', 'before', '.', '\\n\\n']\n",
            "our military will soon be more powerful than it has ever been before . <unk>\n",
            "['in', 'other', 'words', ',', 'the', 'united', 'states', 'is', 'stronger', ',', 'safer', ',', 'and', 'a', 'richer', 'country', 'than', 'it', 'was', 'when', 'i', 'assumed', 'office', 'less', 'than', 'two', 'years', 'ago', '.', '\\n\\n']\n",
            "in other words , the united states is stronger , safer , and a richer country than it was when i assumed office less than two years ago . <unk>\n",
            "['we', 'are', 'standing', 'up', 'for', 'america', 'and', 'for', 'the', 'american', 'people', '.']\n",
            "we are standing up for <unk> and for the american people .\n",
            "['and', 'we', 'are', 'also', 'standing', 'up', 'for', 'the', 'world', '.', '\\n\\n']\n",
            "and we are also standing up for the world . <unk>\n",
            "['this', 'is', 'great', 'news', 'for', 'our', 'citizens', 'and', 'for', 'peace', '-', 'loving', 'people', 'everywhere', '.']\n",
            "this is great news for our citizens and for peace - loving people everywhere .\n",
            "['we', 'believe', 'that', 'when', 'nations', 'respect', 'the', 'rights', 'of', 'their', 'neighbors', ',', 'and', 'defend', 'the', 'interests', 'of', 'their', 'people', ',', 'they', 'can', 'better', 'work', 'together', 'to', 'secure', 'the', 'blessings', 'of', 'safety', ',', 'prosperity', ',', 'and', 'peace', '.', '\\n\\n']\n",
            "we believe that when nations respect the rights of their neighbors , and defend the interests of their people , they can better work together to secure the <unk> of safety , <unk> , and peace . <unk>\n",
            "['each', 'of', 'us', 'here', 'today', 'is', 'the', 'emissary', 'of', 'a', 'distinct', 'culture', ',', 'a', 'rich', 'history', ',', 'and', 'a', 'people', 'bound', 'together', 'by', 'ties', 'of', 'memory', ',', 'tradition', ',', 'and', 'the', 'values', 'that', 'make', 'our', 'homelands', 'like', 'nowhere', 'else', 'on', 'earth', '.', '\\n\\n']\n",
            "each of us here today is the <unk> of a distinct culture , a rich history , and a people bound together by ties of memory , tradition , and the values that make our <unk> like nowhere else on earth . <unk>\n",
            "['that', 'is', 'why', 'america', 'will', 'always', 'choose', 'independence', 'and', 'cooperation', 'over', 'global', 'governance', ',', 'control', ',', 'and', 'domination', '.', '\\n\\n']\n",
            "that is why <unk> will always choose independence and cooperation over global <unk> , control , and domination . <unk>\n",
            "['i', 'honor', 'the', 'right', 'of', 'every', 'nation', 'in', 'this', 'room', 'to', 'pursue', 'its', 'own', 'customs', ',', 'beliefs', ',', 'and', 'traditions', '.']\n",
            "i honor the right of every nation in this room to pursue its own customs , beliefs , and traditions .\n",
            "['the', 'united', 'states', 'will', 'not', 'tell', 'you', 'how', 'to', 'live', 'or', 'work', 'or', 'worship', '.']\n",
            "the united states will not tell you how to live or work or worship .\n",
            "['we', 'only', 'ask', 'that', 'you', 'honor', 'our', 'sovereignty', 'in', 'return', '.', '\\n\\n']\n",
            "we only ask that you honor our <unk> in return . <unk>\n",
            "['from', 'warsaw', 'to', 'brussels', ',', 'to', 'tokyo', 'to', 'singapore', ',', 'it', 'has', 'been', 'my', 'highest', 'honor', 'to', 'represent', 'the', 'united', 'states', 'abroad', '.']\n",
            "from <unk> to <unk> , to <unk> to <unk> , it has been my highest honor to represent the united states abroad .\n",
            "['i', 'have', 'forged', 'close', 'relationships', 'and', 'friendships', 'and', 'strong', 'partnerships', 'with', 'the', 'leaders', 'of', 'many', 'nations', 'in', 'this', 'room', ',', 'and', 'our', 'approach', 'has', 'already', 'yielded', 'incredible', 'change', '.', '\\n\\n', 'with', 'support', 'from', 'many', 'countries', 'here', 'today', ',', 'we', 'have', 'engaged', 'with', 'north', 'korea', 'to', 'replace', 'the', 'specter', 'of', 'conflict', 'with', 'a', 'bold', 'and', 'new', 'push', 'for', 'peace', '.', '\\n\\n']\n",
            "i have forged close relationships and friendships and strong <unk> with the leaders of many nations in this room , and our approach has already <unk> incredible change . <unk> with support from many countries here today , we have engaged with north <unk> to replace the <unk> of conflict with a bold and new push for peace . <unk>\n",
            "['in', 'june', ',', 'i', 'traveled', 'to', 'singapore', 'to', 'meet', 'face', 'to', 'face', 'with', 'north', 'korea', '’s', 'leader', ',', 'chairman', 'kim', 'jong', 'un', '.']\n",
            "in <unk> , i traveled to <unk> to meet face to face with north <unk> ’s leader , chairman <unk> <unk> un .\n",
            "['we', 'had', 'highly', 'productive', 'conversations', 'and', 'meetings', ',', 'and', 'we', 'agreed', 'that', 'it', 'was', 'in', 'both', 'countries’', 'interest', 'to', 'pursue', 'the', 'denuclearization', 'of', 'the', 'korean', 'peninsula', '.']\n",
            "we had highly productive conversations and meetings , and we agreed that it was in both <unk> interest to pursue the <unk> of the <unk> <unk> .\n",
            "['since', 'that', 'meeting', ',', 'we', 'have', 'already', 'seen', 'a', 'number', 'of', 'encouraging', 'measures', 'that', 'few', 'could', 'have', 'imagined', 'only', 'a', 'short', 'time', 'ago', '.', '\\n\\n']\n",
            "since that meeting , we have already seen a number of encouraging measures that few could have imagined only a short time ago . <unk>\n",
            "['the', 'missiles', 'and', 'rockets', 'are', 'no', 'longer', 'flying', 'in', 'every', 'direction', '.']\n",
            "the missiles and rockets are no longer flying in every direction .\n",
            "['nuclear', 'testing', 'has', 'stopped', '.']\n",
            "nuclear testing has stopped .\n",
            "['some', 'military', 'facilities', 'are', 'already', 'being', 'dismantled', '.']\n",
            "some military <unk> are already being <unk> .\n",
            "['our', 'hostages', 'have', 'been', 'released', '.']\n",
            "our hostages have been released .\n",
            "['and', 'as', 'promised', ',', 'the', 'remains', 'of', 'our', 'fallen', 'heroes', 'are', 'being', 'returned', 'home', 'to', 'lay', 'at', 'rest', 'in', 'american', 'soil', '.', '\\n\\n']\n",
            "and as promised , the remains of our fallen heroes are being returned home to lay at rest in american soil . <unk>\n",
            "['i', 'would', 'like', 'to', 'thank', 'chairman', 'kim', 'for', 'his', 'courage', 'and', 'for', 'the', 'steps', 'he', 'has', 'taken', ',', 'though', 'much', 'work', 'remains', 'to', 'be', 'done', '.']\n",
            "i would like to thank chairman <unk> for his courage and for the steps he has taken , though much work remains to be done .\n",
            "['the', 'sanctions', 'will', 'stay', 'in', 'place', 'until', 'denuclearization', 'occurs', '.', '\\n\\n']\n",
            "the <unk> will stay in place until <unk> occurs . <unk>\n",
            "['i', 'also', 'want', 'to', 'thank', 'the', 'many', 'member', 'states', 'who', 'helped', 'us', 'reach', 'this', 'moment', '--', 'a', 'moment', 'that', 'is', 'actually', 'far', 'greater', 'than', 'people', 'would', 'understand', ';', 'far', 'greater', '--', 'but', 'for', 'also', 'their', 'support', 'and', 'the', 'critical', 'support', 'that', 'we', 'will', 'all', 'need', 'going', 'forward', '.', '\\n\\n']\n",
            "i also want to thank the many member states who helped us reach this moment -- a moment that is actually far greater than people would understand ; far greater -- but for also their support and the critical support that we will all need going forward . <unk>\n",
            "['a', 'special', 'thanks', 'to', 'president', 'moon', 'of', 'south', 'korea', ',', 'prime', 'minister', 'abe', 'of', 'japan', ',', 'and', 'president', 'xi', 'of', 'china', '.']\n",
            "a special thanks to president moon of south <unk> , prime minister <unk> of <unk> , and president <unk> of china .\n"
          ],
          "name": "stdout"
        }
      ]
    },
    {
      "metadata": {
        "id": "iP_g3_JHgVOA",
        "colab_type": "code",
        "colab": {}
      },
      "cell_type": "code",
      "source": [
        "positive=[]\n",
        "negative=[]\n",
        "neutral = []\n",
        "p_t,n_t=0.9,0.3\n",
        "for i,j in k:\n",
        "    if i>=p_t:\n",
        "        positive.append(j)\n",
        "    elif i<n_t:\n",
        "        negative.append(j)\n",
        "    else:\n",
        "        neutral.append(j)"
      ],
      "execution_count": 0,
      "outputs": []
    },
    {
      "metadata": {
        "id": "Ky34OCuVnn0n",
        "colab_type": "code",
        "colab": {}
      },
      "cell_type": "code",
      "source": [
        "positive_words = ' . '.join(positive)\n",
        "negative_words = ' . '.join(negative)\n",
        "neutral_words = ' . '.join(neutral)"
      ],
      "execution_count": 0,
      "outputs": []
    },
    {
      "metadata": {
        "id": "1UCf_vqNgoa-",
        "colab_type": "code",
        "colab": {}
      },
      "cell_type": "code",
      "source": [
        "def print_list(a):\n",
        "    for i in a:\n",
        "        print(i)"
      ],
      "execution_count": 0,
      "outputs": []
    },
    {
      "metadata": {
        "id": "FdMGy6AtoIvU",
        "colab_type": "code",
        "colab": {
          "base_uri": "https://localhost:8080/",
          "height": 292
        },
        "outputId": "2030ea46-5ec8-47cb-f0e2-f8987b59da78"
      },
      "cell_type": "code",
      "source": [
        "print_list(positive)"
      ],
      "execution_count": 86,
      "outputs": [
        {
          "output_type": "stream",
          "text": [
            "our military will soon be more powerful than it has ever been before.\n",
            "\n",
            "\n",
            "and we are also standing up for the world.\n",
            "\n",
            "\n",
            "this is great news for our citizens and for peace-loving people everywhere.\n",
            "i have forged close relationships and friendships and strong partnerships with the leaders of many nations in this room, and our approach has already yielded incredible change.\n",
            "\n",
            "with support from many countries here today, we have engaged with north korea to replace the specter of conflict with a bold and new push for peace.\n",
            "\n",
            "\n",
            "i also want to thank the many member states who helped us reach this moment -- a moment that is actually far greater than people would understand; far greater -- but for also their support and the critical support that we will all need going forward.\n",
            "\n",
            "\n"
          ],
          "name": "stdout"
        }
      ]
    },
    {
      "metadata": {
        "id": "pJ5rlFFloXib",
        "colab_type": "code",
        "colab": {
          "base_uri": "https://localhost:8080/",
          "height": 204
        },
        "outputId": "82378119-05c2-4e46-d7ac-65bdf03cfc84"
      },
      "cell_type": "code",
      "source": [
        "print_list(negative)"
      ],
      "execution_count": 87,
      "outputs": [
        {
          "output_type": "stream",
          "text": [
            "we’ve started the construction of a major border wall, and we have greatly strengthened border security.\n",
            "\n",
            "\n",
            "from warsaw to brussels, to tokyo to singapore, it has been my highest honor to represent the united states abroad.\n",
            "in june, i traveled to singapore to meet face to face with north korea’s leader, chairman kim jong un.\n",
            "since that meeting, we have already seen a number of encouraging measures that few could have imagined only a short time ago.\n",
            "\n",
            "\n",
            "some military facilities are already being dismantled.\n",
            "our hostages have been released.\n",
            "a special thanks to president moon of south korea, prime minister abe of japan, and president xi of china.\n"
          ],
          "name": "stdout"
        }
      ]
    },
    {
      "metadata": {
        "id": "UUx4-RRkoemC",
        "colab_type": "code",
        "colab": {
          "base_uri": "https://localhost:8080/",
          "height": 748
        },
        "outputId": "cbd87969-6c6d-47cd-a4db-fcf0f93c9f2d"
      },
      "cell_type": "code",
      "source": [
        "pprint(neutral_words)"
      ],
      "execution_count": 81,
      "outputs": [
        {
          "output_type": "stream",
          "text": [
            "('we have passed the biggest tax cuts and reforms in american history. . we’ve '\n",
            " 'started the construction of a major border wall, and we have greatly '\n",
            " 'strengthened border security.\\n'\n",
            " '\\n'\n",
            " ' . we have secured record funding for our military -- $700 billion this '\n",
            " 'year, and $716 billion next year. . in other words, the united states is '\n",
            " 'stronger, safer, and a richer country than it was when i assumed office less '\n",
            " 'than two years ago.\\n'\n",
            " '\\n'\n",
            " ' . we are standing up for america and for the american people. . we believe '\n",
            " 'that when nations respect the rights of their neighbors, and defend the '\n",
            " 'interests of their people, they can better work together to secure the '\n",
            " 'blessings of safety, prosperity, and peace.\\n'\n",
            " '\\n'\n",
            " ' . each of us here today is the emissary of a distinct culture, a rich '\n",
            " 'history, and a people bound together by ties of memory, tradition, and the '\n",
            " 'values that make our homelands like nowhere else on earth.\\n'\n",
            " '\\n'\n",
            " ' . that is why america will always choose independence and cooperation over '\n",
            " 'global governance, control, and domination.\\n'\n",
            " '\\n'\n",
            " ' . i honor the right of every nation in this room to pursue its own customs, '\n",
            " 'beliefs, and traditions. . the united states will not tell you how to live '\n",
            " 'or work or worship. . we only ask that you honor our sovereignty in return.\\n'\n",
            " '\\n'\n",
            " ' . in june, i traveled to singapore to meet face to face with north korea’s '\n",
            " 'leader, chairman kim jong un. . we had highly productive conversations and '\n",
            " 'meetings, and we agreed that it was in both countries’ interest to pursue '\n",
            " 'the denuclearization of the korean peninsula. . since that meeting, we have '\n",
            " 'already seen a number of encouraging measures that few could have imagined '\n",
            " 'only a short time ago.\\n'\n",
            " '\\n'\n",
            " ' . the missiles and rockets are no longer flying in every direction. . '\n",
            " 'nuclear testing has stopped. . some military facilities are already being '\n",
            " 'dismantled. . and as promised, the remains of our fallen heroes are being '\n",
            " 'returned home to lay at rest in american soil.\\n'\n",
            " '\\n'\n",
            " ' . i would like to thank chairman kim for his courage and for the steps he '\n",
            " 'has taken, though much work remains to be done. . the sanctions will stay in '\n",
            " 'place until denuclearization occurs.\\n'\n",
            " '\\n'\n",
            " ' . a special thanks to president moon of south korea, prime minister abe of '\n",
            " 'japan, and president xi of china.')\n"
          ],
          "name": "stdout"
        }
      ]
    }
  ]
}